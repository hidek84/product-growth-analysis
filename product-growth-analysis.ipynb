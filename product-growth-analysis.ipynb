{
 "cells": [
  {
   "cell_type": "code",
   "execution_count": 1171,
   "id": "5ce7887d-99ce-4d2c-ab4f-6dd05e68765a",
   "metadata": {
    "tags": []
   },
   "outputs": [
    {
     "data": {
      "text/html": [
       "<div>\n",
       "<style scoped>\n",
       "    .dataframe tbody tr th:only-of-type {\n",
       "        vertical-align: middle;\n",
       "    }\n",
       "\n",
       "    .dataframe tbody tr th {\n",
       "        vertical-align: top;\n",
       "    }\n",
       "\n",
       "    .dataframe thead th {\n",
       "        text-align: right;\n",
       "    }\n",
       "</style>\n",
       "<table border=\"1\" class=\"dataframe\">\n",
       "  <thead>\n",
       "    <tr style=\"text-align: right;\">\n",
       "      <th></th>\n",
       "      <th>timestamp</th>\n",
       "      <th>count</th>\n",
       "      <th>username</th>\n",
       "      <th>group</th>\n",
       "    </tr>\n",
       "  </thead>\n",
       "  <tbody>\n",
       "    <tr>\n",
       "      <th>0</th>\n",
       "      <td>2021-12-27</td>\n",
       "      <td>1</td>\n",
       "      <td>user-2</td>\n",
       "      <td>group-1</td>\n",
       "    </tr>\n",
       "    <tr>\n",
       "      <th>1</th>\n",
       "      <td>2021-12-27</td>\n",
       "      <td>1</td>\n",
       "      <td>user-5</td>\n",
       "      <td>group-1</td>\n",
       "    </tr>\n",
       "    <tr>\n",
       "      <th>2</th>\n",
       "      <td>2022-01-03</td>\n",
       "      <td>1</td>\n",
       "      <td>user-14</td>\n",
       "      <td>group-1</td>\n",
       "    </tr>\n",
       "    <tr>\n",
       "      <th>3</th>\n",
       "      <td>2022-01-03</td>\n",
       "      <td>1</td>\n",
       "      <td>user-3</td>\n",
       "      <td>group-0</td>\n",
       "    </tr>\n",
       "    <tr>\n",
       "      <th>4</th>\n",
       "      <td>2022-01-03</td>\n",
       "      <td>1</td>\n",
       "      <td>user-15</td>\n",
       "      <td>group-2</td>\n",
       "    </tr>\n",
       "  </tbody>\n",
       "</table>\n",
       "</div>"
      ],
      "text/plain": [
       "   timestamp  count username    group\n",
       "0 2021-12-27      1   user-2  group-1\n",
       "1 2021-12-27      1   user-5  group-1\n",
       "2 2022-01-03      1  user-14  group-1\n",
       "3 2022-01-03      1   user-3  group-0\n",
       "4 2022-01-03      1  user-15  group-2"
      ]
     },
     "execution_count": 1171,
     "metadata": {},
     "output_type": "execute_result"
    }
   ],
   "source": [
    "import numpy as np\n",
    "import pandas as pd\n",
    "import plotly.graph_objects as go\n",
    "from IPython.display import display\n",
    "from plotly.subplots import make_subplots\n",
    "\n",
    "pd.options.plotting.backend = \"plotly\"\n",
    "\n",
    "\n",
    "def generate_test_data():\n",
    "    num_users = 20\n",
    "    num_groups = 3\n",
    "    num_repeat = 10\n",
    "\n",
    "    dates = pd.date_range(start=\"2022-01-01\", end=\"2022-12-31\")\n",
    "    total_num = dates.shape[0] * num_repeat\n",
    "    usernames = [\n",
    "        f\"user-{num}\"\n",
    "        for num in (np.random.rand(total_num) * num_users).astype(int).tolist()\n",
    "    ]\n",
    "    groups = [\n",
    "        f\"group-{num}\"\n",
    "        for num in (np.random.rand(total_num) * num_groups).astype(int).tolist()\n",
    "    ]\n",
    "\n",
    "    base_df = (\n",
    "        pd.concat(\n",
    "            [pd.DataFrame(dates, columns=[\"timestamp\"]) for _ in range(num_repeat)]\n",
    "        )\n",
    "        .reset_index(drop=True)\n",
    "        .assign(count=1)\n",
    "    )\n",
    "    df = base_df.assign(\n",
    "        username=usernames,\n",
    "        group=groups,\n",
    "    )\n",
    "    return df.drop_duplicates()\n",
    "\n",
    "\n",
    "def convert_freq(df, freq):\n",
    "    df[\"timestamp\"] = df[\"timestamp\"].dt.to_period(freq=freq).dt.start_time\n",
    "    return df.drop_duplicates()\n",
    "\n",
    "\n",
    "df = generate_test_data()\n",
    "df = convert_freq(df, \"W\")\n",
    "df.head()"
   ]
  },
  {
   "cell_type": "code",
   "execution_count": 1174,
   "id": "23052372-06e2-4d12-893e-cc80fba91949",
   "metadata": {},
   "outputs": [
    {
     "data": {
      "text/html": [
       "<div>\n",
       "<style scoped>\n",
       "    .dataframe tbody tr th:only-of-type {\n",
       "        vertical-align: middle;\n",
       "    }\n",
       "\n",
       "    .dataframe tbody tr th {\n",
       "        vertical-align: top;\n",
       "    }\n",
       "\n",
       "    .dataframe thead th {\n",
       "        text-align: right;\n",
       "    }\n",
       "</style>\n",
       "<table border=\"1\" class=\"dataframe\">\n",
       "  <thead>\n",
       "    <tr style=\"text-align: right;\">\n",
       "      <th></th>\n",
       "      <th>timestamp</th>\n",
       "      <th>2021-12-27</th>\n",
       "      <th>2022-01-03</th>\n",
       "      <th>2022-01-10</th>\n",
       "      <th>2022-01-17</th>\n",
       "      <th>2022-01-24</th>\n",
       "      <th>2022-01-31</th>\n",
       "      <th>2022-02-07</th>\n",
       "      <th>2022-02-14</th>\n",
       "      <th>2022-02-21</th>\n",
       "      <th>2022-02-28</th>\n",
       "      <th>...</th>\n",
       "      <th>2022-10-24</th>\n",
       "      <th>2022-10-31</th>\n",
       "      <th>2022-11-07</th>\n",
       "      <th>2022-11-14</th>\n",
       "      <th>2022-11-21</th>\n",
       "      <th>2022-11-28</th>\n",
       "      <th>2022-12-05</th>\n",
       "      <th>2022-12-12</th>\n",
       "      <th>2022-12-19</th>\n",
       "      <th>2022-12-26</th>\n",
       "    </tr>\n",
       "    <tr>\n",
       "      <th>username</th>\n",
       "      <th>group</th>\n",
       "      <th></th>\n",
       "      <th></th>\n",
       "      <th></th>\n",
       "      <th></th>\n",
       "      <th></th>\n",
       "      <th></th>\n",
       "      <th></th>\n",
       "      <th></th>\n",
       "      <th></th>\n",
       "      <th></th>\n",
       "      <th></th>\n",
       "      <th></th>\n",
       "      <th></th>\n",
       "      <th></th>\n",
       "      <th></th>\n",
       "      <th></th>\n",
       "      <th></th>\n",
       "      <th></th>\n",
       "      <th></th>\n",
       "      <th></th>\n",
       "      <th></th>\n",
       "    </tr>\n",
       "  </thead>\n",
       "  <tbody>\n",
       "    <tr>\n",
       "      <th rowspan=\"3\" valign=\"top\">user-0</th>\n",
       "      <th>group-0</th>\n",
       "      <td>0.0</td>\n",
       "      <td>1.0</td>\n",
       "      <td>1.0</td>\n",
       "      <td>0.0</td>\n",
       "      <td>1.0</td>\n",
       "      <td>1.0</td>\n",
       "      <td>1.0</td>\n",
       "      <td>0.0</td>\n",
       "      <td>1.0</td>\n",
       "      <td>1.0</td>\n",
       "      <td>...</td>\n",
       "      <td>1.0</td>\n",
       "      <td>1.0</td>\n",
       "      <td>1.0</td>\n",
       "      <td>1.0</td>\n",
       "      <td>1.0</td>\n",
       "      <td>1.0</td>\n",
       "      <td>0.0</td>\n",
       "      <td>1.0</td>\n",
       "      <td>1.0</td>\n",
       "      <td>0.0</td>\n",
       "    </tr>\n",
       "    <tr>\n",
       "      <th>group-1</th>\n",
       "      <td>0.0</td>\n",
       "      <td>1.0</td>\n",
       "      <td>1.0</td>\n",
       "      <td>1.0</td>\n",
       "      <td>0.0</td>\n",
       "      <td>1.0</td>\n",
       "      <td>1.0</td>\n",
       "      <td>1.0</td>\n",
       "      <td>0.0</td>\n",
       "      <td>1.0</td>\n",
       "      <td>...</td>\n",
       "      <td>1.0</td>\n",
       "      <td>1.0</td>\n",
       "      <td>1.0</td>\n",
       "      <td>0.0</td>\n",
       "      <td>1.0</td>\n",
       "      <td>1.0</td>\n",
       "      <td>1.0</td>\n",
       "      <td>1.0</td>\n",
       "      <td>1.0</td>\n",
       "      <td>1.0</td>\n",
       "    </tr>\n",
       "    <tr>\n",
       "      <th>group-2</th>\n",
       "      <td>0.0</td>\n",
       "      <td>1.0</td>\n",
       "      <td>1.0</td>\n",
       "      <td>1.0</td>\n",
       "      <td>1.0</td>\n",
       "      <td>1.0</td>\n",
       "      <td>1.0</td>\n",
       "      <td>0.0</td>\n",
       "      <td>0.0</td>\n",
       "      <td>1.0</td>\n",
       "      <td>...</td>\n",
       "      <td>1.0</td>\n",
       "      <td>0.0</td>\n",
       "      <td>1.0</td>\n",
       "      <td>1.0</td>\n",
       "      <td>0.0</td>\n",
       "      <td>1.0</td>\n",
       "      <td>0.0</td>\n",
       "      <td>1.0</td>\n",
       "      <td>0.0</td>\n",
       "      <td>0.0</td>\n",
       "    </tr>\n",
       "    <tr>\n",
       "      <th rowspan=\"2\" valign=\"top\">user-1</th>\n",
       "      <th>group-0</th>\n",
       "      <td>1.0</td>\n",
       "      <td>1.0</td>\n",
       "      <td>0.0</td>\n",
       "      <td>0.0</td>\n",
       "      <td>1.0</td>\n",
       "      <td>0.0</td>\n",
       "      <td>0.0</td>\n",
       "      <td>1.0</td>\n",
       "      <td>1.0</td>\n",
       "      <td>0.0</td>\n",
       "      <td>...</td>\n",
       "      <td>1.0</td>\n",
       "      <td>1.0</td>\n",
       "      <td>0.0</td>\n",
       "      <td>1.0</td>\n",
       "      <td>1.0</td>\n",
       "      <td>1.0</td>\n",
       "      <td>1.0</td>\n",
       "      <td>1.0</td>\n",
       "      <td>0.0</td>\n",
       "      <td>1.0</td>\n",
       "    </tr>\n",
       "    <tr>\n",
       "      <th>group-1</th>\n",
       "      <td>0.0</td>\n",
       "      <td>1.0</td>\n",
       "      <td>1.0</td>\n",
       "      <td>0.0</td>\n",
       "      <td>1.0</td>\n",
       "      <td>0.0</td>\n",
       "      <td>1.0</td>\n",
       "      <td>0.0</td>\n",
       "      <td>1.0</td>\n",
       "      <td>0.0</td>\n",
       "      <td>...</td>\n",
       "      <td>0.0</td>\n",
       "      <td>0.0</td>\n",
       "      <td>1.0</td>\n",
       "      <td>1.0</td>\n",
       "      <td>1.0</td>\n",
       "      <td>1.0</td>\n",
       "      <td>1.0</td>\n",
       "      <td>1.0</td>\n",
       "      <td>1.0</td>\n",
       "      <td>1.0</td>\n",
       "    </tr>\n",
       "  </tbody>\n",
       "</table>\n",
       "<p>5 rows × 53 columns</p>\n",
       "</div>"
      ],
      "text/plain": [
       "timestamp         2021-12-27  2022-01-03  2022-01-10  2022-01-17  2022-01-24  \\\n",
       "username group                                                                 \n",
       "user-0   group-0         0.0         1.0         1.0         0.0         1.0   \n",
       "         group-1         0.0         1.0         1.0         1.0         0.0   \n",
       "         group-2         0.0         1.0         1.0         1.0         1.0   \n",
       "user-1   group-0         1.0         1.0         0.0         0.0         1.0   \n",
       "         group-1         0.0         1.0         1.0         0.0         1.0   \n",
       "\n",
       "timestamp         2022-01-31  2022-02-07  2022-02-14  2022-02-21  2022-02-28  \\\n",
       "username group                                                                 \n",
       "user-0   group-0         1.0         1.0         0.0         1.0         1.0   \n",
       "         group-1         1.0         1.0         1.0         0.0         1.0   \n",
       "         group-2         1.0         1.0         0.0         0.0         1.0   \n",
       "user-1   group-0         0.0         0.0         1.0         1.0         0.0   \n",
       "         group-1         0.0         1.0         0.0         1.0         0.0   \n",
       "\n",
       "timestamp         ...  2022-10-24  2022-10-31  2022-11-07  2022-11-14  \\\n",
       "username group    ...                                                   \n",
       "user-0   group-0  ...         1.0         1.0         1.0         1.0   \n",
       "         group-1  ...         1.0         1.0         1.0         0.0   \n",
       "         group-2  ...         1.0         0.0         1.0         1.0   \n",
       "user-1   group-0  ...         1.0         1.0         0.0         1.0   \n",
       "         group-1  ...         0.0         0.0         1.0         1.0   \n",
       "\n",
       "timestamp         2022-11-21  2022-11-28  2022-12-05  2022-12-12  2022-12-19  \\\n",
       "username group                                                                 \n",
       "user-0   group-0         1.0         1.0         0.0         1.0         1.0   \n",
       "         group-1         1.0         1.0         1.0         1.0         1.0   \n",
       "         group-2         0.0         1.0         0.0         1.0         0.0   \n",
       "user-1   group-0         1.0         1.0         1.0         1.0         0.0   \n",
       "         group-1         1.0         1.0         1.0         1.0         1.0   \n",
       "\n",
       "timestamp         2022-12-26  \n",
       "username group                \n",
       "user-0   group-0         0.0  \n",
       "         group-1         1.0  \n",
       "         group-2         0.0  \n",
       "user-1   group-0         1.0  \n",
       "         group-1         1.0  \n",
       "\n",
       "[5 rows x 53 columns]"
      ]
     },
     "metadata": {},
     "output_type": "display_data"
    }
   ],
   "source": [
    "def create_matrix(df, add_column):\n",
    "    return (\n",
    "        df.reset_index()\n",
    "        .pivot(index=[\"username\", add_column], columns=[\"timestamp\"], values=[\"count\"])\n",
    "        .droplevel(axis=1, level=0)\n",
    "        .fillna(0)\n",
    "    )\n",
    "\n",
    "\n",
    "def create_matrix_username_columns(df, add_column):\n",
    "    return (\n",
    "        df.reset_index()\n",
    "        .pivot(index=[\"timestamp\", add_column], columns=[\"username\"], values=[\"count\"])\n",
    "        .droplevel(axis=1, level=0)\n",
    "        .fillna(0)\n",
    "    )\n",
    "\n",
    "\n",
    "def common_new_user(df, add_column):\n",
    "    matrix_df = create_matrix(df, add_column)\n",
    "    new_df = (\n",
    "        matrix_df.idxmax(axis=1)\n",
    "        .to_frame(name=\"timestamp\")\n",
    "        .assign(count=1)\n",
    "        .reset_index()\n",
    "        .pivot(index=[\"username\", add_column], columns=[\"timestamp\"], values=\"count\")\n",
    "        .sort_index()\n",
    "        .fillna(0)\n",
    "    )\n",
    "    return new_df\n",
    "\n",
    "\n",
    "def get_new_user(df, add_column):\n",
    "    return (\n",
    "        common_new_user(df, add_column)\n",
    "        .stack()\n",
    "        .to_frame(name=\"count\")\n",
    "        .reset_index()\n",
    "        .pivot(index=[\"timestamp\", add_column], columns=\"username\", values=\"count\")\n",
    "        .sum(axis=1)\n",
    "    )\n",
    "\n",
    "\n",
    "def get_new_user_mask(df, add_column):\n",
    "    return common_new_user(df, add_column).cumsum(axis=1).astype(bool)\n",
    "\n",
    "\n",
    "def get_retained_user(df, add_column):\n",
    "    matrix_df = create_matrix(df, add_column)\n",
    "    return (\n",
    "        ((matrix_df - matrix_df.shift(1, axis=1) == 0) & matrix_df.astype(bool))\n",
    "        .stack()\n",
    "        .to_frame(\"count\")\n",
    "        .reset_index()\n",
    "        .pivot(index=[\"timestamp\", add_column], columns=\"username\", values=\"count\")\n",
    "        .sum(axis=1)\n",
    "    )\n",
    "\n",
    "\n",
    "def get_resurrected_user(df, add_column):\n",
    "    matrix_df = create_matrix(df, add_column)\n",
    "    shifted_df = matrix_df - matrix_df.shift(1, axis=1) == 1\n",
    "    not_new_user_df = ~common_new_user(df, add_column).astype(bool)\n",
    "    left, right = shifted_df.align(not_new_user_df, axis=1, join=\"outer\")\n",
    "    return (\n",
    "        (left & right.fillna(True))\n",
    "        .stack()\n",
    "        .to_frame(\"count\")\n",
    "        .reset_index()\n",
    "        .pivot(index=[\"timestamp\", add_column], columns=\"username\", values=\"count\")\n",
    "        .sum(axis=1)\n",
    "    )\n",
    "\n",
    "\n",
    "def get_churned_user(df, add_column):\n",
    "    matrix_df = create_matrix(df, add_column)\n",
    "    return (\n",
    "        ((matrix_df - matrix_df.shift(1, axis=1) == -1) & ~matrix_df.astype(bool))\n",
    "        .stack()\n",
    "        .to_frame(\"count\")\n",
    "        .reset_index()\n",
    "        .pivot(index=[\"timestamp\", add_column], columns=\"username\", values=\"count\")\n",
    "        .sum(axis=1)\n",
    "    )\n",
    "\n",
    "\n",
    "def get_continuous_churned_user(df, add_column):\n",
    "    matrix_df = create_matrix(df, add_column)\n",
    "    return (\n",
    "        ((matrix_df - matrix_df.shift(1, axis=1) == 0) & ~matrix_df.astype(bool))\n",
    "        .stack()\n",
    "        .to_frame(\"count\")\n",
    "        .reset_index()\n",
    "        .pivot(index=[\"timestamp\", add_column], columns=\"username\", values=\"count\")\n",
    "        .sum(axis=1)\n",
    "    )\n",
    "\n",
    "\n",
    "def get_au1_au2(df, add_column, freq1, freq2):\n",
    "    return (\n",
    "        pd.DataFrame(df)\n",
    "        .reset_index()\n",
    "        .groupby([pd.Grouper(key=\"timestamp\", freq=freq1), add_column])\n",
    "        .sum()\n",
    "        / pd.DataFrame(df)\n",
    "        .reset_index()\n",
    "        .groupby([pd.Grouper(key=\"timestamp\", freq=freq2), add_column])\n",
    "        .sum()\n",
    "    ).dropna()[[\"count\"]]\n",
    "\n",
    "\n",
    "COL_GROUP = \"group\"\n",
    "\n",
    "# Test\n",
    "display(create_matrix(df, COL_GROUP).head())\n",
    "# display(create_matrix_username_columns(df, COL_GROUP).head())\n",
    "# display(get_new_user_mask(df, COL_GROUP).head())\n",
    "# display(get_new_user(df, COL_GROUP).head())\n",
    "# display(get_retained_user(df, COL_GROUP).head())\n",
    "# display(get_resurrected_user(df, COL_GROUP).head())\n",
    "# display(get_churned_user(df, COL_GROUP).head())\n",
    "# display(get_continuous_churned_user(df, COL_GROUP).head())\n",
    "# display(get_au1_au2(df, COL_GROUP, 'W', '4W').head())"
   ]
  },
  {
   "cell_type": "markdown",
   "id": "62b892ed-86be-4849-8e34-a4a66c033038",
   "metadata": {},
   "source": [
    "# Quick Ratio"
   ]
  },
  {
   "cell_type": "code",
   "execution_count": 1170,
   "id": "6b4e4fbd-88c1-404f-b655-3ac2f0276655",
   "metadata": {
    "tags": []
   },
   "outputs": [
    {
     "data": {
      "application/vnd.plotly.v1+json": {
       "config": {
        "plotlyServerURL": "https://plot.ly"
       },
       "data": [
        {
         "alignmentgroup": "True",
         "hovertemplate": "variable=new_user<br>group=group-0<br>timestamp=%{x}<br>value=%{y}<extra></extra>",
         "legendgroup": "new_user",
         "marker": {
          "color": "#636efa",
          "pattern": {
           "shape": ""
          }
         },
         "name": "new_user",
         "offsetgroup": "new_user",
         "orientation": "v",
         "showlegend": true,
         "textposition": "auto",
         "type": "bar",
         "x": [
          "2021-12-27T00:00:00",
          "2022-01-03T00:00:00",
          "2022-01-10T00:00:00",
          "2022-01-17T00:00:00",
          "2022-01-24T00:00:00",
          "2022-01-31T00:00:00",
          "2022-02-07T00:00:00",
          "2022-02-14T00:00:00",
          "2022-02-21T00:00:00",
          "2022-02-28T00:00:00",
          "2022-03-07T00:00:00",
          "2022-03-14T00:00:00",
          "2022-03-21T00:00:00",
          "2022-03-28T00:00:00",
          "2022-04-04T00:00:00",
          "2022-04-11T00:00:00",
          "2022-04-18T00:00:00",
          "2022-04-25T00:00:00",
          "2022-05-02T00:00:00",
          "2022-05-09T00:00:00",
          "2022-05-16T00:00:00",
          "2022-05-23T00:00:00",
          "2022-05-30T00:00:00",
          "2022-06-06T00:00:00",
          "2022-06-13T00:00:00",
          "2022-06-20T00:00:00",
          "2022-06-27T00:00:00",
          "2022-07-04T00:00:00",
          "2022-07-11T00:00:00",
          "2022-07-18T00:00:00",
          "2022-07-25T00:00:00",
          "2022-08-01T00:00:00",
          "2022-08-08T00:00:00",
          "2022-08-15T00:00:00",
          "2022-08-22T00:00:00",
          "2022-08-29T00:00:00",
          "2022-09-05T00:00:00",
          "2022-09-12T00:00:00",
          "2022-09-19T00:00:00",
          "2022-09-26T00:00:00",
          "2022-10-03T00:00:00",
          "2022-10-10T00:00:00",
          "2022-10-17T00:00:00",
          "2022-10-24T00:00:00",
          "2022-10-31T00:00:00",
          "2022-11-07T00:00:00",
          "2022-11-14T00:00:00",
          "2022-11-21T00:00:00",
          "2022-11-28T00:00:00",
          "2022-12-05T00:00:00",
          "2022-12-12T00:00:00",
          "2022-12-19T00:00:00",
          "2022-12-26T00:00:00"
         ],
         "xaxis": "x3",
         "y": [
          2,
          12,
          4,
          2,
          0,
          0,
          0,
          0,
          0,
          0,
          0,
          0,
          0,
          0,
          0,
          0,
          0,
          0,
          0,
          0,
          0,
          0,
          0,
          0,
          0,
          0,
          0,
          0,
          0,
          0,
          0,
          0,
          0,
          0,
          0,
          0,
          0,
          0,
          0,
          0,
          0,
          0,
          0,
          0,
          0,
          0,
          0,
          0,
          0,
          0,
          0,
          0,
          0
         ],
         "yaxis": "y3"
        },
        {
         "alignmentgroup": "True",
         "hovertemplate": "variable=new_user<br>group=group-1<br>timestamp=%{x}<br>value=%{y}<extra></extra>",
         "legendgroup": "new_user",
         "marker": {
          "color": "#636efa",
          "pattern": {
           "shape": ""
          }
         },
         "name": "new_user",
         "offsetgroup": "new_user",
         "orientation": "v",
         "showlegend": false,
         "textposition": "auto",
         "type": "bar",
         "x": [
          "2021-12-27T00:00:00",
          "2022-01-03T00:00:00",
          "2022-01-10T00:00:00",
          "2022-01-17T00:00:00",
          "2022-01-24T00:00:00",
          "2022-01-31T00:00:00",
          "2022-02-07T00:00:00",
          "2022-02-14T00:00:00",
          "2022-02-21T00:00:00",
          "2022-02-28T00:00:00",
          "2022-03-07T00:00:00",
          "2022-03-14T00:00:00",
          "2022-03-21T00:00:00",
          "2022-03-28T00:00:00",
          "2022-04-04T00:00:00",
          "2022-04-11T00:00:00",
          "2022-04-18T00:00:00",
          "2022-04-25T00:00:00",
          "2022-05-02T00:00:00",
          "2022-05-09T00:00:00",
          "2022-05-16T00:00:00",
          "2022-05-23T00:00:00",
          "2022-05-30T00:00:00",
          "2022-06-06T00:00:00",
          "2022-06-13T00:00:00",
          "2022-06-20T00:00:00",
          "2022-06-27T00:00:00",
          "2022-07-04T00:00:00",
          "2022-07-11T00:00:00",
          "2022-07-18T00:00:00",
          "2022-07-25T00:00:00",
          "2022-08-01T00:00:00",
          "2022-08-08T00:00:00",
          "2022-08-15T00:00:00",
          "2022-08-22T00:00:00",
          "2022-08-29T00:00:00",
          "2022-09-05T00:00:00",
          "2022-09-12T00:00:00",
          "2022-09-19T00:00:00",
          "2022-09-26T00:00:00",
          "2022-10-03T00:00:00",
          "2022-10-10T00:00:00",
          "2022-10-17T00:00:00",
          "2022-10-24T00:00:00",
          "2022-10-31T00:00:00",
          "2022-11-07T00:00:00",
          "2022-11-14T00:00:00",
          "2022-11-21T00:00:00",
          "2022-11-28T00:00:00",
          "2022-12-05T00:00:00",
          "2022-12-12T00:00:00",
          "2022-12-19T00:00:00",
          "2022-12-26T00:00:00"
         ],
         "xaxis": "x4",
         "y": [
          10,
          7,
          2,
          1,
          0,
          0,
          0,
          0,
          0,
          0,
          0,
          0,
          0,
          0,
          0,
          0,
          0,
          0,
          0,
          0,
          0,
          0,
          0,
          0,
          0,
          0,
          0,
          0,
          0,
          0,
          0,
          0,
          0,
          0,
          0,
          0,
          0,
          0,
          0,
          0,
          0,
          0,
          0,
          0,
          0,
          0,
          0,
          0,
          0,
          0,
          0,
          0,
          0
         ],
         "yaxis": "y4"
        },
        {
         "alignmentgroup": "True",
         "hovertemplate": "variable=new_user<br>group=group-2<br>timestamp=%{x}<br>value=%{y}<extra></extra>",
         "legendgroup": "new_user",
         "marker": {
          "color": "#636efa",
          "pattern": {
           "shape": ""
          }
         },
         "name": "new_user",
         "offsetgroup": "new_user",
         "orientation": "v",
         "showlegend": false,
         "textposition": "auto",
         "type": "bar",
         "x": [
          "2021-12-27T00:00:00",
          "2022-01-03T00:00:00",
          "2022-01-10T00:00:00",
          "2022-01-17T00:00:00",
          "2022-01-24T00:00:00",
          "2022-01-31T00:00:00",
          "2022-02-07T00:00:00",
          "2022-02-14T00:00:00",
          "2022-02-21T00:00:00",
          "2022-02-28T00:00:00",
          "2022-03-07T00:00:00",
          "2022-03-14T00:00:00",
          "2022-03-21T00:00:00",
          "2022-03-28T00:00:00",
          "2022-04-04T00:00:00",
          "2022-04-11T00:00:00",
          "2022-04-18T00:00:00",
          "2022-04-25T00:00:00",
          "2022-05-02T00:00:00",
          "2022-05-09T00:00:00",
          "2022-05-16T00:00:00",
          "2022-05-23T00:00:00",
          "2022-05-30T00:00:00",
          "2022-06-06T00:00:00",
          "2022-06-13T00:00:00",
          "2022-06-20T00:00:00",
          "2022-06-27T00:00:00",
          "2022-07-04T00:00:00",
          "2022-07-11T00:00:00",
          "2022-07-18T00:00:00",
          "2022-07-25T00:00:00",
          "2022-08-01T00:00:00",
          "2022-08-08T00:00:00",
          "2022-08-15T00:00:00",
          "2022-08-22T00:00:00",
          "2022-08-29T00:00:00",
          "2022-09-05T00:00:00",
          "2022-09-12T00:00:00",
          "2022-09-19T00:00:00",
          "2022-09-26T00:00:00",
          "2022-10-03T00:00:00",
          "2022-10-10T00:00:00",
          "2022-10-17T00:00:00",
          "2022-10-24T00:00:00",
          "2022-10-31T00:00:00",
          "2022-11-07T00:00:00",
          "2022-11-14T00:00:00",
          "2022-11-21T00:00:00",
          "2022-11-28T00:00:00",
          "2022-12-05T00:00:00",
          "2022-12-12T00:00:00",
          "2022-12-19T00:00:00",
          "2022-12-26T00:00:00"
         ],
         "xaxis": "x",
         "y": [
          5,
          10,
          4,
          1,
          0,
          0,
          0,
          0,
          0,
          0,
          0,
          0,
          0,
          0,
          0,
          0,
          0,
          0,
          0,
          0,
          0,
          0,
          0,
          0,
          0,
          0,
          0,
          0,
          0,
          0,
          0,
          0,
          0,
          0,
          0,
          0,
          0,
          0,
          0,
          0,
          0,
          0,
          0,
          0,
          0,
          0,
          0,
          0,
          0,
          0,
          0,
          0,
          0
         ],
         "yaxis": "y"
        },
        {
         "alignmentgroup": "True",
         "hovertemplate": "variable=retained_user<br>group=group-0<br>timestamp=%{x}<br>value=%{y}<extra></extra>",
         "legendgroup": "retained_user",
         "marker": {
          "color": "#EF553B",
          "pattern": {
           "shape": ""
          }
         },
         "name": "retained_user",
         "offsetgroup": "retained_user",
         "orientation": "v",
         "showlegend": true,
         "textposition": "auto",
         "type": "bar",
         "x": [
          "2021-12-27T00:00:00",
          "2022-01-03T00:00:00",
          "2022-01-10T00:00:00",
          "2022-01-17T00:00:00",
          "2022-01-24T00:00:00",
          "2022-01-31T00:00:00",
          "2022-02-07T00:00:00",
          "2022-02-14T00:00:00",
          "2022-02-21T00:00:00",
          "2022-02-28T00:00:00",
          "2022-03-07T00:00:00",
          "2022-03-14T00:00:00",
          "2022-03-21T00:00:00",
          "2022-03-28T00:00:00",
          "2022-04-04T00:00:00",
          "2022-04-11T00:00:00",
          "2022-04-18T00:00:00",
          "2022-04-25T00:00:00",
          "2022-05-02T00:00:00",
          "2022-05-09T00:00:00",
          "2022-05-16T00:00:00",
          "2022-05-23T00:00:00",
          "2022-05-30T00:00:00",
          "2022-06-06T00:00:00",
          "2022-06-13T00:00:00",
          "2022-06-20T00:00:00",
          "2022-06-27T00:00:00",
          "2022-07-04T00:00:00",
          "2022-07-11T00:00:00",
          "2022-07-18T00:00:00",
          "2022-07-25T00:00:00",
          "2022-08-01T00:00:00",
          "2022-08-08T00:00:00",
          "2022-08-15T00:00:00",
          "2022-08-22T00:00:00",
          "2022-08-29T00:00:00",
          "2022-09-05T00:00:00",
          "2022-09-12T00:00:00",
          "2022-09-19T00:00:00",
          "2022-09-26T00:00:00",
          "2022-10-03T00:00:00",
          "2022-10-10T00:00:00",
          "2022-10-17T00:00:00",
          "2022-10-24T00:00:00",
          "2022-10-31T00:00:00",
          "2022-11-07T00:00:00",
          "2022-11-14T00:00:00",
          "2022-11-21T00:00:00",
          "2022-11-28T00:00:00",
          "2022-12-05T00:00:00",
          "2022-12-12T00:00:00",
          "2022-12-19T00:00:00",
          "2022-12-26T00:00:00"
         ],
         "xaxis": "x3",
         "y": [
          0,
          2,
          9,
          10,
          12,
          14,
          11,
          11,
          8,
          5,
          8,
          9,
          7,
          8,
          10,
          12,
          7,
          9,
          13,
          10,
          9,
          7,
          5,
          8,
          12,
          14,
          7,
          5,
          11,
          12,
          9,
          7,
          8,
          7,
          8,
          9,
          10,
          11,
          8,
          9,
          9,
          11,
          8,
          5,
          11,
          9,
          9,
          11,
          12,
          10,
          8,
          9,
          8
         ],
         "yaxis": "y3"
        },
        {
         "alignmentgroup": "True",
         "hovertemplate": "variable=retained_user<br>group=group-1<br>timestamp=%{x}<br>value=%{y}<extra></extra>",
         "legendgroup": "retained_user",
         "marker": {
          "color": "#EF553B",
          "pattern": {
           "shape": ""
          }
         },
         "name": "retained_user",
         "offsetgroup": "retained_user",
         "orientation": "v",
         "showlegend": false,
         "textposition": "auto",
         "type": "bar",
         "x": [
          "2021-12-27T00:00:00",
          "2022-01-03T00:00:00",
          "2022-01-10T00:00:00",
          "2022-01-17T00:00:00",
          "2022-01-24T00:00:00",
          "2022-01-31T00:00:00",
          "2022-02-07T00:00:00",
          "2022-02-14T00:00:00",
          "2022-02-21T00:00:00",
          "2022-02-28T00:00:00",
          "2022-03-07T00:00:00",
          "2022-03-14T00:00:00",
          "2022-03-21T00:00:00",
          "2022-03-28T00:00:00",
          "2022-04-04T00:00:00",
          "2022-04-11T00:00:00",
          "2022-04-18T00:00:00",
          "2022-04-25T00:00:00",
          "2022-05-02T00:00:00",
          "2022-05-09T00:00:00",
          "2022-05-16T00:00:00",
          "2022-05-23T00:00:00",
          "2022-05-30T00:00:00",
          "2022-06-06T00:00:00",
          "2022-06-13T00:00:00",
          "2022-06-20T00:00:00",
          "2022-06-27T00:00:00",
          "2022-07-04T00:00:00",
          "2022-07-11T00:00:00",
          "2022-07-18T00:00:00",
          "2022-07-25T00:00:00",
          "2022-08-01T00:00:00",
          "2022-08-08T00:00:00",
          "2022-08-15T00:00:00",
          "2022-08-22T00:00:00",
          "2022-08-29T00:00:00",
          "2022-09-05T00:00:00",
          "2022-09-12T00:00:00",
          "2022-09-19T00:00:00",
          "2022-09-26T00:00:00",
          "2022-10-03T00:00:00",
          "2022-10-10T00:00:00",
          "2022-10-17T00:00:00",
          "2022-10-24T00:00:00",
          "2022-10-31T00:00:00",
          "2022-11-07T00:00:00",
          "2022-11-14T00:00:00",
          "2022-11-21T00:00:00",
          "2022-11-28T00:00:00",
          "2022-12-05T00:00:00",
          "2022-12-12T00:00:00",
          "2022-12-19T00:00:00",
          "2022-12-26T00:00:00"
         ],
         "xaxis": "x4",
         "y": [
          0,
          7,
          11,
          11,
          8,
          10,
          10,
          5,
          9,
          11,
          7,
          7,
          11,
          14,
          10,
          10,
          16,
          12,
          8,
          8,
          7,
          9,
          10,
          14,
          14,
          12,
          9,
          5,
          10,
          10,
          7,
          9,
          12,
          11,
          11,
          9,
          9,
          10,
          9,
          12,
          12,
          13,
          9,
          8,
          8,
          10,
          12,
          4,
          6,
          11,
          10,
          8,
          9
         ],
         "yaxis": "y4"
        },
        {
         "alignmentgroup": "True",
         "hovertemplate": "variable=retained_user<br>group=group-2<br>timestamp=%{x}<br>value=%{y}<extra></extra>",
         "legendgroup": "retained_user",
         "marker": {
          "color": "#EF553B",
          "pattern": {
           "shape": ""
          }
         },
         "name": "retained_user",
         "offsetgroup": "retained_user",
         "orientation": "v",
         "showlegend": false,
         "textposition": "auto",
         "type": "bar",
         "x": [
          "2021-12-27T00:00:00",
          "2022-01-03T00:00:00",
          "2022-01-10T00:00:00",
          "2022-01-17T00:00:00",
          "2022-01-24T00:00:00",
          "2022-01-31T00:00:00",
          "2022-02-07T00:00:00",
          "2022-02-14T00:00:00",
          "2022-02-21T00:00:00",
          "2022-02-28T00:00:00",
          "2022-03-07T00:00:00",
          "2022-03-14T00:00:00",
          "2022-03-21T00:00:00",
          "2022-03-28T00:00:00",
          "2022-04-04T00:00:00",
          "2022-04-11T00:00:00",
          "2022-04-18T00:00:00",
          "2022-04-25T00:00:00",
          "2022-05-02T00:00:00",
          "2022-05-09T00:00:00",
          "2022-05-16T00:00:00",
          "2022-05-23T00:00:00",
          "2022-05-30T00:00:00",
          "2022-06-06T00:00:00",
          "2022-06-13T00:00:00",
          "2022-06-20T00:00:00",
          "2022-06-27T00:00:00",
          "2022-07-04T00:00:00",
          "2022-07-11T00:00:00",
          "2022-07-18T00:00:00",
          "2022-07-25T00:00:00",
          "2022-08-01T00:00:00",
          "2022-08-08T00:00:00",
          "2022-08-15T00:00:00",
          "2022-08-22T00:00:00",
          "2022-08-29T00:00:00",
          "2022-09-05T00:00:00",
          "2022-09-12T00:00:00",
          "2022-09-19T00:00:00",
          "2022-09-26T00:00:00",
          "2022-10-03T00:00:00",
          "2022-10-10T00:00:00",
          "2022-10-17T00:00:00",
          "2022-10-24T00:00:00",
          "2022-10-31T00:00:00",
          "2022-11-07T00:00:00",
          "2022-11-14T00:00:00",
          "2022-11-21T00:00:00",
          "2022-11-28T00:00:00",
          "2022-12-05T00:00:00",
          "2022-12-12T00:00:00",
          "2022-12-19T00:00:00",
          "2022-12-26T00:00:00"
         ],
         "xaxis": "x",
         "y": [
          0,
          4,
          8,
          8,
          6,
          5,
          9,
          11,
          12,
          13,
          11,
          7,
          8,
          6,
          7,
          9,
          8,
          7,
          8,
          9,
          10,
          8,
          13,
          9,
          9,
          10,
          16,
          15,
          12,
          11,
          12,
          12,
          11,
          10,
          10,
          9,
          10,
          10,
          11,
          11,
          10,
          9,
          11,
          9,
          12,
          11,
          11,
          10,
          13,
          10,
          11,
          12,
          9
         ],
         "yaxis": "y"
        },
        {
         "alignmentgroup": "True",
         "hovertemplate": "variable=resurrected_user<br>group=group-0<br>timestamp=%{x}<br>value=%{y}<extra></extra>",
         "legendgroup": "resurrected_user",
         "marker": {
          "color": "#00cc96",
          "pattern": {
           "shape": ""
          }
         },
         "name": "resurrected_user",
         "offsetgroup": "resurrected_user",
         "orientation": "v",
         "showlegend": true,
         "textposition": "auto",
         "type": "bar",
         "x": [
          "2021-12-27T00:00:00",
          "2022-01-03T00:00:00",
          "2022-01-10T00:00:00",
          "2022-01-17T00:00:00",
          "2022-01-24T00:00:00",
          "2022-01-31T00:00:00",
          "2022-02-07T00:00:00",
          "2022-02-14T00:00:00",
          "2022-02-21T00:00:00",
          "2022-02-28T00:00:00",
          "2022-03-07T00:00:00",
          "2022-03-14T00:00:00",
          "2022-03-21T00:00:00",
          "2022-03-28T00:00:00",
          "2022-04-04T00:00:00",
          "2022-04-11T00:00:00",
          "2022-04-18T00:00:00",
          "2022-04-25T00:00:00",
          "2022-05-02T00:00:00",
          "2022-05-09T00:00:00",
          "2022-05-16T00:00:00",
          "2022-05-23T00:00:00",
          "2022-05-30T00:00:00",
          "2022-06-06T00:00:00",
          "2022-06-13T00:00:00",
          "2022-06-20T00:00:00",
          "2022-06-27T00:00:00",
          "2022-07-04T00:00:00",
          "2022-07-11T00:00:00",
          "2022-07-18T00:00:00",
          "2022-07-25T00:00:00",
          "2022-08-01T00:00:00",
          "2022-08-08T00:00:00",
          "2022-08-15T00:00:00",
          "2022-08-22T00:00:00",
          "2022-08-29T00:00:00",
          "2022-09-05T00:00:00",
          "2022-09-12T00:00:00",
          "2022-09-19T00:00:00",
          "2022-09-26T00:00:00",
          "2022-10-03T00:00:00",
          "2022-10-10T00:00:00",
          "2022-10-17T00:00:00",
          "2022-10-24T00:00:00",
          "2022-10-31T00:00:00",
          "2022-11-07T00:00:00",
          "2022-11-14T00:00:00",
          "2022-11-21T00:00:00",
          "2022-11-28T00:00:00",
          "2022-12-05T00:00:00",
          "2022-12-12T00:00:00",
          "2022-12-19T00:00:00",
          "2022-12-26T00:00:00"
         ],
         "xaxis": "x3",
         "y": [
          0,
          0,
          0,
          3,
          5,
          3,
          3,
          5,
          4,
          4,
          6,
          5,
          5,
          5,
          6,
          2,
          5,
          7,
          3,
          4,
          4,
          2,
          6,
          7,
          5,
          3,
          0,
          10,
          5,
          3,
          4,
          3,
          6,
          4,
          5,
          4,
          4,
          5,
          4,
          6,
          4,
          4,
          3,
          6,
          6,
          3,
          4,
          5,
          3,
          5,
          5,
          3,
          6
         ],
         "yaxis": "y3"
        },
        {
         "alignmentgroup": "True",
         "hovertemplate": "variable=resurrected_user<br>group=group-1<br>timestamp=%{x}<br>value=%{y}<extra></extra>",
         "legendgroup": "resurrected_user",
         "marker": {
          "color": "#00cc96",
          "pattern": {
           "shape": ""
          }
         },
         "name": "resurrected_user",
         "offsetgroup": "resurrected_user",
         "orientation": "v",
         "showlegend": false,
         "textposition": "auto",
         "type": "bar",
         "x": [
          "2021-12-27T00:00:00",
          "2022-01-03T00:00:00",
          "2022-01-10T00:00:00",
          "2022-01-17T00:00:00",
          "2022-01-24T00:00:00",
          "2022-01-31T00:00:00",
          "2022-02-07T00:00:00",
          "2022-02-14T00:00:00",
          "2022-02-21T00:00:00",
          "2022-02-28T00:00:00",
          "2022-03-07T00:00:00",
          "2022-03-14T00:00:00",
          "2022-03-21T00:00:00",
          "2022-03-28T00:00:00",
          "2022-04-04T00:00:00",
          "2022-04-11T00:00:00",
          "2022-04-18T00:00:00",
          "2022-04-25T00:00:00",
          "2022-05-02T00:00:00",
          "2022-05-09T00:00:00",
          "2022-05-16T00:00:00",
          "2022-05-23T00:00:00",
          "2022-05-30T00:00:00",
          "2022-06-06T00:00:00",
          "2022-06-13T00:00:00",
          "2022-06-20T00:00:00",
          "2022-06-27T00:00:00",
          "2022-07-04T00:00:00",
          "2022-07-11T00:00:00",
          "2022-07-18T00:00:00",
          "2022-07-25T00:00:00",
          "2022-08-01T00:00:00",
          "2022-08-08T00:00:00",
          "2022-08-15T00:00:00",
          "2022-08-22T00:00:00",
          "2022-08-29T00:00:00",
          "2022-09-05T00:00:00",
          "2022-09-12T00:00:00",
          "2022-09-19T00:00:00",
          "2022-09-26T00:00:00",
          "2022-10-03T00:00:00",
          "2022-10-10T00:00:00",
          "2022-10-17T00:00:00",
          "2022-10-24T00:00:00",
          "2022-10-31T00:00:00",
          "2022-11-07T00:00:00",
          "2022-11-14T00:00:00",
          "2022-11-21T00:00:00",
          "2022-11-28T00:00:00",
          "2022-12-05T00:00:00",
          "2022-12-12T00:00:00",
          "2022-12-19T00:00:00",
          "2022-12-26T00:00:00"
         ],
         "xaxis": "x4",
         "y": [
          0,
          0,
          1,
          1,
          5,
          4,
          2,
          7,
          6,
          4,
          4,
          7,
          5,
          3,
          2,
          6,
          2,
          1,
          6,
          4,
          5,
          6,
          5,
          5,
          1,
          3,
          3,
          7,
          5,
          3,
          4,
          5,
          4,
          3,
          0,
          7,
          3,
          5,
          5,
          2,
          4,
          3,
          3,
          6,
          4,
          7,
          1,
          5,
          11,
          3,
          4,
          5,
          4
         ],
         "yaxis": "y4"
        },
        {
         "alignmentgroup": "True",
         "hovertemplate": "variable=resurrected_user<br>group=group-2<br>timestamp=%{x}<br>value=%{y}<extra></extra>",
         "legendgroup": "resurrected_user",
         "marker": {
          "color": "#00cc96",
          "pattern": {
           "shape": ""
          }
         },
         "name": "resurrected_user",
         "offsetgroup": "resurrected_user",
         "orientation": "v",
         "showlegend": false,
         "textposition": "auto",
         "type": "bar",
         "x": [
          "2021-12-27T00:00:00",
          "2022-01-03T00:00:00",
          "2022-01-10T00:00:00",
          "2022-01-17T00:00:00",
          "2022-01-24T00:00:00",
          "2022-01-31T00:00:00",
          "2022-02-07T00:00:00",
          "2022-02-14T00:00:00",
          "2022-02-21T00:00:00",
          "2022-02-28T00:00:00",
          "2022-03-07T00:00:00",
          "2022-03-14T00:00:00",
          "2022-03-21T00:00:00",
          "2022-03-28T00:00:00",
          "2022-04-04T00:00:00",
          "2022-04-11T00:00:00",
          "2022-04-18T00:00:00",
          "2022-04-25T00:00:00",
          "2022-05-02T00:00:00",
          "2022-05-09T00:00:00",
          "2022-05-16T00:00:00",
          "2022-05-23T00:00:00",
          "2022-05-30T00:00:00",
          "2022-06-06T00:00:00",
          "2022-06-13T00:00:00",
          "2022-06-20T00:00:00",
          "2022-06-27T00:00:00",
          "2022-07-04T00:00:00",
          "2022-07-11T00:00:00",
          "2022-07-18T00:00:00",
          "2022-07-25T00:00:00",
          "2022-08-01T00:00:00",
          "2022-08-08T00:00:00",
          "2022-08-15T00:00:00",
          "2022-08-22T00:00:00",
          "2022-08-29T00:00:00",
          "2022-09-05T00:00:00",
          "2022-09-12T00:00:00",
          "2022-09-19T00:00:00",
          "2022-09-26T00:00:00",
          "2022-10-03T00:00:00",
          "2022-10-10T00:00:00",
          "2022-10-17T00:00:00",
          "2022-10-24T00:00:00",
          "2022-10-31T00:00:00",
          "2022-11-07T00:00:00",
          "2022-11-14T00:00:00",
          "2022-11-21T00:00:00",
          "2022-11-28T00:00:00",
          "2022-12-05T00:00:00",
          "2022-12-12T00:00:00",
          "2022-12-19T00:00:00",
          "2022-12-26T00:00:00"
         ],
         "xaxis": "x",
         "y": [
          0,
          0,
          1,
          4,
          5,
          5,
          9,
          2,
          4,
          4,
          2,
          7,
          5,
          4,
          7,
          2,
          4,
          5,
          3,
          8,
          1,
          7,
          3,
          3,
          4,
          6,
          2,
          1,
          3,
          3,
          2,
          3,
          5,
          4,
          4,
          5,
          5,
          3,
          5,
          4,
          3,
          5,
          3,
          6,
          2,
          5,
          1,
          5,
          2,
          4,
          5,
          1,
          4
         ],
         "yaxis": "y"
        },
        {
         "alignmentgroup": "True",
         "hovertemplate": "variable=churned_user<br>group=group-0<br>timestamp=%{x}<br>value=%{y}<extra></extra>",
         "legendgroup": "churned_user",
         "marker": {
          "color": "#ab63fa",
          "pattern": {
           "shape": ""
          }
         },
         "name": "churned_user",
         "offsetgroup": "churned_user",
         "orientation": "v",
         "showlegend": true,
         "textposition": "auto",
         "type": "bar",
         "x": [
          "2021-12-27T00:00:00",
          "2022-01-03T00:00:00",
          "2022-01-10T00:00:00",
          "2022-01-17T00:00:00",
          "2022-01-24T00:00:00",
          "2022-01-31T00:00:00",
          "2022-02-07T00:00:00",
          "2022-02-14T00:00:00",
          "2022-02-21T00:00:00",
          "2022-02-28T00:00:00",
          "2022-03-07T00:00:00",
          "2022-03-14T00:00:00",
          "2022-03-21T00:00:00",
          "2022-03-28T00:00:00",
          "2022-04-04T00:00:00",
          "2022-04-11T00:00:00",
          "2022-04-18T00:00:00",
          "2022-04-25T00:00:00",
          "2022-05-02T00:00:00",
          "2022-05-09T00:00:00",
          "2022-05-16T00:00:00",
          "2022-05-23T00:00:00",
          "2022-05-30T00:00:00",
          "2022-06-06T00:00:00",
          "2022-06-13T00:00:00",
          "2022-06-20T00:00:00",
          "2022-06-27T00:00:00",
          "2022-07-04T00:00:00",
          "2022-07-11T00:00:00",
          "2022-07-18T00:00:00",
          "2022-07-25T00:00:00",
          "2022-08-01T00:00:00",
          "2022-08-08T00:00:00",
          "2022-08-15T00:00:00",
          "2022-08-22T00:00:00",
          "2022-08-29T00:00:00",
          "2022-09-05T00:00:00",
          "2022-09-12T00:00:00",
          "2022-09-19T00:00:00",
          "2022-09-26T00:00:00",
          "2022-10-03T00:00:00",
          "2022-10-10T00:00:00",
          "2022-10-17T00:00:00",
          "2022-10-24T00:00:00",
          "2022-10-31T00:00:00",
          "2022-11-07T00:00:00",
          "2022-11-14T00:00:00",
          "2022-11-21T00:00:00",
          "2022-11-28T00:00:00",
          "2022-12-05T00:00:00",
          "2022-12-12T00:00:00",
          "2022-12-19T00:00:00",
          "2022-12-26T00:00:00"
         ],
         "xaxis": "x3",
         "y": [
          0,
          0,
          -5,
          -3,
          -3,
          -3,
          -6,
          -3,
          -8,
          -7,
          -1,
          -5,
          -7,
          -4,
          -3,
          -4,
          -7,
          -3,
          -3,
          -6,
          -5,
          -6,
          -4,
          -3,
          -3,
          -3,
          -10,
          -2,
          -4,
          -4,
          -6,
          -6,
          -2,
          -7,
          -3,
          -4,
          -3,
          -3,
          -8,
          -3,
          -6,
          -2,
          -7,
          -6,
          0,
          -8,
          -3,
          -2,
          -4,
          -5,
          -7,
          -4,
          -4
         ],
         "yaxis": "y3"
        },
        {
         "alignmentgroup": "True",
         "hovertemplate": "variable=churned_user<br>group=group-1<br>timestamp=%{x}<br>value=%{y}<extra></extra>",
         "legendgroup": "churned_user",
         "marker": {
          "color": "#ab63fa",
          "pattern": {
           "shape": ""
          }
         },
         "name": "churned_user",
         "offsetgroup": "churned_user",
         "orientation": "v",
         "showlegend": false,
         "textposition": "auto",
         "type": "bar",
         "x": [
          "2021-12-27T00:00:00",
          "2022-01-03T00:00:00",
          "2022-01-10T00:00:00",
          "2022-01-17T00:00:00",
          "2022-01-24T00:00:00",
          "2022-01-31T00:00:00",
          "2022-02-07T00:00:00",
          "2022-02-14T00:00:00",
          "2022-02-21T00:00:00",
          "2022-02-28T00:00:00",
          "2022-03-07T00:00:00",
          "2022-03-14T00:00:00",
          "2022-03-21T00:00:00",
          "2022-03-28T00:00:00",
          "2022-04-04T00:00:00",
          "2022-04-11T00:00:00",
          "2022-04-18T00:00:00",
          "2022-04-25T00:00:00",
          "2022-05-02T00:00:00",
          "2022-05-09T00:00:00",
          "2022-05-16T00:00:00",
          "2022-05-23T00:00:00",
          "2022-05-30T00:00:00",
          "2022-06-06T00:00:00",
          "2022-06-13T00:00:00",
          "2022-06-20T00:00:00",
          "2022-06-27T00:00:00",
          "2022-07-04T00:00:00",
          "2022-07-11T00:00:00",
          "2022-07-18T00:00:00",
          "2022-07-25T00:00:00",
          "2022-08-01T00:00:00",
          "2022-08-08T00:00:00",
          "2022-08-15T00:00:00",
          "2022-08-22T00:00:00",
          "2022-08-29T00:00:00",
          "2022-09-05T00:00:00",
          "2022-09-12T00:00:00",
          "2022-09-19T00:00:00",
          "2022-09-26T00:00:00",
          "2022-10-03T00:00:00",
          "2022-10-10T00:00:00",
          "2022-10-17T00:00:00",
          "2022-10-24T00:00:00",
          "2022-10-31T00:00:00",
          "2022-11-07T00:00:00",
          "2022-11-14T00:00:00",
          "2022-11-21T00:00:00",
          "2022-11-28T00:00:00",
          "2022-12-05T00:00:00",
          "2022-12-12T00:00:00",
          "2022-12-19T00:00:00",
          "2022-12-26T00:00:00"
         ],
         "xaxis": "x4",
         "y": [
          0,
          -3,
          -3,
          -3,
          -5,
          -3,
          -4,
          -7,
          -3,
          -4,
          -8,
          -4,
          -3,
          -2,
          -7,
          -2,
          0,
          -6,
          -5,
          -6,
          -5,
          -3,
          -5,
          -1,
          -5,
          -3,
          -6,
          -7,
          -2,
          -5,
          -6,
          -2,
          -2,
          -5,
          -3,
          -2,
          -7,
          -2,
          -6,
          -2,
          -2,
          -3,
          -7,
          -4,
          -6,
          -2,
          -5,
          -9,
          -3,
          -6,
          -4,
          -6,
          -4
         ],
         "yaxis": "y4"
        },
        {
         "alignmentgroup": "True",
         "hovertemplate": "variable=churned_user<br>group=group-2<br>timestamp=%{x}<br>value=%{y}<extra></extra>",
         "legendgroup": "churned_user",
         "marker": {
          "color": "#ab63fa",
          "pattern": {
           "shape": ""
          }
         },
         "name": "churned_user",
         "offsetgroup": "churned_user",
         "orientation": "v",
         "showlegend": false,
         "textposition": "auto",
         "type": "bar",
         "x": [
          "2021-12-27T00:00:00",
          "2022-01-03T00:00:00",
          "2022-01-10T00:00:00",
          "2022-01-17T00:00:00",
          "2022-01-24T00:00:00",
          "2022-01-31T00:00:00",
          "2022-02-07T00:00:00",
          "2022-02-14T00:00:00",
          "2022-02-21T00:00:00",
          "2022-02-28T00:00:00",
          "2022-03-07T00:00:00",
          "2022-03-14T00:00:00",
          "2022-03-21T00:00:00",
          "2022-03-28T00:00:00",
          "2022-04-04T00:00:00",
          "2022-04-11T00:00:00",
          "2022-04-18T00:00:00",
          "2022-04-25T00:00:00",
          "2022-05-02T00:00:00",
          "2022-05-09T00:00:00",
          "2022-05-16T00:00:00",
          "2022-05-23T00:00:00",
          "2022-05-30T00:00:00",
          "2022-06-06T00:00:00",
          "2022-06-13T00:00:00",
          "2022-06-20T00:00:00",
          "2022-06-27T00:00:00",
          "2022-07-04T00:00:00",
          "2022-07-11T00:00:00",
          "2022-07-18T00:00:00",
          "2022-07-25T00:00:00",
          "2022-08-01T00:00:00",
          "2022-08-08T00:00:00",
          "2022-08-15T00:00:00",
          "2022-08-22T00:00:00",
          "2022-08-29T00:00:00",
          "2022-09-05T00:00:00",
          "2022-09-12T00:00:00",
          "2022-09-19T00:00:00",
          "2022-09-26T00:00:00",
          "2022-10-03T00:00:00",
          "2022-10-10T00:00:00",
          "2022-10-17T00:00:00",
          "2022-10-24T00:00:00",
          "2022-10-31T00:00:00",
          "2022-11-07T00:00:00",
          "2022-11-14T00:00:00",
          "2022-11-21T00:00:00",
          "2022-11-28T00:00:00",
          "2022-12-05T00:00:00",
          "2022-12-12T00:00:00",
          "2022-12-19T00:00:00",
          "2022-12-26T00:00:00"
         ],
         "xaxis": "x",
         "y": [
          0,
          -1,
          -6,
          -5,
          -7,
          -6,
          -1,
          -7,
          -1,
          -3,
          -6,
          -6,
          -6,
          -7,
          -3,
          -5,
          -3,
          -5,
          -4,
          -2,
          -7,
          -3,
          -2,
          -7,
          -3,
          -3,
          0,
          -3,
          -4,
          -4,
          -2,
          -2,
          -4,
          -6,
          -4,
          -5,
          -4,
          -5,
          -2,
          -5,
          -5,
          -4,
          -3,
          -5,
          -3,
          -3,
          -5,
          -2,
          -2,
          -5,
          -3,
          -4,
          -4
         ],
         "yaxis": "y"
        },
        {
         "hovertemplate": "variable=dau<br>group=group-0<br>timestamp=%{x}<br>value=%{y}<extra></extra>",
         "legendgroup": "dau",
         "line": {
          "color": "green",
          "dash": "solid"
         },
         "marker": {
          "symbol": "circle"
         },
         "mode": "lines+markers",
         "name": "dau",
         "showlegend": true,
         "type": "scattergl",
         "x": [
          "2021-12-27T00:00:00",
          "2022-01-03T00:00:00",
          "2022-01-10T00:00:00",
          "2022-01-17T00:00:00",
          "2022-01-24T00:00:00",
          "2022-01-31T00:00:00",
          "2022-02-07T00:00:00",
          "2022-02-14T00:00:00",
          "2022-02-21T00:00:00",
          "2022-02-28T00:00:00",
          "2022-03-07T00:00:00",
          "2022-03-14T00:00:00",
          "2022-03-21T00:00:00",
          "2022-03-28T00:00:00",
          "2022-04-04T00:00:00",
          "2022-04-11T00:00:00",
          "2022-04-18T00:00:00",
          "2022-04-25T00:00:00",
          "2022-05-02T00:00:00",
          "2022-05-09T00:00:00",
          "2022-05-16T00:00:00",
          "2022-05-23T00:00:00",
          "2022-05-30T00:00:00",
          "2022-06-06T00:00:00",
          "2022-06-13T00:00:00",
          "2022-06-20T00:00:00",
          "2022-06-27T00:00:00",
          "2022-07-04T00:00:00",
          "2022-07-11T00:00:00",
          "2022-07-18T00:00:00",
          "2022-07-25T00:00:00",
          "2022-08-01T00:00:00",
          "2022-08-08T00:00:00",
          "2022-08-15T00:00:00",
          "2022-08-22T00:00:00",
          "2022-08-29T00:00:00",
          "2022-09-05T00:00:00",
          "2022-09-12T00:00:00",
          "2022-09-19T00:00:00",
          "2022-09-26T00:00:00",
          "2022-10-03T00:00:00",
          "2022-10-10T00:00:00",
          "2022-10-17T00:00:00",
          "2022-10-24T00:00:00",
          "2022-10-31T00:00:00",
          "2022-11-07T00:00:00",
          "2022-11-14T00:00:00",
          "2022-11-21T00:00:00",
          "2022-11-28T00:00:00",
          "2022-12-05T00:00:00",
          "2022-12-12T00:00:00",
          "2022-12-19T00:00:00",
          "2022-12-26T00:00:00"
         ],
         "xaxis": "x3",
         "y": [
          2,
          14,
          13,
          15,
          17,
          17,
          14,
          16,
          12,
          9,
          14,
          14,
          12,
          13,
          16,
          14,
          12,
          16,
          16,
          14,
          13,
          9,
          11,
          15,
          17,
          17,
          7,
          15,
          16,
          15,
          13,
          10,
          14,
          11,
          13,
          13,
          14,
          16,
          12,
          15,
          13,
          15,
          11,
          11,
          17,
          12,
          13,
          16,
          15,
          15,
          13,
          12,
          14
         ],
         "yaxis": "y3"
        },
        {
         "hovertemplate": "variable=dau<br>group=group-1<br>timestamp=%{x}<br>value=%{y}<extra></extra>",
         "legendgroup": "dau",
         "line": {
          "color": "green",
          "dash": "solid"
         },
         "marker": {
          "symbol": "circle"
         },
         "mode": "lines+markers",
         "name": "dau",
         "showlegend": false,
         "type": "scattergl",
         "x": [
          "2021-12-27T00:00:00",
          "2022-01-03T00:00:00",
          "2022-01-10T00:00:00",
          "2022-01-17T00:00:00",
          "2022-01-24T00:00:00",
          "2022-01-31T00:00:00",
          "2022-02-07T00:00:00",
          "2022-02-14T00:00:00",
          "2022-02-21T00:00:00",
          "2022-02-28T00:00:00",
          "2022-03-07T00:00:00",
          "2022-03-14T00:00:00",
          "2022-03-21T00:00:00",
          "2022-03-28T00:00:00",
          "2022-04-04T00:00:00",
          "2022-04-11T00:00:00",
          "2022-04-18T00:00:00",
          "2022-04-25T00:00:00",
          "2022-05-02T00:00:00",
          "2022-05-09T00:00:00",
          "2022-05-16T00:00:00",
          "2022-05-23T00:00:00",
          "2022-05-30T00:00:00",
          "2022-06-06T00:00:00",
          "2022-06-13T00:00:00",
          "2022-06-20T00:00:00",
          "2022-06-27T00:00:00",
          "2022-07-04T00:00:00",
          "2022-07-11T00:00:00",
          "2022-07-18T00:00:00",
          "2022-07-25T00:00:00",
          "2022-08-01T00:00:00",
          "2022-08-08T00:00:00",
          "2022-08-15T00:00:00",
          "2022-08-22T00:00:00",
          "2022-08-29T00:00:00",
          "2022-09-05T00:00:00",
          "2022-09-12T00:00:00",
          "2022-09-19T00:00:00",
          "2022-09-26T00:00:00",
          "2022-10-03T00:00:00",
          "2022-10-10T00:00:00",
          "2022-10-17T00:00:00",
          "2022-10-24T00:00:00",
          "2022-10-31T00:00:00",
          "2022-11-07T00:00:00",
          "2022-11-14T00:00:00",
          "2022-11-21T00:00:00",
          "2022-11-28T00:00:00",
          "2022-12-05T00:00:00",
          "2022-12-12T00:00:00",
          "2022-12-19T00:00:00",
          "2022-12-26T00:00:00"
         ],
         "xaxis": "x4",
         "y": [
          10,
          14,
          14,
          13,
          13,
          14,
          12,
          12,
          15,
          15,
          11,
          14,
          16,
          17,
          12,
          16,
          18,
          13,
          14,
          12,
          12,
          15,
          15,
          19,
          15,
          15,
          12,
          12,
          15,
          13,
          11,
          14,
          16,
          14,
          11,
          16,
          12,
          15,
          14,
          14,
          16,
          16,
          12,
          14,
          12,
          17,
          13,
          9,
          17,
          14,
          14,
          13,
          13
         ],
         "yaxis": "y4"
        },
        {
         "hovertemplate": "variable=dau<br>group=group-2<br>timestamp=%{x}<br>value=%{y}<extra></extra>",
         "legendgroup": "dau",
         "line": {
          "color": "green",
          "dash": "solid"
         },
         "marker": {
          "symbol": "circle"
         },
         "mode": "lines+markers",
         "name": "dau",
         "showlegend": false,
         "type": "scattergl",
         "x": [
          "2021-12-27T00:00:00",
          "2022-01-03T00:00:00",
          "2022-01-10T00:00:00",
          "2022-01-17T00:00:00",
          "2022-01-24T00:00:00",
          "2022-01-31T00:00:00",
          "2022-02-07T00:00:00",
          "2022-02-14T00:00:00",
          "2022-02-21T00:00:00",
          "2022-02-28T00:00:00",
          "2022-03-07T00:00:00",
          "2022-03-14T00:00:00",
          "2022-03-21T00:00:00",
          "2022-03-28T00:00:00",
          "2022-04-04T00:00:00",
          "2022-04-11T00:00:00",
          "2022-04-18T00:00:00",
          "2022-04-25T00:00:00",
          "2022-05-02T00:00:00",
          "2022-05-09T00:00:00",
          "2022-05-16T00:00:00",
          "2022-05-23T00:00:00",
          "2022-05-30T00:00:00",
          "2022-06-06T00:00:00",
          "2022-06-13T00:00:00",
          "2022-06-20T00:00:00",
          "2022-06-27T00:00:00",
          "2022-07-04T00:00:00",
          "2022-07-11T00:00:00",
          "2022-07-18T00:00:00",
          "2022-07-25T00:00:00",
          "2022-08-01T00:00:00",
          "2022-08-08T00:00:00",
          "2022-08-15T00:00:00",
          "2022-08-22T00:00:00",
          "2022-08-29T00:00:00",
          "2022-09-05T00:00:00",
          "2022-09-12T00:00:00",
          "2022-09-19T00:00:00",
          "2022-09-26T00:00:00",
          "2022-10-03T00:00:00",
          "2022-10-10T00:00:00",
          "2022-10-17T00:00:00",
          "2022-10-24T00:00:00",
          "2022-10-31T00:00:00",
          "2022-11-07T00:00:00",
          "2022-11-14T00:00:00",
          "2022-11-21T00:00:00",
          "2022-11-28T00:00:00",
          "2022-12-05T00:00:00",
          "2022-12-12T00:00:00",
          "2022-12-19T00:00:00",
          "2022-12-26T00:00:00"
         ],
         "xaxis": "x",
         "y": [
          5,
          14,
          13,
          13,
          11,
          10,
          18,
          13,
          16,
          17,
          13,
          14,
          13,
          10,
          14,
          11,
          12,
          12,
          11,
          17,
          11,
          15,
          16,
          12,
          13,
          16,
          18,
          16,
          15,
          14,
          14,
          15,
          16,
          14,
          14,
          14,
          15,
          13,
          16,
          15,
          13,
          14,
          14,
          15,
          14,
          16,
          12,
          15,
          15,
          14,
          16,
          13,
          13
         ],
         "yaxis": "y"
        }
       ],
       "layout": {
        "annotations": [
         {
          "font": {},
          "showarrow": false,
          "text": "group=group-2",
          "x": 0.245,
          "xanchor": "center",
          "xref": "paper",
          "y": 0.46499999999999997,
          "yanchor": "bottom",
          "yref": "paper"
         },
         {
          "font": {},
          "showarrow": false,
          "text": "group=group-0",
          "x": 0.245,
          "xanchor": "center",
          "xref": "paper",
          "y": 0.9999999999999999,
          "yanchor": "bottom",
          "yref": "paper"
         },
         {
          "font": {},
          "showarrow": false,
          "text": "group=group-1",
          "x": 0.755,
          "xanchor": "center",
          "xref": "paper",
          "y": 0.9999999999999999,
          "yanchor": "bottom",
          "yref": "paper"
         }
        ],
        "barmode": "relative",
        "height": 800,
        "legend": {
         "title": {
          "text": "variable"
         },
         "tracegroupgap": 0
        },
        "margin": {
         "r": 200,
         "t": 60
        },
        "template": {
         "data": {
          "bar": [
           {
            "error_x": {
             "color": "#2a3f5f"
            },
            "error_y": {
             "color": "#2a3f5f"
            },
            "marker": {
             "line": {
              "color": "#E5ECF6",
              "width": 0.5
             },
             "pattern": {
              "fillmode": "overlay",
              "size": 10,
              "solidity": 0.2
             }
            },
            "type": "bar"
           }
          ],
          "barpolar": [
           {
            "marker": {
             "line": {
              "color": "#E5ECF6",
              "width": 0.5
             },
             "pattern": {
              "fillmode": "overlay",
              "size": 10,
              "solidity": 0.2
             }
            },
            "type": "barpolar"
           }
          ],
          "carpet": [
           {
            "aaxis": {
             "endlinecolor": "#2a3f5f",
             "gridcolor": "white",
             "linecolor": "white",
             "minorgridcolor": "white",
             "startlinecolor": "#2a3f5f"
            },
            "baxis": {
             "endlinecolor": "#2a3f5f",
             "gridcolor": "white",
             "linecolor": "white",
             "minorgridcolor": "white",
             "startlinecolor": "#2a3f5f"
            },
            "type": "carpet"
           }
          ],
          "choropleth": [
           {
            "colorbar": {
             "outlinewidth": 0,
             "ticks": ""
            },
            "type": "choropleth"
           }
          ],
          "contour": [
           {
            "colorbar": {
             "outlinewidth": 0,
             "ticks": ""
            },
            "colorscale": [
             [
              0,
              "#0d0887"
             ],
             [
              0.1111111111111111,
              "#46039f"
             ],
             [
              0.2222222222222222,
              "#7201a8"
             ],
             [
              0.3333333333333333,
              "#9c179e"
             ],
             [
              0.4444444444444444,
              "#bd3786"
             ],
             [
              0.5555555555555556,
              "#d8576b"
             ],
             [
              0.6666666666666666,
              "#ed7953"
             ],
             [
              0.7777777777777778,
              "#fb9f3a"
             ],
             [
              0.8888888888888888,
              "#fdca26"
             ],
             [
              1,
              "#f0f921"
             ]
            ],
            "type": "contour"
           }
          ],
          "contourcarpet": [
           {
            "colorbar": {
             "outlinewidth": 0,
             "ticks": ""
            },
            "type": "contourcarpet"
           }
          ],
          "heatmap": [
           {
            "colorbar": {
             "outlinewidth": 0,
             "ticks": ""
            },
            "colorscale": [
             [
              0,
              "#0d0887"
             ],
             [
              0.1111111111111111,
              "#46039f"
             ],
             [
              0.2222222222222222,
              "#7201a8"
             ],
             [
              0.3333333333333333,
              "#9c179e"
             ],
             [
              0.4444444444444444,
              "#bd3786"
             ],
             [
              0.5555555555555556,
              "#d8576b"
             ],
             [
              0.6666666666666666,
              "#ed7953"
             ],
             [
              0.7777777777777778,
              "#fb9f3a"
             ],
             [
              0.8888888888888888,
              "#fdca26"
             ],
             [
              1,
              "#f0f921"
             ]
            ],
            "type": "heatmap"
           }
          ],
          "heatmapgl": [
           {
            "colorbar": {
             "outlinewidth": 0,
             "ticks": ""
            },
            "colorscale": [
             [
              0,
              "#0d0887"
             ],
             [
              0.1111111111111111,
              "#46039f"
             ],
             [
              0.2222222222222222,
              "#7201a8"
             ],
             [
              0.3333333333333333,
              "#9c179e"
             ],
             [
              0.4444444444444444,
              "#bd3786"
             ],
             [
              0.5555555555555556,
              "#d8576b"
             ],
             [
              0.6666666666666666,
              "#ed7953"
             ],
             [
              0.7777777777777778,
              "#fb9f3a"
             ],
             [
              0.8888888888888888,
              "#fdca26"
             ],
             [
              1,
              "#f0f921"
             ]
            ],
            "type": "heatmapgl"
           }
          ],
          "histogram": [
           {
            "marker": {
             "pattern": {
              "fillmode": "overlay",
              "size": 10,
              "solidity": 0.2
             }
            },
            "type": "histogram"
           }
          ],
          "histogram2d": [
           {
            "colorbar": {
             "outlinewidth": 0,
             "ticks": ""
            },
            "colorscale": [
             [
              0,
              "#0d0887"
             ],
             [
              0.1111111111111111,
              "#46039f"
             ],
             [
              0.2222222222222222,
              "#7201a8"
             ],
             [
              0.3333333333333333,
              "#9c179e"
             ],
             [
              0.4444444444444444,
              "#bd3786"
             ],
             [
              0.5555555555555556,
              "#d8576b"
             ],
             [
              0.6666666666666666,
              "#ed7953"
             ],
             [
              0.7777777777777778,
              "#fb9f3a"
             ],
             [
              0.8888888888888888,
              "#fdca26"
             ],
             [
              1,
              "#f0f921"
             ]
            ],
            "type": "histogram2d"
           }
          ],
          "histogram2dcontour": [
           {
            "colorbar": {
             "outlinewidth": 0,
             "ticks": ""
            },
            "colorscale": [
             [
              0,
              "#0d0887"
             ],
             [
              0.1111111111111111,
              "#46039f"
             ],
             [
              0.2222222222222222,
              "#7201a8"
             ],
             [
              0.3333333333333333,
              "#9c179e"
             ],
             [
              0.4444444444444444,
              "#bd3786"
             ],
             [
              0.5555555555555556,
              "#d8576b"
             ],
             [
              0.6666666666666666,
              "#ed7953"
             ],
             [
              0.7777777777777778,
              "#fb9f3a"
             ],
             [
              0.8888888888888888,
              "#fdca26"
             ],
             [
              1,
              "#f0f921"
             ]
            ],
            "type": "histogram2dcontour"
           }
          ],
          "mesh3d": [
           {
            "colorbar": {
             "outlinewidth": 0,
             "ticks": ""
            },
            "type": "mesh3d"
           }
          ],
          "parcoords": [
           {
            "line": {
             "colorbar": {
              "outlinewidth": 0,
              "ticks": ""
             }
            },
            "type": "parcoords"
           }
          ],
          "pie": [
           {
            "automargin": true,
            "type": "pie"
           }
          ],
          "scatter": [
           {
            "fillpattern": {
             "fillmode": "overlay",
             "size": 10,
             "solidity": 0.2
            },
            "type": "scatter"
           }
          ],
          "scatter3d": [
           {
            "line": {
             "colorbar": {
              "outlinewidth": 0,
              "ticks": ""
             }
            },
            "marker": {
             "colorbar": {
              "outlinewidth": 0,
              "ticks": ""
             }
            },
            "type": "scatter3d"
           }
          ],
          "scattercarpet": [
           {
            "marker": {
             "colorbar": {
              "outlinewidth": 0,
              "ticks": ""
             }
            },
            "type": "scattercarpet"
           }
          ],
          "scattergeo": [
           {
            "marker": {
             "colorbar": {
              "outlinewidth": 0,
              "ticks": ""
             }
            },
            "type": "scattergeo"
           }
          ],
          "scattergl": [
           {
            "marker": {
             "colorbar": {
              "outlinewidth": 0,
              "ticks": ""
             }
            },
            "type": "scattergl"
           }
          ],
          "scattermapbox": [
           {
            "marker": {
             "colorbar": {
              "outlinewidth": 0,
              "ticks": ""
             }
            },
            "type": "scattermapbox"
           }
          ],
          "scatterpolar": [
           {
            "marker": {
             "colorbar": {
              "outlinewidth": 0,
              "ticks": ""
             }
            },
            "type": "scatterpolar"
           }
          ],
          "scatterpolargl": [
           {
            "marker": {
             "colorbar": {
              "outlinewidth": 0,
              "ticks": ""
             }
            },
            "type": "scatterpolargl"
           }
          ],
          "scatterternary": [
           {
            "marker": {
             "colorbar": {
              "outlinewidth": 0,
              "ticks": ""
             }
            },
            "type": "scatterternary"
           }
          ],
          "surface": [
           {
            "colorbar": {
             "outlinewidth": 0,
             "ticks": ""
            },
            "colorscale": [
             [
              0,
              "#0d0887"
             ],
             [
              0.1111111111111111,
              "#46039f"
             ],
             [
              0.2222222222222222,
              "#7201a8"
             ],
             [
              0.3333333333333333,
              "#9c179e"
             ],
             [
              0.4444444444444444,
              "#bd3786"
             ],
             [
              0.5555555555555556,
              "#d8576b"
             ],
             [
              0.6666666666666666,
              "#ed7953"
             ],
             [
              0.7777777777777778,
              "#fb9f3a"
             ],
             [
              0.8888888888888888,
              "#fdca26"
             ],
             [
              1,
              "#f0f921"
             ]
            ],
            "type": "surface"
           }
          ],
          "table": [
           {
            "cells": {
             "fill": {
              "color": "#EBF0F8"
             },
             "line": {
              "color": "white"
             }
            },
            "header": {
             "fill": {
              "color": "#C8D4E3"
             },
             "line": {
              "color": "white"
             }
            },
            "type": "table"
           }
          ]
         },
         "layout": {
          "annotationdefaults": {
           "arrowcolor": "#2a3f5f",
           "arrowhead": 0,
           "arrowwidth": 1
          },
          "autotypenumbers": "strict",
          "coloraxis": {
           "colorbar": {
            "outlinewidth": 0,
            "ticks": ""
           }
          },
          "colorscale": {
           "diverging": [
            [
             0,
             "#8e0152"
            ],
            [
             0.1,
             "#c51b7d"
            ],
            [
             0.2,
             "#de77ae"
            ],
            [
             0.3,
             "#f1b6da"
            ],
            [
             0.4,
             "#fde0ef"
            ],
            [
             0.5,
             "#f7f7f7"
            ],
            [
             0.6,
             "#e6f5d0"
            ],
            [
             0.7,
             "#b8e186"
            ],
            [
             0.8,
             "#7fbc41"
            ],
            [
             0.9,
             "#4d9221"
            ],
            [
             1,
             "#276419"
            ]
           ],
           "sequential": [
            [
             0,
             "#0d0887"
            ],
            [
             0.1111111111111111,
             "#46039f"
            ],
            [
             0.2222222222222222,
             "#7201a8"
            ],
            [
             0.3333333333333333,
             "#9c179e"
            ],
            [
             0.4444444444444444,
             "#bd3786"
            ],
            [
             0.5555555555555556,
             "#d8576b"
            ],
            [
             0.6666666666666666,
             "#ed7953"
            ],
            [
             0.7777777777777778,
             "#fb9f3a"
            ],
            [
             0.8888888888888888,
             "#fdca26"
            ],
            [
             1,
             "#f0f921"
            ]
           ],
           "sequentialminus": [
            [
             0,
             "#0d0887"
            ],
            [
             0.1111111111111111,
             "#46039f"
            ],
            [
             0.2222222222222222,
             "#7201a8"
            ],
            [
             0.3333333333333333,
             "#9c179e"
            ],
            [
             0.4444444444444444,
             "#bd3786"
            ],
            [
             0.5555555555555556,
             "#d8576b"
            ],
            [
             0.6666666666666666,
             "#ed7953"
            ],
            [
             0.7777777777777778,
             "#fb9f3a"
            ],
            [
             0.8888888888888888,
             "#fdca26"
            ],
            [
             1,
             "#f0f921"
            ]
           ]
          },
          "colorway": [
           "#636efa",
           "#EF553B",
           "#00cc96",
           "#ab63fa",
           "#FFA15A",
           "#19d3f3",
           "#FF6692",
           "#B6E880",
           "#FF97FF",
           "#FECB52"
          ],
          "font": {
           "color": "#2a3f5f"
          },
          "geo": {
           "bgcolor": "white",
           "lakecolor": "white",
           "landcolor": "#E5ECF6",
           "showlakes": true,
           "showland": true,
           "subunitcolor": "white"
          },
          "hoverlabel": {
           "align": "left"
          },
          "hovermode": "closest",
          "mapbox": {
           "style": "light"
          },
          "paper_bgcolor": "white",
          "plot_bgcolor": "#E5ECF6",
          "polar": {
           "angularaxis": {
            "gridcolor": "white",
            "linecolor": "white",
            "ticks": ""
           },
           "bgcolor": "#E5ECF6",
           "radialaxis": {
            "gridcolor": "white",
            "linecolor": "white",
            "ticks": ""
           }
          },
          "scene": {
           "xaxis": {
            "backgroundcolor": "#E5ECF6",
            "gridcolor": "white",
            "gridwidth": 2,
            "linecolor": "white",
            "showbackground": true,
            "ticks": "",
            "zerolinecolor": "white"
           },
           "yaxis": {
            "backgroundcolor": "#E5ECF6",
            "gridcolor": "white",
            "gridwidth": 2,
            "linecolor": "white",
            "showbackground": true,
            "ticks": "",
            "zerolinecolor": "white"
           },
           "zaxis": {
            "backgroundcolor": "#E5ECF6",
            "gridcolor": "white",
            "gridwidth": 2,
            "linecolor": "white",
            "showbackground": true,
            "ticks": "",
            "zerolinecolor": "white"
           }
          },
          "shapedefaults": {
           "line": {
            "color": "#2a3f5f"
           }
          },
          "ternary": {
           "aaxis": {
            "gridcolor": "white",
            "linecolor": "white",
            "ticks": ""
           },
           "baxis": {
            "gridcolor": "white",
            "linecolor": "white",
            "ticks": ""
           },
           "bgcolor": "#E5ECF6",
           "caxis": {
            "gridcolor": "white",
            "linecolor": "white",
            "ticks": ""
           }
          },
          "title": {
           "x": 0.05
          },
          "xaxis": {
           "automargin": true,
           "gridcolor": "white",
           "linecolor": "white",
           "ticks": "",
           "title": {
            "standoff": 15
           },
           "zerolinecolor": "white",
           "zerolinewidth": 2
          },
          "yaxis": {
           "automargin": true,
           "gridcolor": "white",
           "linecolor": "white",
           "ticks": "",
           "title": {
            "standoff": 15
           },
           "zerolinecolor": "white",
           "zerolinewidth": 2
          }
         }
        },
        "width": 1200,
        "xaxis": {
         "anchor": "y",
         "autorange": true,
         "domain": [
          0,
          0.49
         ],
         "range": [
          "2021-12-02 23:15:35.6637",
          "2023-01-19 00:44:24.3363"
         ],
         "title": {
          "text": "timestamp"
         },
         "type": "date"
        },
        "xaxis2": {
         "anchor": "y2",
         "domain": [
          0.51,
          1
         ],
         "matches": "x",
         "title": {
          "text": "timestamp"
         }
        },
        "xaxis3": {
         "anchor": "y3",
         "autorange": true,
         "domain": [
          0,
          0.49
         ],
         "matches": "x",
         "range": [
          "2021-12-02 23:15:35.6637",
          "2023-01-19 00:44:24.3363"
         ],
         "showticklabels": false,
         "type": "date"
        },
        "xaxis4": {
         "anchor": "y4",
         "autorange": true,
         "domain": [
          0.51,
          1
         ],
         "matches": "x",
         "range": [
          "2021-12-02 23:15:35.6637",
          "2023-01-19 00:44:24.3363"
         ],
         "showticklabels": false,
         "type": "date"
        },
        "yaxis": {
         "anchor": "x",
         "autorange": true,
         "domain": [
          0,
          0.46499999999999997
         ],
         "range": [
          -11.63328561990751,
          21.03242677824268
         ],
         "title": {
          "text": "value"
         },
         "type": "linear"
        },
        "yaxis2": {
         "anchor": "x2",
         "domain": [
          0,
          0.46499999999999997
         ],
         "matches": "y",
         "showticklabels": false
        },
        "yaxis3": {
         "anchor": "x3",
         "autorange": true,
         "domain": [
          0.5349999999999999,
          0.9999999999999999
         ],
         "matches": "y",
         "range": [
          -11.63328561990751,
          21.03242677824268
         ],
         "title": {
          "text": "value"
         },
         "type": "linear"
        },
        "yaxis4": {
         "anchor": "x4",
         "autorange": true,
         "domain": [
          0.5349999999999999,
          0.9999999999999999
         ],
         "matches": "y",
         "range": [
          -11.63328561990751,
          21.03242677824268
         ],
         "showticklabels": false,
         "type": "linear"
        }
       }
      },
      "image/png": "[encoded data removed]",
      "text/html": [
       "<div>                            <div id=\"833ab261-1dff-4911-8165-ab3a2af9dd52\" class=\"plotly-graph-div\" style=\"height:800px; width:1200px;\"></div>            <script type=\"text/javascript\">                require([\"plotly\"], function(Plotly) {                    window.PLOTLYENV=window.PLOTLYENV || {};                                    if (document.getElementById(\"833ab261-1dff-4911-8165-ab3a2af9dd52\")) {                    Plotly.newPlot(                        \"833ab261-1dff-4911-8165-ab3a2af9dd52\",                        [{\"alignmentgroup\":\"True\",\"hovertemplate\":\"variable=new_user<br>group=group-0<br>timestamp=%{x}<br>value=%{y}<extra></extra>\",\"legendgroup\":\"new_user\",\"marker\":{\"color\":\"#636efa\",\"pattern\":{\"shape\":\"\"}},\"name\":\"new_user\",\"offsetgroup\":\"new_user\",\"orientation\":\"v\",\"showlegend\":true,\"textposition\":\"auto\",\"x\":[\"2021-12-27T00:00:00\",\"2022-01-03T00:00:00\",\"2022-01-10T00:00:00\",\"2022-01-17T00:00:00\",\"2022-01-24T00:00:00\",\"2022-01-31T00:00:00\",\"2022-02-07T00:00:00\",\"2022-02-14T00:00:00\",\"2022-02-21T00:00:00\",\"2022-02-28T00:00:00\",\"2022-03-07T00:00:00\",\"2022-03-14T00:00:00\",\"2022-03-21T00:00:00\",\"2022-03-28T00:00:00\",\"2022-04-04T00:00:00\",\"2022-04-11T00:00:00\",\"2022-04-18T00:00:00\",\"2022-04-25T00:00:00\",\"2022-05-02T00:00:00\",\"2022-05-09T00:00:00\",\"2022-05-16T00:00:00\",\"2022-05-23T00:00:00\",\"2022-05-30T00:00:00\",\"2022-06-06T00:00:00\",\"2022-06-13T00:00:00\",\"2022-06-20T00:00:00\",\"2022-06-27T00:00:00\",\"2022-07-04T00:00:00\",\"2022-07-11T00:00:00\",\"2022-07-18T00:00:00\",\"2022-07-25T00:00:00\",\"2022-08-01T00:00:00\",\"2022-08-08T00:00:00\",\"2022-08-15T00:00:00\",\"2022-08-22T00:00:00\",\"2022-08-29T00:00:00\",\"2022-09-05T00:00:00\",\"2022-09-12T00:00:00\",\"2022-09-19T00:00:00\",\"2022-09-26T00:00:00\",\"2022-10-03T00:00:00\",\"2022-10-10T00:00:00\",\"2022-10-17T00:00:00\",\"2022-10-24T00:00:00\",\"2022-10-31T00:00:00\",\"2022-11-07T00:00:00\",\"2022-11-14T00:00:00\",\"2022-11-21T00:00:00\",\"2022-11-28T00:00:00\",\"2022-12-05T00:00:00\",\"2022-12-12T00:00:00\",\"2022-12-19T00:00:00\",\"2022-12-26T00:00:00\"],\"xaxis\":\"x3\",\"y\":[2.0,12.0,4.0,2.0,0.0,0.0,0.0,0.0,0.0,0.0,0.0,0.0,0.0,0.0,0.0,0.0,0.0,0.0,0.0,0.0,0.0,0.0,0.0,0.0,0.0,0.0,0.0,0.0,0.0,0.0,0.0,0.0,0.0,0.0,0.0,0.0,0.0,0.0,0.0,0.0,0.0,0.0,0.0,0.0,0.0,0.0,0.0,0.0,0.0,0.0,0.0,0.0,0.0],\"yaxis\":\"y3\",\"type\":\"bar\"},{\"alignmentgroup\":\"True\",\"hovertemplate\":\"variable=new_user<br>group=group-1<br>timestamp=%{x}<br>value=%{y}<extra></extra>\",\"legendgroup\":\"new_user\",\"marker\":{\"color\":\"#636efa\",\"pattern\":{\"shape\":\"\"}},\"name\":\"new_user\",\"offsetgroup\":\"new_user\",\"orientation\":\"v\",\"showlegend\":false,\"textposition\":\"auto\",\"x\":[\"2021-12-27T00:00:00\",\"2022-01-03T00:00:00\",\"2022-01-10T00:00:00\",\"2022-01-17T00:00:00\",\"2022-01-24T00:00:00\",\"2022-01-31T00:00:00\",\"2022-02-07T00:00:00\",\"2022-02-14T00:00:00\",\"2022-02-21T00:00:00\",\"2022-02-28T00:00:00\",\"2022-03-07T00:00:00\",\"2022-03-14T00:00:00\",\"2022-03-21T00:00:00\",\"2022-03-28T00:00:00\",\"2022-04-04T00:00:00\",\"2022-04-11T00:00:00\",\"2022-04-18T00:00:00\",\"2022-04-25T00:00:00\",\"2022-05-02T00:00:00\",\"2022-05-09T00:00:00\",\"2022-05-16T00:00:00\",\"2022-05-23T00:00:00\",\"2022-05-30T00:00:00\",\"2022-06-06T00:00:00\",\"2022-06-13T00:00:00\",\"2022-06-20T00:00:00\",\"2022-06-27T00:00:00\",\"2022-07-04T00:00:00\",\"2022-07-11T00:00:00\",\"2022-07-18T00:00:00\",\"2022-07-25T00:00:00\",\"2022-08-01T00:00:00\",\"2022-08-08T00:00:00\",\"2022-08-15T00:00:00\",\"2022-08-22T00:00:00\",\"2022-08-29T00:00:00\",\"2022-09-05T00:00:00\",\"2022-09-12T00:00:00\",\"2022-09-19T00:00:00\",\"2022-09-26T00:00:00\",\"2022-10-03T00:00:00\",\"2022-10-10T00:00:00\",\"2022-10-17T00:00:00\",\"2022-10-24T00:00:00\",\"2022-10-31T00:00:00\",\"2022-11-07T00:00:00\",\"2022-11-14T00:00:00\",\"2022-11-21T00:00:00\",\"2022-11-28T00:00:00\",\"2022-12-05T00:00:00\",\"2022-12-12T00:00:00\",\"2022-12-19T00:00:00\",\"2022-12-26T00:00:00\"],\"xaxis\":\"x4\",\"y\":[10.0,7.0,2.0,1.0,0.0,0.0,0.0,0.0,0.0,0.0,0.0,0.0,0.0,0.0,0.0,0.0,0.0,0.0,0.0,0.0,0.0,0.0,0.0,0.0,0.0,0.0,0.0,0.0,0.0,0.0,0.0,0.0,0.0,0.0,0.0,0.0,0.0,0.0,0.0,0.0,0.0,0.0,0.0,0.0,0.0,0.0,0.0,0.0,0.0,0.0,0.0,0.0,0.0],\"yaxis\":\"y4\",\"type\":\"bar\"},{\"alignmentgroup\":\"True\",\"hovertemplate\":\"variable=new_user<br>group=group-2<br>timestamp=%{x}<br>value=%{y}<extra></extra>\",\"legendgroup\":\"new_user\",\"marker\":{\"color\":\"#636efa\",\"pattern\":{\"shape\":\"\"}},\"name\":\"new_user\",\"offsetgroup\":\"new_user\",\"orientation\":\"v\",\"showlegend\":false,\"textposition\":\"auto\",\"x\":[\"2021-12-27T00:00:00\",\"2022-01-03T00:00:00\",\"2022-01-10T00:00:00\",\"2022-01-17T00:00:00\",\"2022-01-24T00:00:00\",\"2022-01-31T00:00:00\",\"2022-02-07T00:00:00\",\"2022-02-14T00:00:00\",\"2022-02-21T00:00:00\",\"2022-02-28T00:00:00\",\"2022-03-07T00:00:00\",\"2022-03-14T00:00:00\",\"2022-03-21T00:00:00\",\"2022-03-28T00:00:00\",\"2022-04-04T00:00:00\",\"2022-04-11T00:00:00\",\"2022-04-18T00:00:00\",\"2022-04-25T00:00:00\",\"2022-05-02T00:00:00\",\"2022-05-09T00:00:00\",\"2022-05-16T00:00:00\",\"2022-05-23T00:00:00\",\"2022-05-30T00:00:00\",\"2022-06-06T00:00:00\",\"2022-06-13T00:00:00\",\"2022-06-20T00:00:00\",\"2022-06-27T00:00:00\",\"2022-07-04T00:00:00\",\"2022-07-11T00:00:00\",\"2022-07-18T00:00:00\",\"2022-07-25T00:00:00\",\"2022-08-01T00:00:00\",\"2022-08-08T00:00:00\",\"2022-08-15T00:00:00\",\"2022-08-22T00:00:00\",\"2022-08-29T00:00:00\",\"2022-09-05T00:00:00\",\"2022-09-12T00:00:00\",\"2022-09-19T00:00:00\",\"2022-09-26T00:00:00\",\"2022-10-03T00:00:00\",\"2022-10-10T00:00:00\",\"2022-10-17T00:00:00\",\"2022-10-24T00:00:00\",\"2022-10-31T00:00:00\",\"2022-11-07T00:00:00\",\"2022-11-14T00:00:00\",\"2022-11-21T00:00:00\",\"2022-11-28T00:00:00\",\"2022-12-05T00:00:00\",\"2022-12-12T00:00:00\",\"2022-12-19T00:00:00\",\"2022-12-26T00:00:00\"],\"xaxis\":\"x\",\"y\":[5.0,10.0,4.0,1.0,0.0,0.0,0.0,0.0,0.0,0.0,0.0,0.0,0.0,0.0,0.0,0.0,0.0,0.0,0.0,0.0,0.0,0.0,0.0,0.0,0.0,0.0,0.0,0.0,0.0,0.0,0.0,0.0,0.0,0.0,0.0,0.0,0.0,0.0,0.0,0.0,0.0,0.0,0.0,0.0,0.0,0.0,0.0,0.0,0.0,0.0,0.0,0.0,0.0],\"yaxis\":\"y\",\"type\":\"bar\"},{\"alignmentgroup\":\"True\",\"hovertemplate\":\"variable=retained_user<br>group=group-0<br>timestamp=%{x}<br>value=%{y}<extra></extra>\",\"legendgroup\":\"retained_user\",\"marker\":{\"color\":\"#EF553B\",\"pattern\":{\"shape\":\"\"}},\"name\":\"retained_user\",\"offsetgroup\":\"retained_user\",\"orientation\":\"v\",\"showlegend\":true,\"textposition\":\"auto\",\"x\":[\"2021-12-27T00:00:00\",\"2022-01-03T00:00:00\",\"2022-01-10T00:00:00\",\"2022-01-17T00:00:00\",\"2022-01-24T00:00:00\",\"2022-01-31T00:00:00\",\"2022-02-07T00:00:00\",\"2022-02-14T00:00:00\",\"2022-02-21T00:00:00\",\"2022-02-28T00:00:00\",\"2022-03-07T00:00:00\",\"2022-03-14T00:00:00\",\"2022-03-21T00:00:00\",\"2022-03-28T00:00:00\",\"2022-04-04T00:00:00\",\"2022-04-11T00:00:00\",\"2022-04-18T00:00:00\",\"2022-04-25T00:00:00\",\"2022-05-02T00:00:00\",\"2022-05-09T00:00:00\",\"2022-05-16T00:00:00\",\"2022-05-23T00:00:00\",\"2022-05-30T00:00:00\",\"2022-06-06T00:00:00\",\"2022-06-13T00:00:00\",\"2022-06-20T00:00:00\",\"2022-06-27T00:00:00\",\"2022-07-04T00:00:00\",\"2022-07-11T00:00:00\",\"2022-07-18T00:00:00\",\"2022-07-25T00:00:00\",\"2022-08-01T00:00:00\",\"2022-08-08T00:00:00\",\"2022-08-15T00:00:00\",\"2022-08-22T00:00:00\",\"2022-08-29T00:00:00\",\"2022-09-05T00:00:00\",\"2022-09-12T00:00:00\",\"2022-09-19T00:00:00\",\"2022-09-26T00:00:00\",\"2022-10-03T00:00:00\",\"2022-10-10T00:00:00\",\"2022-10-17T00:00:00\",\"2022-10-24T00:00:00\",\"2022-10-31T00:00:00\",\"2022-11-07T00:00:00\",\"2022-11-14T00:00:00\",\"2022-11-21T00:00:00\",\"2022-11-28T00:00:00\",\"2022-12-05T00:00:00\",\"2022-12-12T00:00:00\",\"2022-12-19T00:00:00\",\"2022-12-26T00:00:00\"],\"xaxis\":\"x3\",\"y\":[0.0,2.0,9.0,10.0,12.0,14.0,11.0,11.0,8.0,5.0,8.0,9.0,7.0,8.0,10.0,12.0,7.0,9.0,13.0,10.0,9.0,7.0,5.0,8.0,12.0,14.0,7.0,5.0,11.0,12.0,9.0,7.0,8.0,7.0,8.0,9.0,10.0,11.0,8.0,9.0,9.0,11.0,8.0,5.0,11.0,9.0,9.0,11.0,12.0,10.0,8.0,9.0,8.0],\"yaxis\":\"y3\",\"type\":\"bar\"},{\"alignmentgroup\":\"True\",\"hovertemplate\":\"variable=retained_user<br>group=group-1<br>timestamp=%{x}<br>value=%{y}<extra></extra>\",\"legendgroup\":\"retained_user\",\"marker\":{\"color\":\"#EF553B\",\"pattern\":{\"shape\":\"\"}},\"name\":\"retained_user\",\"offsetgroup\":\"retained_user\",\"orientation\":\"v\",\"showlegend\":false,\"textposition\":\"auto\",\"x\":[\"2021-12-27T00:00:00\",\"2022-01-03T00:00:00\",\"2022-01-10T00:00:00\",\"2022-01-17T00:00:00\",\"2022-01-24T00:00:00\",\"2022-01-31T00:00:00\",\"2022-02-07T00:00:00\",\"2022-02-14T00:00:00\",\"2022-02-21T00:00:00\",\"2022-02-28T00:00:00\",\"2022-03-07T00:00:00\",\"2022-03-14T00:00:00\",\"2022-03-21T00:00:00\",\"2022-03-28T00:00:00\",\"2022-04-04T00:00:00\",\"2022-04-11T00:00:00\",\"2022-04-18T00:00:00\",\"2022-04-25T00:00:00\",\"2022-05-02T00:00:00\",\"2022-05-09T00:00:00\",\"2022-05-16T00:00:00\",\"2022-05-23T00:00:00\",\"2022-05-30T00:00:00\",\"2022-06-06T00:00:00\",\"2022-06-13T00:00:00\",\"2022-06-20T00:00:00\",\"2022-06-27T00:00:00\",\"2022-07-04T00:00:00\",\"2022-07-11T00:00:00\",\"2022-07-18T00:00:00\",\"2022-07-25T00:00:00\",\"2022-08-01T00:00:00\",\"2022-08-08T00:00:00\",\"2022-08-15T00:00:00\",\"2022-08-22T00:00:00\",\"2022-08-29T00:00:00\",\"2022-09-05T00:00:00\",\"2022-09-12T00:00:00\",\"2022-09-19T00:00:00\",\"2022-09-26T00:00:00\",\"2022-10-03T00:00:00\",\"2022-10-10T00:00:00\",\"2022-10-17T00:00:00\",\"2022-10-24T00:00:00\",\"2022-10-31T00:00:00\",\"2022-11-07T00:00:00\",\"2022-11-14T00:00:00\",\"2022-11-21T00:00:00\",\"2022-11-28T00:00:00\",\"2022-12-05T00:00:00\",\"2022-12-12T00:00:00\",\"2022-12-19T00:00:00\",\"2022-12-26T00:00:00\"],\"xaxis\":\"x4\",\"y\":[0.0,7.0,11.0,11.0,8.0,10.0,10.0,5.0,9.0,11.0,7.0,7.0,11.0,14.0,10.0,10.0,16.0,12.0,8.0,8.0,7.0,9.0,10.0,14.0,14.0,12.0,9.0,5.0,10.0,10.0,7.0,9.0,12.0,11.0,11.0,9.0,9.0,10.0,9.0,12.0,12.0,13.0,9.0,8.0,8.0,10.0,12.0,4.0,6.0,11.0,10.0,8.0,9.0],\"yaxis\":\"y4\",\"type\":\"bar\"},{\"alignmentgroup\":\"True\",\"hovertemplate\":\"variable=retained_user<br>group=group-2<br>timestamp=%{x}<br>value=%{y}<extra></extra>\",\"legendgroup\":\"retained_user\",\"marker\":{\"color\":\"#EF553B\",\"pattern\":{\"shape\":\"\"}},\"name\":\"retained_user\",\"offsetgroup\":\"retained_user\",\"orientation\":\"v\",\"showlegend\":false,\"textposition\":\"auto\",\"x\":[\"2021-12-27T00:00:00\",\"2022-01-03T00:00:00\",\"2022-01-10T00:00:00\",\"2022-01-17T00:00:00\",\"2022-01-24T00:00:00\",\"2022-01-31T00:00:00\",\"2022-02-07T00:00:00\",\"2022-02-14T00:00:00\",\"2022-02-21T00:00:00\",\"2022-02-28T00:00:00\",\"2022-03-07T00:00:00\",\"2022-03-14T00:00:00\",\"2022-03-21T00:00:00\",\"2022-03-28T00:00:00\",\"2022-04-04T00:00:00\",\"2022-04-11T00:00:00\",\"2022-04-18T00:00:00\",\"2022-04-25T00:00:00\",\"2022-05-02T00:00:00\",\"2022-05-09T00:00:00\",\"2022-05-16T00:00:00\",\"2022-05-23T00:00:00\",\"2022-05-30T00:00:00\",\"2022-06-06T00:00:00\",\"2022-06-13T00:00:00\",\"2022-06-20T00:00:00\",\"2022-06-27T00:00:00\",\"2022-07-04T00:00:00\",\"2022-07-11T00:00:00\",\"2022-07-18T00:00:00\",\"2022-07-25T00:00:00\",\"2022-08-01T00:00:00\",\"2022-08-08T00:00:00\",\"2022-08-15T00:00:00\",\"2022-08-22T00:00:00\",\"2022-08-29T00:00:00\",\"2022-09-05T00:00:00\",\"2022-09-12T00:00:00\",\"2022-09-19T00:00:00\",\"2022-09-26T00:00:00\",\"2022-10-03T00:00:00\",\"2022-10-10T00:00:00\",\"2022-10-17T00:00:00\",\"2022-10-24T00:00:00\",\"2022-10-31T00:00:00\",\"2022-11-07T00:00:00\",\"2022-11-14T00:00:00\",\"2022-11-21T00:00:00\",\"2022-11-28T00:00:00\",\"2022-12-05T00:00:00\",\"2022-12-12T00:00:00\",\"2022-12-19T00:00:00\",\"2022-12-26T00:00:00\"],\"xaxis\":\"x\",\"y\":[0.0,4.0,8.0,8.0,6.0,5.0,9.0,11.0,12.0,13.0,11.0,7.0,8.0,6.0,7.0,9.0,8.0,7.0,8.0,9.0,10.0,8.0,13.0,9.0,9.0,10.0,16.0,15.0,12.0,11.0,12.0,12.0,11.0,10.0,10.0,9.0,10.0,10.0,11.0,11.0,10.0,9.0,11.0,9.0,12.0,11.0,11.0,10.0,13.0,10.0,11.0,12.0,9.0],\"yaxis\":\"y\",\"type\":\"bar\"},{\"alignmentgroup\":\"True\",\"hovertemplate\":\"variable=resurrected_user<br>group=group-0<br>timestamp=%{x}<br>value=%{y}<extra></extra>\",\"legendgroup\":\"resurrected_user\",\"marker\":{\"color\":\"#00cc96\",\"pattern\":{\"shape\":\"\"}},\"name\":\"resurrected_user\",\"offsetgroup\":\"resurrected_user\",\"orientation\":\"v\",\"showlegend\":true,\"textposition\":\"auto\",\"x\":[\"2021-12-27T00:00:00\",\"2022-01-03T00:00:00\",\"2022-01-10T00:00:00\",\"2022-01-17T00:00:00\",\"2022-01-24T00:00:00\",\"2022-01-31T00:00:00\",\"2022-02-07T00:00:00\",\"2022-02-14T00:00:00\",\"2022-02-21T00:00:00\",\"2022-02-28T00:00:00\",\"2022-03-07T00:00:00\",\"2022-03-14T00:00:00\",\"2022-03-21T00:00:00\",\"2022-03-28T00:00:00\",\"2022-04-04T00:00:00\",\"2022-04-11T00:00:00\",\"2022-04-18T00:00:00\",\"2022-04-25T00:00:00\",\"2022-05-02T00:00:00\",\"2022-05-09T00:00:00\",\"2022-05-16T00:00:00\",\"2022-05-23T00:00:00\",\"2022-05-30T00:00:00\",\"2022-06-06T00:00:00\",\"2022-06-13T00:00:00\",\"2022-06-20T00:00:00\",\"2022-06-27T00:00:00\",\"2022-07-04T00:00:00\",\"2022-07-11T00:00:00\",\"2022-07-18T00:00:00\",\"2022-07-25T00:00:00\",\"2022-08-01T00:00:00\",\"2022-08-08T00:00:00\",\"2022-08-15T00:00:00\",\"2022-08-22T00:00:00\",\"2022-08-29T00:00:00\",\"2022-09-05T00:00:00\",\"2022-09-12T00:00:00\",\"2022-09-19T00:00:00\",\"2022-09-26T00:00:00\",\"2022-10-03T00:00:00\",\"2022-10-10T00:00:00\",\"2022-10-17T00:00:00\",\"2022-10-24T00:00:00\",\"2022-10-31T00:00:00\",\"2022-11-07T00:00:00\",\"2022-11-14T00:00:00\",\"2022-11-21T00:00:00\",\"2022-11-28T00:00:00\",\"2022-12-05T00:00:00\",\"2022-12-12T00:00:00\",\"2022-12-19T00:00:00\",\"2022-12-26T00:00:00\"],\"xaxis\":\"x3\",\"y\":[0.0,0.0,0.0,3.0,5.0,3.0,3.0,5.0,4.0,4.0,6.0,5.0,5.0,5.0,6.0,2.0,5.0,7.0,3.0,4.0,4.0,2.0,6.0,7.0,5.0,3.0,0.0,10.0,5.0,3.0,4.0,3.0,6.0,4.0,5.0,4.0,4.0,5.0,4.0,6.0,4.0,4.0,3.0,6.0,6.0,3.0,4.0,5.0,3.0,5.0,5.0,3.0,6.0],\"yaxis\":\"y3\",\"type\":\"bar\"},{\"alignmentgroup\":\"True\",\"hovertemplate\":\"variable=resurrected_user<br>group=group-1<br>timestamp=%{x}<br>value=%{y}<extra></extra>\",\"legendgroup\":\"resurrected_user\",\"marker\":{\"color\":\"#00cc96\",\"pattern\":{\"shape\":\"\"}},\"name\":\"resurrected_user\",\"offsetgroup\":\"resurrected_user\",\"orientation\":\"v\",\"showlegend\":false,\"textposition\":\"auto\",\"x\":[\"2021-12-27T00:00:00\",\"2022-01-03T00:00:00\",\"2022-01-10T00:00:00\",\"2022-01-17T00:00:00\",\"2022-01-24T00:00:00\",\"2022-01-31T00:00:00\",\"2022-02-07T00:00:00\",\"2022-02-14T00:00:00\",\"2022-02-21T00:00:00\",\"2022-02-28T00:00:00\",\"2022-03-07T00:00:00\",\"2022-03-14T00:00:00\",\"2022-03-21T00:00:00\",\"2022-03-28T00:00:00\",\"2022-04-04T00:00:00\",\"2022-04-11T00:00:00\",\"2022-04-18T00:00:00\",\"2022-04-25T00:00:00\",\"2022-05-02T00:00:00\",\"2022-05-09T00:00:00\",\"2022-05-16T00:00:00\",\"2022-05-23T00:00:00\",\"2022-05-30T00:00:00\",\"2022-06-06T00:00:00\",\"2022-06-13T00:00:00\",\"2022-06-20T00:00:00\",\"2022-06-27T00:00:00\",\"2022-07-04T00:00:00\",\"2022-07-11T00:00:00\",\"2022-07-18T00:00:00\",\"2022-07-25T00:00:00\",\"2022-08-01T00:00:00\",\"2022-08-08T00:00:00\",\"2022-08-15T00:00:00\",\"2022-08-22T00:00:00\",\"2022-08-29T00:00:00\",\"2022-09-05T00:00:00\",\"2022-09-12T00:00:00\",\"2022-09-19T00:00:00\",\"2022-09-26T00:00:00\",\"2022-10-03T00:00:00\",\"2022-10-10T00:00:00\",\"2022-10-17T00:00:00\",\"2022-10-24T00:00:00\",\"2022-10-31T00:00:00\",\"2022-11-07T00:00:00\",\"2022-11-14T00:00:00\",\"2022-11-21T00:00:00\",\"2022-11-28T00:00:00\",\"2022-12-05T00:00:00\",\"2022-12-12T00:00:00\",\"2022-12-19T00:00:00\",\"2022-12-26T00:00:00\"],\"xaxis\":\"x4\",\"y\":[0.0,0.0,1.0,1.0,5.0,4.0,2.0,7.0,6.0,4.0,4.0,7.0,5.0,3.0,2.0,6.0,2.0,1.0,6.0,4.0,5.0,6.0,5.0,5.0,1.0,3.0,3.0,7.0,5.0,3.0,4.0,5.0,4.0,3.0,0.0,7.0,3.0,5.0,5.0,2.0,4.0,3.0,3.0,6.0,4.0,7.0,1.0,5.0,11.0,3.0,4.0,5.0,4.0],\"yaxis\":\"y4\",\"type\":\"bar\"},{\"alignmentgroup\":\"True\",\"hovertemplate\":\"variable=resurrected_user<br>group=group-2<br>timestamp=%{x}<br>value=%{y}<extra></extra>\",\"legendgroup\":\"resurrected_user\",\"marker\":{\"color\":\"#00cc96\",\"pattern\":{\"shape\":\"\"}},\"name\":\"resurrected_user\",\"offsetgroup\":\"resurrected_user\",\"orientation\":\"v\",\"showlegend\":false,\"textposition\":\"auto\",\"x\":[\"2021-12-27T00:00:00\",\"2022-01-03T00:00:00\",\"2022-01-10T00:00:00\",\"2022-01-17T00:00:00\",\"2022-01-24T00:00:00\",\"2022-01-31T00:00:00\",\"2022-02-07T00:00:00\",\"2022-02-14T00:00:00\",\"2022-02-21T00:00:00\",\"2022-02-28T00:00:00\",\"2022-03-07T00:00:00\",\"2022-03-14T00:00:00\",\"2022-03-21T00:00:00\",\"2022-03-28T00:00:00\",\"2022-04-04T00:00:00\",\"2022-04-11T00:00:00\",\"2022-04-18T00:00:00\",\"2022-04-25T00:00:00\",\"2022-05-02T00:00:00\",\"2022-05-09T00:00:00\",\"2022-05-16T00:00:00\",\"2022-05-23T00:00:00\",\"2022-05-30T00:00:00\",\"2022-06-06T00:00:00\",\"2022-06-13T00:00:00\",\"2022-06-20T00:00:00\",\"2022-06-27T00:00:00\",\"2022-07-04T00:00:00\",\"2022-07-11T00:00:00\",\"2022-07-18T00:00:00\",\"2022-07-25T00:00:00\",\"2022-08-01T00:00:00\",\"2022-08-08T00:00:00\",\"2022-08-15T00:00:00\",\"2022-08-22T00:00:00\",\"2022-08-29T00:00:00\",\"2022-09-05T00:00:00\",\"2022-09-12T00:00:00\",\"2022-09-19T00:00:00\",\"2022-09-26T00:00:00\",\"2022-10-03T00:00:00\",\"2022-10-10T00:00:00\",\"2022-10-17T00:00:00\",\"2022-10-24T00:00:00\",\"2022-10-31T00:00:00\",\"2022-11-07T00:00:00\",\"2022-11-14T00:00:00\",\"2022-11-21T00:00:00\",\"2022-11-28T00:00:00\",\"2022-12-05T00:00:00\",\"2022-12-12T00:00:00\",\"2022-12-19T00:00:00\",\"2022-12-26T00:00:00\"],\"xaxis\":\"x\",\"y\":[0.0,0.0,1.0,4.0,5.0,5.0,9.0,2.0,4.0,4.0,2.0,7.0,5.0,4.0,7.0,2.0,4.0,5.0,3.0,8.0,1.0,7.0,3.0,3.0,4.0,6.0,2.0,1.0,3.0,3.0,2.0,3.0,5.0,4.0,4.0,5.0,5.0,3.0,5.0,4.0,3.0,5.0,3.0,6.0,2.0,5.0,1.0,5.0,2.0,4.0,5.0,1.0,4.0],\"yaxis\":\"y\",\"type\":\"bar\"},{\"alignmentgroup\":\"True\",\"hovertemplate\":\"variable=churned_user<br>group=group-0<br>timestamp=%{x}<br>value=%{y}<extra></extra>\",\"legendgroup\":\"churned_user\",\"marker\":{\"color\":\"#ab63fa\",\"pattern\":{\"shape\":\"\"}},\"name\":\"churned_user\",\"offsetgroup\":\"churned_user\",\"orientation\":\"v\",\"showlegend\":true,\"textposition\":\"auto\",\"x\":[\"2021-12-27T00:00:00\",\"2022-01-03T00:00:00\",\"2022-01-10T00:00:00\",\"2022-01-17T00:00:00\",\"2022-01-24T00:00:00\",\"2022-01-31T00:00:00\",\"2022-02-07T00:00:00\",\"2022-02-14T00:00:00\",\"2022-02-21T00:00:00\",\"2022-02-28T00:00:00\",\"2022-03-07T00:00:00\",\"2022-03-14T00:00:00\",\"2022-03-21T00:00:00\",\"2022-03-28T00:00:00\",\"2022-04-04T00:00:00\",\"2022-04-11T00:00:00\",\"2022-04-18T00:00:00\",\"2022-04-25T00:00:00\",\"2022-05-02T00:00:00\",\"2022-05-09T00:00:00\",\"2022-05-16T00:00:00\",\"2022-05-23T00:00:00\",\"2022-05-30T00:00:00\",\"2022-06-06T00:00:00\",\"2022-06-13T00:00:00\",\"2022-06-20T00:00:00\",\"2022-06-27T00:00:00\",\"2022-07-04T00:00:00\",\"2022-07-11T00:00:00\",\"2022-07-18T00:00:00\",\"2022-07-25T00:00:00\",\"2022-08-01T00:00:00\",\"2022-08-08T00:00:00\",\"2022-08-15T00:00:00\",\"2022-08-22T00:00:00\",\"2022-08-29T00:00:00\",\"2022-09-05T00:00:00\",\"2022-09-12T00:00:00\",\"2022-09-19T00:00:00\",\"2022-09-26T00:00:00\",\"2022-10-03T00:00:00\",\"2022-10-10T00:00:00\",\"2022-10-17T00:00:00\",\"2022-10-24T00:00:00\",\"2022-10-31T00:00:00\",\"2022-11-07T00:00:00\",\"2022-11-14T00:00:00\",\"2022-11-21T00:00:00\",\"2022-11-28T00:00:00\",\"2022-12-05T00:00:00\",\"2022-12-12T00:00:00\",\"2022-12-19T00:00:00\",\"2022-12-26T00:00:00\"],\"xaxis\":\"x3\",\"y\":[0.0,0.0,-5.0,-3.0,-3.0,-3.0,-6.0,-3.0,-8.0,-7.0,-1.0,-5.0,-7.0,-4.0,-3.0,-4.0,-7.0,-3.0,-3.0,-6.0,-5.0,-6.0,-4.0,-3.0,-3.0,-3.0,-10.0,-2.0,-4.0,-4.0,-6.0,-6.0,-2.0,-7.0,-3.0,-4.0,-3.0,-3.0,-8.0,-3.0,-6.0,-2.0,-7.0,-6.0,0.0,-8.0,-3.0,-2.0,-4.0,-5.0,-7.0,-4.0,-4.0],\"yaxis\":\"y3\",\"type\":\"bar\"},{\"alignmentgroup\":\"True\",\"hovertemplate\":\"variable=churned_user<br>group=group-1<br>timestamp=%{x}<br>value=%{y}<extra></extra>\",\"legendgroup\":\"churned_user\",\"marker\":{\"color\":\"#ab63fa\",\"pattern\":{\"shape\":\"\"}},\"name\":\"churned_user\",\"offsetgroup\":\"churned_user\",\"orientation\":\"v\",\"showlegend\":false,\"textposition\":\"auto\",\"x\":[\"2021-12-27T00:00:00\",\"2022-01-03T00:00:00\",\"2022-01-10T00:00:00\",\"2022-01-17T00:00:00\",\"2022-01-24T00:00:00\",\"2022-01-31T00:00:00\",\"2022-02-07T00:00:00\",\"2022-02-14T00:00:00\",\"2022-02-21T00:00:00\",\"2022-02-28T00:00:00\",\"2022-03-07T00:00:00\",\"2022-03-14T00:00:00\",\"2022-03-21T00:00:00\",\"2022-03-28T00:00:00\",\"2022-04-04T00:00:00\",\"2022-04-11T00:00:00\",\"2022-04-18T00:00:00\",\"2022-04-25T00:00:00\",\"2022-05-02T00:00:00\",\"2022-05-09T00:00:00\",\"2022-05-16T00:00:00\",\"2022-05-23T00:00:00\",\"2022-05-30T00:00:00\",\"2022-06-06T00:00:00\",\"2022-06-13T00:00:00\",\"2022-06-20T00:00:00\",\"2022-06-27T00:00:00\",\"2022-07-04T00:00:00\",\"2022-07-11T00:00:00\",\"2022-07-18T00:00:00\",\"2022-07-25T00:00:00\",\"2022-08-01T00:00:00\",\"2022-08-08T00:00:00\",\"2022-08-15T00:00:00\",\"2022-08-22T00:00:00\",\"2022-08-29T00:00:00\",\"2022-09-05T00:00:00\",\"2022-09-12T00:00:00\",\"2022-09-19T00:00:00\",\"2022-09-26T00:00:00\",\"2022-10-03T00:00:00\",\"2022-10-10T00:00:00\",\"2022-10-17T00:00:00\",\"2022-10-24T00:00:00\",\"2022-10-31T00:00:00\",\"2022-11-07T00:00:00\",\"2022-11-14T00:00:00\",\"2022-11-21T00:00:00\",\"2022-11-28T00:00:00\",\"2022-12-05T00:00:00\",\"2022-12-12T00:00:00\",\"2022-12-19T00:00:00\",\"2022-12-26T00:00:00\"],\"xaxis\":\"x4\",\"y\":[0.0,-3.0,-3.0,-3.0,-5.0,-3.0,-4.0,-7.0,-3.0,-4.0,-8.0,-4.0,-3.0,-2.0,-7.0,-2.0,0.0,-6.0,-5.0,-6.0,-5.0,-3.0,-5.0,-1.0,-5.0,-3.0,-6.0,-7.0,-2.0,-5.0,-6.0,-2.0,-2.0,-5.0,-3.0,-2.0,-7.0,-2.0,-6.0,-2.0,-2.0,-3.0,-7.0,-4.0,-6.0,-2.0,-5.0,-9.0,-3.0,-6.0,-4.0,-6.0,-4.0],\"yaxis\":\"y4\",\"type\":\"bar\"},{\"alignmentgroup\":\"True\",\"hovertemplate\":\"variable=churned_user<br>group=group-2<br>timestamp=%{x}<br>value=%{y}<extra></extra>\",\"legendgroup\":\"churned_user\",\"marker\":{\"color\":\"#ab63fa\",\"pattern\":{\"shape\":\"\"}},\"name\":\"churned_user\",\"offsetgroup\":\"churned_user\",\"orientation\":\"v\",\"showlegend\":false,\"textposition\":\"auto\",\"x\":[\"2021-12-27T00:00:00\",\"2022-01-03T00:00:00\",\"2022-01-10T00:00:00\",\"2022-01-17T00:00:00\",\"2022-01-24T00:00:00\",\"2022-01-31T00:00:00\",\"2022-02-07T00:00:00\",\"2022-02-14T00:00:00\",\"2022-02-21T00:00:00\",\"2022-02-28T00:00:00\",\"2022-03-07T00:00:00\",\"2022-03-14T00:00:00\",\"2022-03-21T00:00:00\",\"2022-03-28T00:00:00\",\"2022-04-04T00:00:00\",\"2022-04-11T00:00:00\",\"2022-04-18T00:00:00\",\"2022-04-25T00:00:00\",\"2022-05-02T00:00:00\",\"2022-05-09T00:00:00\",\"2022-05-16T00:00:00\",\"2022-05-23T00:00:00\",\"2022-05-30T00:00:00\",\"2022-06-06T00:00:00\",\"2022-06-13T00:00:00\",\"2022-06-20T00:00:00\",\"2022-06-27T00:00:00\",\"2022-07-04T00:00:00\",\"2022-07-11T00:00:00\",\"2022-07-18T00:00:00\",\"2022-07-25T00:00:00\",\"2022-08-01T00:00:00\",\"2022-08-08T00:00:00\",\"2022-08-15T00:00:00\",\"2022-08-22T00:00:00\",\"2022-08-29T00:00:00\",\"2022-09-05T00:00:00\",\"2022-09-12T00:00:00\",\"2022-09-19T00:00:00\",\"2022-09-26T00:00:00\",\"2022-10-03T00:00:00\",\"2022-10-10T00:00:00\",\"2022-10-17T00:00:00\",\"2022-10-24T00:00:00\",\"2022-10-31T00:00:00\",\"2022-11-07T00:00:00\",\"2022-11-14T00:00:00\",\"2022-11-21T00:00:00\",\"2022-11-28T00:00:00\",\"2022-12-05T00:00:00\",\"2022-12-12T00:00:00\",\"2022-12-19T00:00:00\",\"2022-12-26T00:00:00\"],\"xaxis\":\"x\",\"y\":[0.0,-1.0,-6.0,-5.0,-7.0,-6.0,-1.0,-7.0,-1.0,-3.0,-6.0,-6.0,-6.0,-7.0,-3.0,-5.0,-3.0,-5.0,-4.0,-2.0,-7.0,-3.0,-2.0,-7.0,-3.0,-3.0,0.0,-3.0,-4.0,-4.0,-2.0,-2.0,-4.0,-6.0,-4.0,-5.0,-4.0,-5.0,-2.0,-5.0,-5.0,-4.0,-3.0,-5.0,-3.0,-3.0,-5.0,-2.0,-2.0,-5.0,-3.0,-4.0,-4.0],\"yaxis\":\"y\",\"type\":\"bar\"},{\"hovertemplate\":\"variable=dau<br>group=group-0<br>timestamp=%{x}<br>value=%{y}<extra></extra>\",\"legendgroup\":\"dau\",\"line\":{\"color\":\"green\",\"dash\":\"solid\"},\"marker\":{\"symbol\":\"circle\"},\"mode\":\"lines+markers\",\"name\":\"dau\",\"showlegend\":true,\"x\":[\"2021-12-27T00:00:00\",\"2022-01-03T00:00:00\",\"2022-01-10T00:00:00\",\"2022-01-17T00:00:00\",\"2022-01-24T00:00:00\",\"2022-01-31T00:00:00\",\"2022-02-07T00:00:00\",\"2022-02-14T00:00:00\",\"2022-02-21T00:00:00\",\"2022-02-28T00:00:00\",\"2022-03-07T00:00:00\",\"2022-03-14T00:00:00\",\"2022-03-21T00:00:00\",\"2022-03-28T00:00:00\",\"2022-04-04T00:00:00\",\"2022-04-11T00:00:00\",\"2022-04-18T00:00:00\",\"2022-04-25T00:00:00\",\"2022-05-02T00:00:00\",\"2022-05-09T00:00:00\",\"2022-05-16T00:00:00\",\"2022-05-23T00:00:00\",\"2022-05-30T00:00:00\",\"2022-06-06T00:00:00\",\"2022-06-13T00:00:00\",\"2022-06-20T00:00:00\",\"2022-06-27T00:00:00\",\"2022-07-04T00:00:00\",\"2022-07-11T00:00:00\",\"2022-07-18T00:00:00\",\"2022-07-25T00:00:00\",\"2022-08-01T00:00:00\",\"2022-08-08T00:00:00\",\"2022-08-15T00:00:00\",\"2022-08-22T00:00:00\",\"2022-08-29T00:00:00\",\"2022-09-05T00:00:00\",\"2022-09-12T00:00:00\",\"2022-09-19T00:00:00\",\"2022-09-26T00:00:00\",\"2022-10-03T00:00:00\",\"2022-10-10T00:00:00\",\"2022-10-17T00:00:00\",\"2022-10-24T00:00:00\",\"2022-10-31T00:00:00\",\"2022-11-07T00:00:00\",\"2022-11-14T00:00:00\",\"2022-11-21T00:00:00\",\"2022-11-28T00:00:00\",\"2022-12-05T00:00:00\",\"2022-12-12T00:00:00\",\"2022-12-19T00:00:00\",\"2022-12-26T00:00:00\"],\"xaxis\":\"x3\",\"y\":[2.0,14.0,13.0,15.0,17.0,17.0,14.0,16.0,12.0,9.0,14.0,14.0,12.0,13.0,16.0,14.0,12.0,16.0,16.0,14.0,13.0,9.0,11.0,15.0,17.0,17.0,7.0,15.0,16.0,15.0,13.0,10.0,14.0,11.0,13.0,13.0,14.0,16.0,12.0,15.0,13.0,15.0,11.0,11.0,17.0,12.0,13.0,16.0,15.0,15.0,13.0,12.0,14.0],\"yaxis\":\"y3\",\"type\":\"scattergl\"},{\"hovertemplate\":\"variable=dau<br>group=group-1<br>timestamp=%{x}<br>value=%{y}<extra></extra>\",\"legendgroup\":\"dau\",\"line\":{\"color\":\"green\",\"dash\":\"solid\"},\"marker\":{\"symbol\":\"circle\"},\"mode\":\"lines+markers\",\"name\":\"dau\",\"showlegend\":false,\"x\":[\"2021-12-27T00:00:00\",\"2022-01-03T00:00:00\",\"2022-01-10T00:00:00\",\"2022-01-17T00:00:00\",\"2022-01-24T00:00:00\",\"2022-01-31T00:00:00\",\"2022-02-07T00:00:00\",\"2022-02-14T00:00:00\",\"2022-02-21T00:00:00\",\"2022-02-28T00:00:00\",\"2022-03-07T00:00:00\",\"2022-03-14T00:00:00\",\"2022-03-21T00:00:00\",\"2022-03-28T00:00:00\",\"2022-04-04T00:00:00\",\"2022-04-11T00:00:00\",\"2022-04-18T00:00:00\",\"2022-04-25T00:00:00\",\"2022-05-02T00:00:00\",\"2022-05-09T00:00:00\",\"2022-05-16T00:00:00\",\"2022-05-23T00:00:00\",\"2022-05-30T00:00:00\",\"2022-06-06T00:00:00\",\"2022-06-13T00:00:00\",\"2022-06-20T00:00:00\",\"2022-06-27T00:00:00\",\"2022-07-04T00:00:00\",\"2022-07-11T00:00:00\",\"2022-07-18T00:00:00\",\"2022-07-25T00:00:00\",\"2022-08-01T00:00:00\",\"2022-08-08T00:00:00\",\"2022-08-15T00:00:00\",\"2022-08-22T00:00:00\",\"2022-08-29T00:00:00\",\"2022-09-05T00:00:00\",\"2022-09-12T00:00:00\",\"2022-09-19T00:00:00\",\"2022-09-26T00:00:00\",\"2022-10-03T00:00:00\",\"2022-10-10T00:00:00\",\"2022-10-17T00:00:00\",\"2022-10-24T00:00:00\",\"2022-10-31T00:00:00\",\"2022-11-07T00:00:00\",\"2022-11-14T00:00:00\",\"2022-11-21T00:00:00\",\"2022-11-28T00:00:00\",\"2022-12-05T00:00:00\",\"2022-12-12T00:00:00\",\"2022-12-19T00:00:00\",\"2022-12-26T00:00:00\"],\"xaxis\":\"x4\",\"y\":[10.0,14.0,14.0,13.0,13.0,14.0,12.0,12.0,15.0,15.0,11.0,14.0,16.0,17.0,12.0,16.0,18.0,13.0,14.0,12.0,12.0,15.0,15.0,19.0,15.0,15.0,12.0,12.0,15.0,13.0,11.0,14.0,16.0,14.0,11.0,16.0,12.0,15.0,14.0,14.0,16.0,16.0,12.0,14.0,12.0,17.0,13.0,9.0,17.0,14.0,14.0,13.0,13.0],\"yaxis\":\"y4\",\"type\":\"scattergl\"},{\"hovertemplate\":\"variable=dau<br>group=group-2<br>timestamp=%{x}<br>value=%{y}<extra></extra>\",\"legendgroup\":\"dau\",\"line\":{\"color\":\"green\",\"dash\":\"solid\"},\"marker\":{\"symbol\":\"circle\"},\"mode\":\"lines+markers\",\"name\":\"dau\",\"showlegend\":false,\"x\":[\"2021-12-27T00:00:00\",\"2022-01-03T00:00:00\",\"2022-01-10T00:00:00\",\"2022-01-17T00:00:00\",\"2022-01-24T00:00:00\",\"2022-01-31T00:00:00\",\"2022-02-07T00:00:00\",\"2022-02-14T00:00:00\",\"2022-02-21T00:00:00\",\"2022-02-28T00:00:00\",\"2022-03-07T00:00:00\",\"2022-03-14T00:00:00\",\"2022-03-21T00:00:00\",\"2022-03-28T00:00:00\",\"2022-04-04T00:00:00\",\"2022-04-11T00:00:00\",\"2022-04-18T00:00:00\",\"2022-04-25T00:00:00\",\"2022-05-02T00:00:00\",\"2022-05-09T00:00:00\",\"2022-05-16T00:00:00\",\"2022-05-23T00:00:00\",\"2022-05-30T00:00:00\",\"2022-06-06T00:00:00\",\"2022-06-13T00:00:00\",\"2022-06-20T00:00:00\",\"2022-06-27T00:00:00\",\"2022-07-04T00:00:00\",\"2022-07-11T00:00:00\",\"2022-07-18T00:00:00\",\"2022-07-25T00:00:00\",\"2022-08-01T00:00:00\",\"2022-08-08T00:00:00\",\"2022-08-15T00:00:00\",\"2022-08-22T00:00:00\",\"2022-08-29T00:00:00\",\"2022-09-05T00:00:00\",\"2022-09-12T00:00:00\",\"2022-09-19T00:00:00\",\"2022-09-26T00:00:00\",\"2022-10-03T00:00:00\",\"2022-10-10T00:00:00\",\"2022-10-17T00:00:00\",\"2022-10-24T00:00:00\",\"2022-10-31T00:00:00\",\"2022-11-07T00:00:00\",\"2022-11-14T00:00:00\",\"2022-11-21T00:00:00\",\"2022-11-28T00:00:00\",\"2022-12-05T00:00:00\",\"2022-12-12T00:00:00\",\"2022-12-19T00:00:00\",\"2022-12-26T00:00:00\"],\"xaxis\":\"x\",\"y\":[5.0,14.0,13.0,13.0,11.0,10.0,18.0,13.0,16.0,17.0,13.0,14.0,13.0,10.0,14.0,11.0,12.0,12.0,11.0,17.0,11.0,15.0,16.0,12.0,13.0,16.0,18.0,16.0,15.0,14.0,14.0,15.0,16.0,14.0,14.0,14.0,15.0,13.0,16.0,15.0,13.0,14.0,14.0,15.0,14.0,16.0,12.0,15.0,15.0,14.0,16.0,13.0,13.0],\"yaxis\":\"y\",\"type\":\"scattergl\"}],                        {\"template\":{\"data\":{\"histogram2dcontour\":[{\"type\":\"histogram2dcontour\",\"colorbar\":{\"outlinewidth\":0,\"ticks\":\"\"},\"colorscale\":[[0.0,\"#0d0887\"],[0.1111111111111111,\"#46039f\"],[0.2222222222222222,\"#7201a8\"],[0.3333333333333333,\"#9c179e\"],[0.4444444444444444,\"#bd3786\"],[0.5555555555555556,\"#d8576b\"],[0.6666666666666666,\"#ed7953\"],[0.7777777777777778,\"#fb9f3a\"],[0.8888888888888888,\"#fdca26\"],[1.0,\"#f0f921\"]]}],\"choropleth\":[{\"type\":\"choropleth\",\"colorbar\":{\"outlinewidth\":0,\"ticks\":\"\"}}],\"histogram2d\":[{\"type\":\"histogram2d\",\"colorbar\":{\"outlinewidth\":0,\"ticks\":\"\"},\"colorscale\":[[0.0,\"#0d0887\"],[0.1111111111111111,\"#46039f\"],[0.2222222222222222,\"#7201a8\"],[0.3333333333333333,\"#9c179e\"],[0.4444444444444444,\"#bd3786\"],[0.5555555555555556,\"#d8576b\"],[0.6666666666666666,\"#ed7953\"],[0.7777777777777778,\"#fb9f3a\"],[0.8888888888888888,\"#fdca26\"],[1.0,\"#f0f921\"]]}],\"heatmap\":[{\"type\":\"heatmap\",\"colorbar\":{\"outlinewidth\":0,\"ticks\":\"\"},\"colorscale\":[[0.0,\"#0d0887\"],[0.1111111111111111,\"#46039f\"],[0.2222222222222222,\"#7201a8\"],[0.3333333333333333,\"#9c179e\"],[0.4444444444444444,\"#bd3786\"],[0.5555555555555556,\"#d8576b\"],[0.6666666666666666,\"#ed7953\"],[0.7777777777777778,\"#fb9f3a\"],[0.8888888888888888,\"#fdca26\"],[1.0,\"#f0f921\"]]}],\"heatmapgl\":[{\"type\":\"heatmapgl\",\"colorbar\":{\"outlinewidth\":0,\"ticks\":\"\"},\"colorscale\":[[0.0,\"#0d0887\"],[0.1111111111111111,\"#46039f\"],[0.2222222222222222,\"#7201a8\"],[0.3333333333333333,\"#9c179e\"],[0.4444444444444444,\"#bd3786\"],[0.5555555555555556,\"#d8576b\"],[0.6666666666666666,\"#ed7953\"],[0.7777777777777778,\"#fb9f3a\"],[0.8888888888888888,\"#fdca26\"],[1.0,\"#f0f921\"]]}],\"contourcarpet\":[{\"type\":\"contourcarpet\",\"colorbar\":{\"outlinewidth\":0,\"ticks\":\"\"}}],\"contour\":[{\"type\":\"contour\",\"colorbar\":{\"outlinewidth\":0,\"ticks\":\"\"},\"colorscale\":[[0.0,\"#0d0887\"],[0.1111111111111111,\"#46039f\"],[0.2222222222222222,\"#7201a8\"],[0.3333333333333333,\"#9c179e\"],[0.4444444444444444,\"#bd3786\"],[0.5555555555555556,\"#d8576b\"],[0.6666666666666666,\"#ed7953\"],[0.7777777777777778,\"#fb9f3a\"],[0.8888888888888888,\"#fdca26\"],[1.0,\"#f0f921\"]]}],\"surface\":[{\"type\":\"surface\",\"colorbar\":{\"outlinewidth\":0,\"ticks\":\"\"},\"colorscale\":[[0.0,\"#0d0887\"],[0.1111111111111111,\"#46039f\"],[0.2222222222222222,\"#7201a8\"],[0.3333333333333333,\"#9c179e\"],[0.4444444444444444,\"#bd3786\"],[0.5555555555555556,\"#d8576b\"],[0.6666666666666666,\"#ed7953\"],[0.7777777777777778,\"#fb9f3a\"],[0.8888888888888888,\"#fdca26\"],[1.0,\"#f0f921\"]]}],\"mesh3d\":[{\"type\":\"mesh3d\",\"colorbar\":{\"outlinewidth\":0,\"ticks\":\"\"}}],\"scatter\":[{\"fillpattern\":{\"fillmode\":\"overlay\",\"size\":10,\"solidity\":0.2},\"type\":\"scatter\"}],\"parcoords\":[{\"type\":\"parcoords\",\"line\":{\"colorbar\":{\"outlinewidth\":0,\"ticks\":\"\"}}}],\"scatterpolargl\":[{\"type\":\"scatterpolargl\",\"marker\":{\"colorbar\":{\"outlinewidth\":0,\"ticks\":\"\"}}}],\"bar\":[{\"error_x\":{\"color\":\"#2a3f5f\"},\"error_y\":{\"color\":\"#2a3f5f\"},\"marker\":{\"line\":{\"color\":\"#E5ECF6\",\"width\":0.5},\"pattern\":{\"fillmode\":\"overlay\",\"size\":10,\"solidity\":0.2}},\"type\":\"bar\"}],\"scattergeo\":[{\"type\":\"scattergeo\",\"marker\":{\"colorbar\":{\"outlinewidth\":0,\"ticks\":\"\"}}}],\"scatterpolar\":[{\"type\":\"scatterpolar\",\"marker\":{\"colorbar\":{\"outlinewidth\":0,\"ticks\":\"\"}}}],\"histogram\":[{\"marker\":{\"pattern\":{\"fillmode\":\"overlay\",\"size\":10,\"solidity\":0.2}},\"type\":\"histogram\"}],\"scattergl\":[{\"type\":\"scattergl\",\"marker\":{\"colorbar\":{\"outlinewidth\":0,\"ticks\":\"\"}}}],\"scatter3d\":[{\"type\":\"scatter3d\",\"line\":{\"colorbar\":{\"outlinewidth\":0,\"ticks\":\"\"}},\"marker\":{\"colorbar\":{\"outlinewidth\":0,\"ticks\":\"\"}}}],\"scattermapbox\":[{\"type\":\"scattermapbox\",\"marker\":{\"colorbar\":{\"outlinewidth\":0,\"ticks\":\"\"}}}],\"scatterternary\":[{\"type\":\"scatterternary\",\"marker\":{\"colorbar\":{\"outlinewidth\":0,\"ticks\":\"\"}}}],\"scattercarpet\":[{\"type\":\"scattercarpet\",\"marker\":{\"colorbar\":{\"outlinewidth\":0,\"ticks\":\"\"}}}],\"carpet\":[{\"aaxis\":{\"endlinecolor\":\"#2a3f5f\",\"gridcolor\":\"white\",\"linecolor\":\"white\",\"minorgridcolor\":\"white\",\"startlinecolor\":\"#2a3f5f\"},\"baxis\":{\"endlinecolor\":\"#2a3f5f\",\"gridcolor\":\"white\",\"linecolor\":\"white\",\"minorgridcolor\":\"white\",\"startlinecolor\":\"#2a3f5f\"},\"type\":\"carpet\"}],\"table\":[{\"cells\":{\"fill\":{\"color\":\"#EBF0F8\"},\"line\":{\"color\":\"white\"}},\"header\":{\"fill\":{\"color\":\"#C8D4E3\"},\"line\":{\"color\":\"white\"}},\"type\":\"table\"}],\"barpolar\":[{\"marker\":{\"line\":{\"color\":\"#E5ECF6\",\"width\":0.5},\"pattern\":{\"fillmode\":\"overlay\",\"size\":10,\"solidity\":0.2}},\"type\":\"barpolar\"}],\"pie\":[{\"automargin\":true,\"type\":\"pie\"}]},\"layout\":{\"autotypenumbers\":\"strict\",\"colorway\":[\"#636efa\",\"#EF553B\",\"#00cc96\",\"#ab63fa\",\"#FFA15A\",\"#19d3f3\",\"#FF6692\",\"#B6E880\",\"#FF97FF\",\"#FECB52\"],\"font\":{\"color\":\"#2a3f5f\"},\"hovermode\":\"closest\",\"hoverlabel\":{\"align\":\"left\"},\"paper_bgcolor\":\"white\",\"plot_bgcolor\":\"#E5ECF6\",\"polar\":{\"bgcolor\":\"#E5ECF6\",\"angularaxis\":{\"gridcolor\":\"white\",\"linecolor\":\"white\",\"ticks\":\"\"},\"radialaxis\":{\"gridcolor\":\"white\",\"linecolor\":\"white\",\"ticks\":\"\"}},\"ternary\":{\"bgcolor\":\"#E5ECF6\",\"aaxis\":{\"gridcolor\":\"white\",\"linecolor\":\"white\",\"ticks\":\"\"},\"baxis\":{\"gridcolor\":\"white\",\"linecolor\":\"white\",\"ticks\":\"\"},\"caxis\":{\"gridcolor\":\"white\",\"linecolor\":\"white\",\"ticks\":\"\"}},\"coloraxis\":{\"colorbar\":{\"outlinewidth\":0,\"ticks\":\"\"}},\"colorscale\":{\"sequential\":[[0.0,\"#0d0887\"],[0.1111111111111111,\"#46039f\"],[0.2222222222222222,\"#7201a8\"],[0.3333333333333333,\"#9c179e\"],[0.4444444444444444,\"#bd3786\"],[0.5555555555555556,\"#d8576b\"],[0.6666666666666666,\"#ed7953\"],[0.7777777777777778,\"#fb9f3a\"],[0.8888888888888888,\"#fdca26\"],[1.0,\"#f0f921\"]],\"sequentialminus\":[[0.0,\"#0d0887\"],[0.1111111111111111,\"#46039f\"],[0.2222222222222222,\"#7201a8\"],[0.3333333333333333,\"#9c179e\"],[0.4444444444444444,\"#bd3786\"],[0.5555555555555556,\"#d8576b\"],[0.6666666666666666,\"#ed7953\"],[0.7777777777777778,\"#fb9f3a\"],[0.8888888888888888,\"#fdca26\"],[1.0,\"#f0f921\"]],\"diverging\":[[0,\"#8e0152\"],[0.1,\"#c51b7d\"],[0.2,\"#de77ae\"],[0.3,\"#f1b6da\"],[0.4,\"#fde0ef\"],[0.5,\"#f7f7f7\"],[0.6,\"#e6f5d0\"],[0.7,\"#b8e186\"],[0.8,\"#7fbc41\"],[0.9,\"#4d9221\"],[1,\"#276419\"]]},\"xaxis\":{\"gridcolor\":\"white\",\"linecolor\":\"white\",\"ticks\":\"\",\"title\":{\"standoff\":15},\"zerolinecolor\":\"white\",\"automargin\":true,\"zerolinewidth\":2},\"yaxis\":{\"gridcolor\":\"white\",\"linecolor\":\"white\",\"ticks\":\"\",\"title\":{\"standoff\":15},\"zerolinecolor\":\"white\",\"automargin\":true,\"zerolinewidth\":2},\"scene\":{\"xaxis\":{\"backgroundcolor\":\"#E5ECF6\",\"gridcolor\":\"white\",\"linecolor\":\"white\",\"showbackground\":true,\"ticks\":\"\",\"zerolinecolor\":\"white\",\"gridwidth\":2},\"yaxis\":{\"backgroundcolor\":\"#E5ECF6\",\"gridcolor\":\"white\",\"linecolor\":\"white\",\"showbackground\":true,\"ticks\":\"\",\"zerolinecolor\":\"white\",\"gridwidth\":2},\"zaxis\":{\"backgroundcolor\":\"#E5ECF6\",\"gridcolor\":\"white\",\"linecolor\":\"white\",\"showbackground\":true,\"ticks\":\"\",\"zerolinecolor\":\"white\",\"gridwidth\":2}},\"shapedefaults\":{\"line\":{\"color\":\"#2a3f5f\"}},\"annotationdefaults\":{\"arrowcolor\":\"#2a3f5f\",\"arrowhead\":0,\"arrowwidth\":1},\"geo\":{\"bgcolor\":\"white\",\"landcolor\":\"#E5ECF6\",\"subunitcolor\":\"white\",\"showland\":true,\"showlakes\":true,\"lakecolor\":\"white\"},\"title\":{\"x\":0.05},\"mapbox\":{\"style\":\"light\"}}},\"xaxis\":{\"anchor\":\"y\",\"domain\":[0.0,0.49],\"title\":{\"text\":\"timestamp\"}},\"yaxis\":{\"anchor\":\"x\",\"domain\":[0.0,0.46499999999999997],\"title\":{\"text\":\"value\"}},\"xaxis2\":{\"anchor\":\"y2\",\"domain\":[0.51,1.0],\"matches\":\"x\",\"title\":{\"text\":\"timestamp\"}},\"yaxis2\":{\"anchor\":\"x2\",\"domain\":[0.0,0.46499999999999997],\"matches\":\"y\",\"showticklabels\":false},\"xaxis3\":{\"anchor\":\"y3\",\"domain\":[0.0,0.49],\"matches\":\"x\",\"showticklabels\":false},\"yaxis3\":{\"anchor\":\"x3\",\"domain\":[0.5349999999999999,0.9999999999999999],\"matches\":\"y\",\"title\":{\"text\":\"value\"}},\"xaxis4\":{\"anchor\":\"y4\",\"domain\":[0.51,1.0],\"matches\":\"x\",\"showticklabels\":false},\"yaxis4\":{\"anchor\":\"x4\",\"domain\":[0.5349999999999999,0.9999999999999999],\"matches\":\"y\",\"showticklabels\":false},\"annotations\":[{\"font\":{},\"showarrow\":false,\"text\":\"group=group-2\",\"x\":0.245,\"xanchor\":\"center\",\"xref\":\"paper\",\"y\":0.46499999999999997,\"yanchor\":\"bottom\",\"yref\":\"paper\"},{\"font\":{},\"showarrow\":false,\"text\":\"group=group-0\",\"x\":0.245,\"xanchor\":\"center\",\"xref\":\"paper\",\"y\":0.9999999999999999,\"yanchor\":\"bottom\",\"yref\":\"paper\"},{\"font\":{},\"showarrow\":false,\"text\":\"group=group-1\",\"x\":0.755,\"xanchor\":\"center\",\"xref\":\"paper\",\"y\":0.9999999999999999,\"yanchor\":\"bottom\",\"yref\":\"paper\"}],\"legend\":{\"title\":{\"text\":\"variable\"},\"tracegroupgap\":0},\"margin\":{\"t\":60,\"r\":200},\"barmode\":\"relative\",\"width\":1200,\"height\":800},                        {\"responsive\": true}                    ).then(function(){\n",
       "                            \n",
       "var gd = document.getElementById('833ab261-1dff-4911-8165-ab3a2af9dd52');\n",
       "var x = new MutationObserver(function (mutations, observer) {{\n",
       "        var display = window.getComputedStyle(gd).display;\n",
       "        if (!display || display === 'none') {{\n",
       "            console.log([gd, 'removed!']);\n",
       "            Plotly.purge(gd);\n",
       "            observer.disconnect();\n",
       "        }}\n",
       "}});\n",
       "\n",
       "// Listen for the removal of the full notebook cells\n",
       "var notebookContainer = gd.closest('#notebook-container');\n",
       "if (notebookContainer) {{\n",
       "    x.observe(notebookContainer, {childList: true});\n",
       "}}\n",
       "\n",
       "// Listen for the clearing of the current output cell\n",
       "var outputEl = gd.closest('.output');\n",
       "if (outputEl) {{\n",
       "    x.observe(outputEl, {childList: true});\n",
       "}}\n",
       "\n",
       "                        })                };                });            </script>        </div>"
      ]
     },
     "metadata": {},
     "output_type": "display_data"
    },
    {
     "data": {
      "application/vnd.plotly.v1+json": {
       "config": {
        "plotlyServerURL": "https://plot.ly"
       },
       "data": [
        {
         "hovertemplate": "variable=quick_ratio<br>group=group-0<br>timestamp=%{x}<br>value=%{y}<extra></extra>",
         "legendgroup": "quick_ratio",
         "line": {
          "color": "orange",
          "dash": "solid"
         },
         "marker": {
          "symbol": "circle"
         },
         "mode": "lines+markers",
         "name": "quick_ratio",
         "showlegend": true,
         "type": "scattergl",
         "x": [
          "2021-12-27T00:00:00",
          "2022-01-03T00:00:00",
          "2022-01-10T00:00:00",
          "2022-01-17T00:00:00",
          "2022-01-24T00:00:00",
          "2022-01-31T00:00:00",
          "2022-02-07T00:00:00",
          "2022-02-14T00:00:00",
          "2022-02-21T00:00:00",
          "2022-02-28T00:00:00",
          "2022-03-07T00:00:00",
          "2022-03-14T00:00:00",
          "2022-03-21T00:00:00",
          "2022-03-28T00:00:00",
          "2022-04-04T00:00:00",
          "2022-04-11T00:00:00",
          "2022-04-18T00:00:00",
          "2022-04-25T00:00:00",
          "2022-05-02T00:00:00",
          "2022-05-09T00:00:00",
          "2022-05-16T00:00:00",
          "2022-05-23T00:00:00",
          "2022-05-30T00:00:00",
          "2022-06-06T00:00:00",
          "2022-06-13T00:00:00",
          "2022-06-20T00:00:00",
          "2022-06-27T00:00:00",
          "2022-07-04T00:00:00",
          "2022-07-11T00:00:00",
          "2022-07-18T00:00:00",
          "2022-07-25T00:00:00",
          "2022-08-01T00:00:00",
          "2022-08-08T00:00:00",
          "2022-08-15T00:00:00",
          "2022-08-22T00:00:00",
          "2022-08-29T00:00:00",
          "2022-09-05T00:00:00",
          "2022-09-12T00:00:00",
          "2022-09-19T00:00:00",
          "2022-09-26T00:00:00",
          "2022-10-03T00:00:00",
          "2022-10-10T00:00:00",
          "2022-10-17T00:00:00",
          "2022-10-24T00:00:00",
          "2022-10-31T00:00:00",
          "2022-11-07T00:00:00",
          "2022-11-14T00:00:00",
          "2022-11-21T00:00:00",
          "2022-11-28T00:00:00",
          "2022-12-05T00:00:00",
          "2022-12-12T00:00:00",
          "2022-12-19T00:00:00",
          "2022-12-26T00:00:00"
         ],
         "xaxis": "x3",
         "y": [
          null,
          null,
          0.8,
          1.6666666666666667,
          1.6666666666666667,
          1,
          0.5,
          1.6666666666666667,
          0.5,
          0.5714285714285714,
          6,
          1,
          0.7142857142857143,
          1.25,
          2,
          0.5,
          0.7142857142857143,
          2.3333333333333335,
          1,
          0.6666666666666666,
          0.8,
          0.3333333333333333,
          1.5,
          2.3333333333333335,
          1.6666666666666667,
          1,
          0,
          5,
          1.25,
          0.75,
          0.6666666666666666,
          0.5,
          3,
          0.5714285714285714,
          1.6666666666666667,
          1,
          1.3333333333333333,
          1.6666666666666667,
          0.5,
          2,
          0.6666666666666666,
          2,
          0.42857142857142855,
          1,
          null,
          0.375,
          1.3333333333333333,
          2.5,
          0.75,
          1,
          0.7142857142857143,
          0.75,
          1.5
         ],
         "yaxis": "y3"
        },
        {
         "hovertemplate": "variable=quick_ratio<br>group=group-1<br>timestamp=%{x}<br>value=%{y}<extra></extra>",
         "legendgroup": "quick_ratio",
         "line": {
          "color": "orange",
          "dash": "solid"
         },
         "marker": {
          "symbol": "circle"
         },
         "mode": "lines+markers",
         "name": "quick_ratio",
         "showlegend": false,
         "type": "scattergl",
         "x": [
          "2021-12-27T00:00:00",
          "2022-01-03T00:00:00",
          "2022-01-10T00:00:00",
          "2022-01-17T00:00:00",
          "2022-01-24T00:00:00",
          "2022-01-31T00:00:00",
          "2022-02-07T00:00:00",
          "2022-02-14T00:00:00",
          "2022-02-21T00:00:00",
          "2022-02-28T00:00:00",
          "2022-03-07T00:00:00",
          "2022-03-14T00:00:00",
          "2022-03-21T00:00:00",
          "2022-03-28T00:00:00",
          "2022-04-04T00:00:00",
          "2022-04-11T00:00:00",
          "2022-04-18T00:00:00",
          "2022-04-25T00:00:00",
          "2022-05-02T00:00:00",
          "2022-05-09T00:00:00",
          "2022-05-16T00:00:00",
          "2022-05-23T00:00:00",
          "2022-05-30T00:00:00",
          "2022-06-06T00:00:00",
          "2022-06-13T00:00:00",
          "2022-06-20T00:00:00",
          "2022-06-27T00:00:00",
          "2022-07-04T00:00:00",
          "2022-07-11T00:00:00",
          "2022-07-18T00:00:00",
          "2022-07-25T00:00:00",
          "2022-08-01T00:00:00",
          "2022-08-08T00:00:00",
          "2022-08-15T00:00:00",
          "2022-08-22T00:00:00",
          "2022-08-29T00:00:00",
          "2022-09-05T00:00:00",
          "2022-09-12T00:00:00",
          "2022-09-19T00:00:00",
          "2022-09-26T00:00:00",
          "2022-10-03T00:00:00",
          "2022-10-10T00:00:00",
          "2022-10-17T00:00:00",
          "2022-10-24T00:00:00",
          "2022-10-31T00:00:00",
          "2022-11-07T00:00:00",
          "2022-11-14T00:00:00",
          "2022-11-21T00:00:00",
          "2022-11-28T00:00:00",
          "2022-12-05T00:00:00",
          "2022-12-12T00:00:00",
          "2022-12-19T00:00:00",
          "2022-12-26T00:00:00"
         ],
         "xaxis": "x4",
         "y": [
          null,
          2.3333333333333335,
          1,
          0.6666666666666666,
          1,
          1.3333333333333333,
          0.5,
          1,
          2,
          1,
          0.5,
          1.75,
          1.6666666666666667,
          1.5,
          0.2857142857142857,
          3,
          null,
          0.16666666666666666,
          1.2,
          0.6666666666666666,
          1,
          2,
          1,
          5,
          0.2,
          1,
          0.5,
          1,
          2.5,
          0.6,
          0.6666666666666666,
          2.5,
          2,
          0.6,
          0,
          3.5,
          0.42857142857142855,
          2.5,
          0.8333333333333334,
          1,
          2,
          1,
          0.42857142857142855,
          1.5,
          0.6666666666666666,
          3.5,
          0.2,
          0.5555555555555556,
          3.6666666666666665,
          0.5,
          1,
          0.8333333333333334,
          1
         ],
         "yaxis": "y4"
        },
        {
         "hovertemplate": "variable=quick_ratio<br>group=group-2<br>timestamp=%{x}<br>value=%{y}<extra></extra>",
         "legendgroup": "quick_ratio",
         "line": {
          "color": "orange",
          "dash": "solid"
         },
         "marker": {
          "symbol": "circle"
         },
         "mode": "lines+markers",
         "name": "quick_ratio",
         "showlegend": false,
         "type": "scattergl",
         "x": [
          "2021-12-27T00:00:00",
          "2022-01-03T00:00:00",
          "2022-01-10T00:00:00",
          "2022-01-17T00:00:00",
          "2022-01-24T00:00:00",
          "2022-01-31T00:00:00",
          "2022-02-07T00:00:00",
          "2022-02-14T00:00:00",
          "2022-02-21T00:00:00",
          "2022-02-28T00:00:00",
          "2022-03-07T00:00:00",
          "2022-03-14T00:00:00",
          "2022-03-21T00:00:00",
          "2022-03-28T00:00:00",
          "2022-04-04T00:00:00",
          "2022-04-11T00:00:00",
          "2022-04-18T00:00:00",
          "2022-04-25T00:00:00",
          "2022-05-02T00:00:00",
          "2022-05-09T00:00:00",
          "2022-05-16T00:00:00",
          "2022-05-23T00:00:00",
          "2022-05-30T00:00:00",
          "2022-06-06T00:00:00",
          "2022-06-13T00:00:00",
          "2022-06-20T00:00:00",
          "2022-06-27T00:00:00",
          "2022-07-04T00:00:00",
          "2022-07-11T00:00:00",
          "2022-07-18T00:00:00",
          "2022-07-25T00:00:00",
          "2022-08-01T00:00:00",
          "2022-08-08T00:00:00",
          "2022-08-15T00:00:00",
          "2022-08-22T00:00:00",
          "2022-08-29T00:00:00",
          "2022-09-05T00:00:00",
          "2022-09-12T00:00:00",
          "2022-09-19T00:00:00",
          "2022-09-26T00:00:00",
          "2022-10-03T00:00:00",
          "2022-10-10T00:00:00",
          "2022-10-17T00:00:00",
          "2022-10-24T00:00:00",
          "2022-10-31T00:00:00",
          "2022-11-07T00:00:00",
          "2022-11-14T00:00:00",
          "2022-11-21T00:00:00",
          "2022-11-28T00:00:00",
          "2022-12-05T00:00:00",
          "2022-12-12T00:00:00",
          "2022-12-19T00:00:00",
          "2022-12-26T00:00:00"
         ],
         "xaxis": "x",
         "y": [
          null,
          10,
          0.8333333333333334,
          1,
          0.7142857142857143,
          0.8333333333333334,
          9,
          0.2857142857142857,
          4,
          1.3333333333333333,
          0.3333333333333333,
          1.1666666666666667,
          0.8333333333333334,
          0.5714285714285714,
          2.3333333333333335,
          0.4,
          1.3333333333333333,
          1,
          0.75,
          4,
          0.14285714285714285,
          2.3333333333333335,
          1.5,
          0.42857142857142855,
          1.3333333333333333,
          2,
          null,
          0.3333333333333333,
          0.75,
          0.75,
          1,
          1.5,
          1.25,
          0.6666666666666666,
          1,
          1,
          1.25,
          0.6,
          2.5,
          0.8,
          0.6,
          1.25,
          1,
          1.2,
          0.6666666666666666,
          1.6666666666666667,
          0.2,
          2.5,
          1,
          0.8,
          1.6666666666666667,
          0.25,
          1
         ],
         "yaxis": "y"
        }
       ],
       "layout": {
        "annotations": [
         {
          "font": {},
          "showarrow": false,
          "text": "group=group-2",
          "x": 0.245,
          "xanchor": "center",
          "xref": "paper",
          "y": 0.46499999999999997,
          "yanchor": "bottom",
          "yref": "paper"
         },
         {
          "font": {},
          "showarrow": false,
          "text": "group=group-0",
          "x": 0.245,
          "xanchor": "center",
          "xref": "paper",
          "y": 0.9999999999999999,
          "yanchor": "bottom",
          "yref": "paper"
         },
         {
          "font": {},
          "showarrow": false,
          "text": "group=group-1",
          "x": 0.755,
          "xanchor": "center",
          "xref": "paper",
          "y": 0.9999999999999999,
          "yanchor": "bottom",
          "yref": "paper"
         }
        ],
        "height": 800,
        "legend": {
         "title": {
          "text": "variable"
         },
         "tracegroupgap": 0
        },
        "margin": {
         "r": 200,
         "t": 60
        },
        "template": {
         "data": {
          "bar": [
           {
            "error_x": {
             "color": "#2a3f5f"
            },
            "error_y": {
             "color": "#2a3f5f"
            },
            "marker": {
             "line": {
              "color": "#E5ECF6",
              "width": 0.5
             },
             "pattern": {
              "fillmode": "overlay",
              "size": 10,
              "solidity": 0.2
             }
            },
            "type": "bar"
           }
          ],
          "barpolar": [
           {
            "marker": {
             "line": {
              "color": "#E5ECF6",
              "width": 0.5
             },
             "pattern": {
              "fillmode": "overlay",
              "size": 10,
              "solidity": 0.2
             }
            },
            "type": "barpolar"
           }
          ],
          "carpet": [
           {
            "aaxis": {
             "endlinecolor": "#2a3f5f",
             "gridcolor": "white",
             "linecolor": "white",
             "minorgridcolor": "white",
             "startlinecolor": "#2a3f5f"
            },
            "baxis": {
             "endlinecolor": "#2a3f5f",
             "gridcolor": "white",
             "linecolor": "white",
             "minorgridcolor": "white",
             "startlinecolor": "#2a3f5f"
            },
            "type": "carpet"
           }
          ],
          "choropleth": [
           {
            "colorbar": {
             "outlinewidth": 0,
             "ticks": ""
            },
            "type": "choropleth"
           }
          ],
          "contour": [
           {
            "colorbar": {
             "outlinewidth": 0,
             "ticks": ""
            },
            "colorscale": [
             [
              0,
              "#0d0887"
             ],
             [
              0.1111111111111111,
              "#46039f"
             ],
             [
              0.2222222222222222,
              "#7201a8"
             ],
             [
              0.3333333333333333,
              "#9c179e"
             ],
             [
              0.4444444444444444,
              "#bd3786"
             ],
             [
              0.5555555555555556,
              "#d8576b"
             ],
             [
              0.6666666666666666,
              "#ed7953"
             ],
             [
              0.7777777777777778,
              "#fb9f3a"
             ],
             [
              0.8888888888888888,
              "#fdca26"
             ],
             [
              1,
              "#f0f921"
             ]
            ],
            "type": "contour"
           }
          ],
          "contourcarpet": [
           {
            "colorbar": {
             "outlinewidth": 0,
             "ticks": ""
            },
            "type": "contourcarpet"
           }
          ],
          "heatmap": [
           {
            "colorbar": {
             "outlinewidth": 0,
             "ticks": ""
            },
            "colorscale": [
             [
              0,
              "#0d0887"
             ],
             [
              0.1111111111111111,
              "#46039f"
             ],
             [
              0.2222222222222222,
              "#7201a8"
             ],
             [
              0.3333333333333333,
              "#9c179e"
             ],
             [
              0.4444444444444444,
              "#bd3786"
             ],
             [
              0.5555555555555556,
              "#d8576b"
             ],
             [
              0.6666666666666666,
              "#ed7953"
             ],
             [
              0.7777777777777778,
              "#fb9f3a"
             ],
             [
              0.8888888888888888,
              "#fdca26"
             ],
             [
              1,
              "#f0f921"
             ]
            ],
            "type": "heatmap"
           }
          ],
          "heatmapgl": [
           {
            "colorbar": {
             "outlinewidth": 0,
             "ticks": ""
            },
            "colorscale": [
             [
              0,
              "#0d0887"
             ],
             [
              0.1111111111111111,
              "#46039f"
             ],
             [
              0.2222222222222222,
              "#7201a8"
             ],
             [
              0.3333333333333333,
              "#9c179e"
             ],
             [
              0.4444444444444444,
              "#bd3786"
             ],
             [
              0.5555555555555556,
              "#d8576b"
             ],
             [
              0.6666666666666666,
              "#ed7953"
             ],
             [
              0.7777777777777778,
              "#fb9f3a"
             ],
             [
              0.8888888888888888,
              "#fdca26"
             ],
             [
              1,
              "#f0f921"
             ]
            ],
            "type": "heatmapgl"
           }
          ],
          "histogram": [
           {
            "marker": {
             "pattern": {
              "fillmode": "overlay",
              "size": 10,
              "solidity": 0.2
             }
            },
            "type": "histogram"
           }
          ],
          "histogram2d": [
           {
            "colorbar": {
             "outlinewidth": 0,
             "ticks": ""
            },
            "colorscale": [
             [
              0,
              "#0d0887"
             ],
             [
              0.1111111111111111,
              "#46039f"
             ],
             [
              0.2222222222222222,
              "#7201a8"
             ],
             [
              0.3333333333333333,
              "#9c179e"
             ],
             [
              0.4444444444444444,
              "#bd3786"
             ],
             [
              0.5555555555555556,
              "#d8576b"
             ],
             [
              0.6666666666666666,
              "#ed7953"
             ],
             [
              0.7777777777777778,
              "#fb9f3a"
             ],
             [
              0.8888888888888888,
              "#fdca26"
             ],
             [
              1,
              "#f0f921"
             ]
            ],
            "type": "histogram2d"
           }
          ],
          "histogram2dcontour": [
           {
            "colorbar": {
             "outlinewidth": 0,
             "ticks": ""
            },
            "colorscale": [
             [
              0,
              "#0d0887"
             ],
             [
              0.1111111111111111,
              "#46039f"
             ],
             [
              0.2222222222222222,
              "#7201a8"
             ],
             [
              0.3333333333333333,
              "#9c179e"
             ],
             [
              0.4444444444444444,
              "#bd3786"
             ],
             [
              0.5555555555555556,
              "#d8576b"
             ],
             [
              0.6666666666666666,
              "#ed7953"
             ],
             [
              0.7777777777777778,
              "#fb9f3a"
             ],
             [
              0.8888888888888888,
              "#fdca26"
             ],
             [
              1,
              "#f0f921"
             ]
            ],
            "type": "histogram2dcontour"
           }
          ],
          "mesh3d": [
           {
            "colorbar": {
             "outlinewidth": 0,
             "ticks": ""
            },
            "type": "mesh3d"
           }
          ],
          "parcoords": [
           {
            "line": {
             "colorbar": {
              "outlinewidth": 0,
              "ticks": ""
             }
            },
            "type": "parcoords"
           }
          ],
          "pie": [
           {
            "automargin": true,
            "type": "pie"
           }
          ],
          "scatter": [
           {
            "fillpattern": {
             "fillmode": "overlay",
             "size": 10,
             "solidity": 0.2
            },
            "type": "scatter"
           }
          ],
          "scatter3d": [
           {
            "line": {
             "colorbar": {
              "outlinewidth": 0,
              "ticks": ""
             }
            },
            "marker": {
             "colorbar": {
              "outlinewidth": 0,
              "ticks": ""
             }
            },
            "type": "scatter3d"
           }
          ],
          "scattercarpet": [
           {
            "marker": {
             "colorbar": {
              "outlinewidth": 0,
              "ticks": ""
             }
            },
            "type": "scattercarpet"
           }
          ],
          "scattergeo": [
           {
            "marker": {
             "colorbar": {
              "outlinewidth": 0,
              "ticks": ""
             }
            },
            "type": "scattergeo"
           }
          ],
          "scattergl": [
           {
            "marker": {
             "colorbar": {
              "outlinewidth": 0,
              "ticks": ""
             }
            },
            "type": "scattergl"
           }
          ],
          "scattermapbox": [
           {
            "marker": {
             "colorbar": {
              "outlinewidth": 0,
              "ticks": ""
             }
            },
            "type": "scattermapbox"
           }
          ],
          "scatterpolar": [
           {
            "marker": {
             "colorbar": {
              "outlinewidth": 0,
              "ticks": ""
             }
            },
            "type": "scatterpolar"
           }
          ],
          "scatterpolargl": [
           {
            "marker": {
             "colorbar": {
              "outlinewidth": 0,
              "ticks": ""
             }
            },
            "type": "scatterpolargl"
           }
          ],
          "scatterternary": [
           {
            "marker": {
             "colorbar": {
              "outlinewidth": 0,
              "ticks": ""
             }
            },
            "type": "scatterternary"
           }
          ],
          "surface": [
           {
            "colorbar": {
             "outlinewidth": 0,
             "ticks": ""
            },
            "colorscale": [
             [
              0,
              "#0d0887"
             ],
             [
              0.1111111111111111,
              "#46039f"
             ],
             [
              0.2222222222222222,
              "#7201a8"
             ],
             [
              0.3333333333333333,
              "#9c179e"
             ],
             [
              0.4444444444444444,
              "#bd3786"
             ],
             [
              0.5555555555555556,
              "#d8576b"
             ],
             [
              0.6666666666666666,
              "#ed7953"
             ],
             [
              0.7777777777777778,
              "#fb9f3a"
             ],
             [
              0.8888888888888888,
              "#fdca26"
             ],
             [
              1,
              "#f0f921"
             ]
            ],
            "type": "surface"
           }
          ],
          "table": [
           {
            "cells": {
             "fill": {
              "color": "#EBF0F8"
             },
             "line": {
              "color": "white"
             }
            },
            "header": {
             "fill": {
              "color": "#C8D4E3"
             },
             "line": {
              "color": "white"
             }
            },
            "type": "table"
           }
          ]
         },
         "layout": {
          "annotationdefaults": {
           "arrowcolor": "#2a3f5f",
           "arrowhead": 0,
           "arrowwidth": 1
          },
          "autotypenumbers": "strict",
          "coloraxis": {
           "colorbar": {
            "outlinewidth": 0,
            "ticks": ""
           }
          },
          "colorscale": {
           "diverging": [
            [
             0,
             "#8e0152"
            ],
            [
             0.1,
             "#c51b7d"
            ],
            [
             0.2,
             "#de77ae"
            ],
            [
             0.3,
             "#f1b6da"
            ],
            [
             0.4,
             "#fde0ef"
            ],
            [
             0.5,
             "#f7f7f7"
            ],
            [
             0.6,
             "#e6f5d0"
            ],
            [
             0.7,
             "#b8e186"
            ],
            [
             0.8,
             "#7fbc41"
            ],
            [
             0.9,
             "#4d9221"
            ],
            [
             1,
             "#276419"
            ]
           ],
           "sequential": [
            [
             0,
             "#0d0887"
            ],
            [
             0.1111111111111111,
             "#46039f"
            ],
            [
             0.2222222222222222,
             "#7201a8"
            ],
            [
             0.3333333333333333,
             "#9c179e"
            ],
            [
             0.4444444444444444,
             "#bd3786"
            ],
            [
             0.5555555555555556,
             "#d8576b"
            ],
            [
             0.6666666666666666,
             "#ed7953"
            ],
            [
             0.7777777777777778,
             "#fb9f3a"
            ],
            [
             0.8888888888888888,
             "#fdca26"
            ],
            [
             1,
             "#f0f921"
            ]
           ],
           "sequentialminus": [
            [
             0,
             "#0d0887"
            ],
            [
             0.1111111111111111,
             "#46039f"
            ],
            [
             0.2222222222222222,
             "#7201a8"
            ],
            [
             0.3333333333333333,
             "#9c179e"
            ],
            [
             0.4444444444444444,
             "#bd3786"
            ],
            [
             0.5555555555555556,
             "#d8576b"
            ],
            [
             0.6666666666666666,
             "#ed7953"
            ],
            [
             0.7777777777777778,
             "#fb9f3a"
            ],
            [
             0.8888888888888888,
             "#fdca26"
            ],
            [
             1,
             "#f0f921"
            ]
           ]
          },
          "colorway": [
           "#636efa",
           "#EF553B",
           "#00cc96",
           "#ab63fa",
           "#FFA15A",
           "#19d3f3",
           "#FF6692",
           "#B6E880",
           "#FF97FF",
           "#FECB52"
          ],
          "font": {
           "color": "#2a3f5f"
          },
          "geo": {
           "bgcolor": "white",
           "lakecolor": "white",
           "landcolor": "#E5ECF6",
           "showlakes": true,
           "showland": true,
           "subunitcolor": "white"
          },
          "hoverlabel": {
           "align": "left"
          },
          "hovermode": "closest",
          "mapbox": {
           "style": "light"
          },
          "paper_bgcolor": "white",
          "plot_bgcolor": "#E5ECF6",
          "polar": {
           "angularaxis": {
            "gridcolor": "white",
            "linecolor": "white",
            "ticks": ""
           },
           "bgcolor": "#E5ECF6",
           "radialaxis": {
            "gridcolor": "white",
            "linecolor": "white",
            "ticks": ""
           }
          },
          "scene": {
           "xaxis": {
            "backgroundcolor": "#E5ECF6",
            "gridcolor": "white",
            "gridwidth": 2,
            "linecolor": "white",
            "showbackground": true,
            "ticks": "",
            "zerolinecolor": "white"
           },
           "yaxis": {
            "backgroundcolor": "#E5ECF6",
            "gridcolor": "white",
            "gridwidth": 2,
            "linecolor": "white",
            "showbackground": true,
            "ticks": "",
            "zerolinecolor": "white"
           },
           "zaxis": {
            "backgroundcolor": "#E5ECF6",
            "gridcolor": "white",
            "gridwidth": 2,
            "linecolor": "white",
            "showbackground": true,
            "ticks": "",
            "zerolinecolor": "white"
           }
          },
          "shapedefaults": {
           "line": {
            "color": "#2a3f5f"
           }
          },
          "ternary": {
           "aaxis": {
            "gridcolor": "white",
            "linecolor": "white",
            "ticks": ""
           },
           "baxis": {
            "gridcolor": "white",
            "linecolor": "white",
            "ticks": ""
           },
           "bgcolor": "#E5ECF6",
           "caxis": {
            "gridcolor": "white",
            "linecolor": "white",
            "ticks": ""
           }
          },
          "title": {
           "x": 0.05
          },
          "xaxis": {
           "automargin": true,
           "gridcolor": "white",
           "linecolor": "white",
           "ticks": "",
           "title": {
            "standoff": 15
           },
           "zerolinecolor": "white",
           "zerolinewidth": 2
          },
          "yaxis": {
           "automargin": true,
           "gridcolor": "white",
           "linecolor": "white",
           "ticks": "",
           "title": {
            "standoff": 15
           },
           "zerolinecolor": "white",
           "zerolinewidth": 2
          }
         }
        },
        "width": 1200,
        "xaxis": {
         "anchor": "y",
         "autorange": true,
         "domain": [
          0,
          0.49
         ],
         "range": [
          "2021-12-02 23:15:35.6637",
          "2023-01-19 00:44:24.3363"
         ],
         "title": {
          "text": "timestamp"
         },
         "type": "date"
        },
        "xaxis2": {
         "anchor": "y2",
         "domain": [
          0.51,
          1
         ],
         "matches": "x",
         "title": {
          "text": "timestamp"
         }
        },
        "xaxis3": {
         "anchor": "y3",
         "autorange": true,
         "domain": [
          0,
          0.49
         ],
         "matches": "x",
         "range": [
          "2021-12-02 23:15:35.6637",
          "2023-01-19 00:44:24.3363"
         ],
         "showticklabels": false,
         "type": "date"
        },
        "xaxis4": {
         "anchor": "y4",
         "autorange": true,
         "domain": [
          0.51,
          1
         ],
         "matches": "x",
         "range": [
          "2021-12-02 23:15:35.6637",
          "2023-01-19 00:44:24.3363"
         ],
         "showticklabels": false,
         "type": "date"
        },
        "yaxis": {
         "anchor": "x",
         "autorange": true,
         "domain": [
          0,
          0.46499999999999997
         ],
         "range": [
          -0.7106173942168138,
          10.710617394216813
         ],
         "title": {
          "text": "value"
         },
         "type": "linear"
        },
        "yaxis2": {
         "anchor": "x2",
         "domain": [
          0,
          0.46499999999999997
         ],
         "matches": "y",
         "showticklabels": false
        },
        "yaxis3": {
         "anchor": "x3",
         "autorange": true,
         "domain": [
          0.5349999999999999,
          0.9999999999999999
         ],
         "matches": "y",
         "range": [
          -0.7106173942168138,
          10.710617394216813
         ],
         "title": {
          "text": "value"
         },
         "type": "linear"
        },
        "yaxis4": {
         "anchor": "x4",
         "autorange": true,
         "domain": [
          0.5349999999999999,
          0.9999999999999999
         ],
         "matches": "y",
         "range": [
          -0.7106173942168138,
          10.710617394216813
         ],
         "showticklabels": false,
         "type": "linear"
        }
       }
      },
      "image/png": "[encoded data removed]",
      "text/html": [
       "<div>                            <div id=\"fafde940-f061-4c48-9031-9fe9bdf21a7b\" class=\"plotly-graph-div\" style=\"height:800px; width:1200px;\"></div>            <script type=\"text/javascript\">                require([\"plotly\"], function(Plotly) {                    window.PLOTLYENV=window.PLOTLYENV || {};                                    if (document.getElementById(\"fafde940-f061-4c48-9031-9fe9bdf21a7b\")) {                    Plotly.newPlot(                        \"fafde940-f061-4c48-9031-9fe9bdf21a7b\",                        [{\"hovertemplate\":\"variable=quick_ratio<br>group=group-0<br>timestamp=%{x}<br>value=%{y}<extra></extra>\",\"legendgroup\":\"quick_ratio\",\"line\":{\"color\":\"orange\",\"dash\":\"solid\"},\"marker\":{\"symbol\":\"circle\"},\"mode\":\"lines+markers\",\"name\":\"quick_ratio\",\"showlegend\":true,\"x\":[\"2021-12-27T00:00:00\",\"2022-01-03T00:00:00\",\"2022-01-10T00:00:00\",\"2022-01-17T00:00:00\",\"2022-01-24T00:00:00\",\"2022-01-31T00:00:00\",\"2022-02-07T00:00:00\",\"2022-02-14T00:00:00\",\"2022-02-21T00:00:00\",\"2022-02-28T00:00:00\",\"2022-03-07T00:00:00\",\"2022-03-14T00:00:00\",\"2022-03-21T00:00:00\",\"2022-03-28T00:00:00\",\"2022-04-04T00:00:00\",\"2022-04-11T00:00:00\",\"2022-04-18T00:00:00\",\"2022-04-25T00:00:00\",\"2022-05-02T00:00:00\",\"2022-05-09T00:00:00\",\"2022-05-16T00:00:00\",\"2022-05-23T00:00:00\",\"2022-05-30T00:00:00\",\"2022-06-06T00:00:00\",\"2022-06-13T00:00:00\",\"2022-06-20T00:00:00\",\"2022-06-27T00:00:00\",\"2022-07-04T00:00:00\",\"2022-07-11T00:00:00\",\"2022-07-18T00:00:00\",\"2022-07-25T00:00:00\",\"2022-08-01T00:00:00\",\"2022-08-08T00:00:00\",\"2022-08-15T00:00:00\",\"2022-08-22T00:00:00\",\"2022-08-29T00:00:00\",\"2022-09-05T00:00:00\",\"2022-09-12T00:00:00\",\"2022-09-19T00:00:00\",\"2022-09-26T00:00:00\",\"2022-10-03T00:00:00\",\"2022-10-10T00:00:00\",\"2022-10-17T00:00:00\",\"2022-10-24T00:00:00\",\"2022-10-31T00:00:00\",\"2022-11-07T00:00:00\",\"2022-11-14T00:00:00\",\"2022-11-21T00:00:00\",\"2022-11-28T00:00:00\",\"2022-12-05T00:00:00\",\"2022-12-12T00:00:00\",\"2022-12-19T00:00:00\",\"2022-12-26T00:00:00\"],\"xaxis\":\"x3\",\"y\":[null,null,0.8,1.6666666666666667,1.6666666666666667,1.0,0.5,1.6666666666666667,0.5,0.5714285714285714,6.0,1.0,0.7142857142857143,1.25,2.0,0.5,0.7142857142857143,2.3333333333333335,1.0,0.6666666666666666,0.8,0.3333333333333333,1.5,2.3333333333333335,1.6666666666666667,1.0,0.0,5.0,1.25,0.75,0.6666666666666666,0.5,3.0,0.5714285714285714,1.6666666666666667,1.0,1.3333333333333333,1.6666666666666667,0.5,2.0,0.6666666666666666,2.0,0.42857142857142855,1.0,null,0.375,1.3333333333333333,2.5,0.75,1.0,0.7142857142857143,0.75,1.5],\"yaxis\":\"y3\",\"type\":\"scattergl\"},{\"hovertemplate\":\"variable=quick_ratio<br>group=group-1<br>timestamp=%{x}<br>value=%{y}<extra></extra>\",\"legendgroup\":\"quick_ratio\",\"line\":{\"color\":\"orange\",\"dash\":\"solid\"},\"marker\":{\"symbol\":\"circle\"},\"mode\":\"lines+markers\",\"name\":\"quick_ratio\",\"showlegend\":false,\"x\":[\"2021-12-27T00:00:00\",\"2022-01-03T00:00:00\",\"2022-01-10T00:00:00\",\"2022-01-17T00:00:00\",\"2022-01-24T00:00:00\",\"2022-01-31T00:00:00\",\"2022-02-07T00:00:00\",\"2022-02-14T00:00:00\",\"2022-02-21T00:00:00\",\"2022-02-28T00:00:00\",\"2022-03-07T00:00:00\",\"2022-03-14T00:00:00\",\"2022-03-21T00:00:00\",\"2022-03-28T00:00:00\",\"2022-04-04T00:00:00\",\"2022-04-11T00:00:00\",\"2022-04-18T00:00:00\",\"2022-04-25T00:00:00\",\"2022-05-02T00:00:00\",\"2022-05-09T00:00:00\",\"2022-05-16T00:00:00\",\"2022-05-23T00:00:00\",\"2022-05-30T00:00:00\",\"2022-06-06T00:00:00\",\"2022-06-13T00:00:00\",\"2022-06-20T00:00:00\",\"2022-06-27T00:00:00\",\"2022-07-04T00:00:00\",\"2022-07-11T00:00:00\",\"2022-07-18T00:00:00\",\"2022-07-25T00:00:00\",\"2022-08-01T00:00:00\",\"2022-08-08T00:00:00\",\"2022-08-15T00:00:00\",\"2022-08-22T00:00:00\",\"2022-08-29T00:00:00\",\"2022-09-05T00:00:00\",\"2022-09-12T00:00:00\",\"2022-09-19T00:00:00\",\"2022-09-26T00:00:00\",\"2022-10-03T00:00:00\",\"2022-10-10T00:00:00\",\"2022-10-17T00:00:00\",\"2022-10-24T00:00:00\",\"2022-10-31T00:00:00\",\"2022-11-07T00:00:00\",\"2022-11-14T00:00:00\",\"2022-11-21T00:00:00\",\"2022-11-28T00:00:00\",\"2022-12-05T00:00:00\",\"2022-12-12T00:00:00\",\"2022-12-19T00:00:00\",\"2022-12-26T00:00:00\"],\"xaxis\":\"x4\",\"y\":[null,2.3333333333333335,1.0,0.6666666666666666,1.0,1.3333333333333333,0.5,1.0,2.0,1.0,0.5,1.75,1.6666666666666667,1.5,0.2857142857142857,3.0,null,0.16666666666666666,1.2,0.6666666666666666,1.0,2.0,1.0,5.0,0.2,1.0,0.5,1.0,2.5,0.6,0.6666666666666666,2.5,2.0,0.6,0.0,3.5,0.42857142857142855,2.5,0.8333333333333334,1.0,2.0,1.0,0.42857142857142855,1.5,0.6666666666666666,3.5,0.2,0.5555555555555556,3.6666666666666665,0.5,1.0,0.8333333333333334,1.0],\"yaxis\":\"y4\",\"type\":\"scattergl\"},{\"hovertemplate\":\"variable=quick_ratio<br>group=group-2<br>timestamp=%{x}<br>value=%{y}<extra></extra>\",\"legendgroup\":\"quick_ratio\",\"line\":{\"color\":\"orange\",\"dash\":\"solid\"},\"marker\":{\"symbol\":\"circle\"},\"mode\":\"lines+markers\",\"name\":\"quick_ratio\",\"showlegend\":false,\"x\":[\"2021-12-27T00:00:00\",\"2022-01-03T00:00:00\",\"2022-01-10T00:00:00\",\"2022-01-17T00:00:00\",\"2022-01-24T00:00:00\",\"2022-01-31T00:00:00\",\"2022-02-07T00:00:00\",\"2022-02-14T00:00:00\",\"2022-02-21T00:00:00\",\"2022-02-28T00:00:00\",\"2022-03-07T00:00:00\",\"2022-03-14T00:00:00\",\"2022-03-21T00:00:00\",\"2022-03-28T00:00:00\",\"2022-04-04T00:00:00\",\"2022-04-11T00:00:00\",\"2022-04-18T00:00:00\",\"2022-04-25T00:00:00\",\"2022-05-02T00:00:00\",\"2022-05-09T00:00:00\",\"2022-05-16T00:00:00\",\"2022-05-23T00:00:00\",\"2022-05-30T00:00:00\",\"2022-06-06T00:00:00\",\"2022-06-13T00:00:00\",\"2022-06-20T00:00:00\",\"2022-06-27T00:00:00\",\"2022-07-04T00:00:00\",\"2022-07-11T00:00:00\",\"2022-07-18T00:00:00\",\"2022-07-25T00:00:00\",\"2022-08-01T00:00:00\",\"2022-08-08T00:00:00\",\"2022-08-15T00:00:00\",\"2022-08-22T00:00:00\",\"2022-08-29T00:00:00\",\"2022-09-05T00:00:00\",\"2022-09-12T00:00:00\",\"2022-09-19T00:00:00\",\"2022-09-26T00:00:00\",\"2022-10-03T00:00:00\",\"2022-10-10T00:00:00\",\"2022-10-17T00:00:00\",\"2022-10-24T00:00:00\",\"2022-10-31T00:00:00\",\"2022-11-07T00:00:00\",\"2022-11-14T00:00:00\",\"2022-11-21T00:00:00\",\"2022-11-28T00:00:00\",\"2022-12-05T00:00:00\",\"2022-12-12T00:00:00\",\"2022-12-19T00:00:00\",\"2022-12-26T00:00:00\"],\"xaxis\":\"x\",\"y\":[null,10.0,0.8333333333333334,1.0,0.7142857142857143,0.8333333333333334,9.0,0.2857142857142857,4.0,1.3333333333333333,0.3333333333333333,1.1666666666666667,0.8333333333333334,0.5714285714285714,2.3333333333333335,0.4,1.3333333333333333,1.0,0.75,4.0,0.14285714285714285,2.3333333333333335,1.5,0.42857142857142855,1.3333333333333333,2.0,null,0.3333333333333333,0.75,0.75,1.0,1.5,1.25,0.6666666666666666,1.0,1.0,1.25,0.6,2.5,0.8,0.6,1.25,1.0,1.2,0.6666666666666666,1.6666666666666667,0.2,2.5,1.0,0.8,1.6666666666666667,0.25,1.0],\"yaxis\":\"y\",\"type\":\"scattergl\"}],                        {\"template\":{\"data\":{\"histogram2dcontour\":[{\"type\":\"histogram2dcontour\",\"colorbar\":{\"outlinewidth\":0,\"ticks\":\"\"},\"colorscale\":[[0.0,\"#0d0887\"],[0.1111111111111111,\"#46039f\"],[0.2222222222222222,\"#7201a8\"],[0.3333333333333333,\"#9c179e\"],[0.4444444444444444,\"#bd3786\"],[0.5555555555555556,\"#d8576b\"],[0.6666666666666666,\"#ed7953\"],[0.7777777777777778,\"#fb9f3a\"],[0.8888888888888888,\"#fdca26\"],[1.0,\"#f0f921\"]]}],\"choropleth\":[{\"type\":\"choropleth\",\"colorbar\":{\"outlinewidth\":0,\"ticks\":\"\"}}],\"histogram2d\":[{\"type\":\"histogram2d\",\"colorbar\":{\"outlinewidth\":0,\"ticks\":\"\"},\"colorscale\":[[0.0,\"#0d0887\"],[0.1111111111111111,\"#46039f\"],[0.2222222222222222,\"#7201a8\"],[0.3333333333333333,\"#9c179e\"],[0.4444444444444444,\"#bd3786\"],[0.5555555555555556,\"#d8576b\"],[0.6666666666666666,\"#ed7953\"],[0.7777777777777778,\"#fb9f3a\"],[0.8888888888888888,\"#fdca26\"],[1.0,\"#f0f921\"]]}],\"heatmap\":[{\"type\":\"heatmap\",\"colorbar\":{\"outlinewidth\":0,\"ticks\":\"\"},\"colorscale\":[[0.0,\"#0d0887\"],[0.1111111111111111,\"#46039f\"],[0.2222222222222222,\"#7201a8\"],[0.3333333333333333,\"#9c179e\"],[0.4444444444444444,\"#bd3786\"],[0.5555555555555556,\"#d8576b\"],[0.6666666666666666,\"#ed7953\"],[0.7777777777777778,\"#fb9f3a\"],[0.8888888888888888,\"#fdca26\"],[1.0,\"#f0f921\"]]}],\"heatmapgl\":[{\"type\":\"heatmapgl\",\"colorbar\":{\"outlinewidth\":0,\"ticks\":\"\"},\"colorscale\":[[0.0,\"#0d0887\"],[0.1111111111111111,\"#46039f\"],[0.2222222222222222,\"#7201a8\"],[0.3333333333333333,\"#9c179e\"],[0.4444444444444444,\"#bd3786\"],[0.5555555555555556,\"#d8576b\"],[0.6666666666666666,\"#ed7953\"],[0.7777777777777778,\"#fb9f3a\"],[0.8888888888888888,\"#fdca26\"],[1.0,\"#f0f921\"]]}],\"contourcarpet\":[{\"type\":\"contourcarpet\",\"colorbar\":{\"outlinewidth\":0,\"ticks\":\"\"}}],\"contour\":[{\"type\":\"contour\",\"colorbar\":{\"outlinewidth\":0,\"ticks\":\"\"},\"colorscale\":[[0.0,\"#0d0887\"],[0.1111111111111111,\"#46039f\"],[0.2222222222222222,\"#7201a8\"],[0.3333333333333333,\"#9c179e\"],[0.4444444444444444,\"#bd3786\"],[0.5555555555555556,\"#d8576b\"],[0.6666666666666666,\"#ed7953\"],[0.7777777777777778,\"#fb9f3a\"],[0.8888888888888888,\"#fdca26\"],[1.0,\"#f0f921\"]]}],\"surface\":[{\"type\":\"surface\",\"colorbar\":{\"outlinewidth\":0,\"ticks\":\"\"},\"colorscale\":[[0.0,\"#0d0887\"],[0.1111111111111111,\"#46039f\"],[0.2222222222222222,\"#7201a8\"],[0.3333333333333333,\"#9c179e\"],[0.4444444444444444,\"#bd3786\"],[0.5555555555555556,\"#d8576b\"],[0.6666666666666666,\"#ed7953\"],[0.7777777777777778,\"#fb9f3a\"],[0.8888888888888888,\"#fdca26\"],[1.0,\"#f0f921\"]]}],\"mesh3d\":[{\"type\":\"mesh3d\",\"colorbar\":{\"outlinewidth\":0,\"ticks\":\"\"}}],\"scatter\":[{\"fillpattern\":{\"fillmode\":\"overlay\",\"size\":10,\"solidity\":0.2},\"type\":\"scatter\"}],\"parcoords\":[{\"type\":\"parcoords\",\"line\":{\"colorbar\":{\"outlinewidth\":0,\"ticks\":\"\"}}}],\"scatterpolargl\":[{\"type\":\"scatterpolargl\",\"marker\":{\"colorbar\":{\"outlinewidth\":0,\"ticks\":\"\"}}}],\"bar\":[{\"error_x\":{\"color\":\"#2a3f5f\"},\"error_y\":{\"color\":\"#2a3f5f\"},\"marker\":{\"line\":{\"color\":\"#E5ECF6\",\"width\":0.5},\"pattern\":{\"fillmode\":\"overlay\",\"size\":10,\"solidity\":0.2}},\"type\":\"bar\"}],\"scattergeo\":[{\"type\":\"scattergeo\",\"marker\":{\"colorbar\":{\"outlinewidth\":0,\"ticks\":\"\"}}}],\"scatterpolar\":[{\"type\":\"scatterpolar\",\"marker\":{\"colorbar\":{\"outlinewidth\":0,\"ticks\":\"\"}}}],\"histogram\":[{\"marker\":{\"pattern\":{\"fillmode\":\"overlay\",\"size\":10,\"solidity\":0.2}},\"type\":\"histogram\"}],\"scattergl\":[{\"type\":\"scattergl\",\"marker\":{\"colorbar\":{\"outlinewidth\":0,\"ticks\":\"\"}}}],\"scatter3d\":[{\"type\":\"scatter3d\",\"line\":{\"colorbar\":{\"outlinewidth\":0,\"ticks\":\"\"}},\"marker\":{\"colorbar\":{\"outlinewidth\":0,\"ticks\":\"\"}}}],\"scattermapbox\":[{\"type\":\"scattermapbox\",\"marker\":{\"colorbar\":{\"outlinewidth\":0,\"ticks\":\"\"}}}],\"scatterternary\":[{\"type\":\"scatterternary\",\"marker\":{\"colorbar\":{\"outlinewidth\":0,\"ticks\":\"\"}}}],\"scattercarpet\":[{\"type\":\"scattercarpet\",\"marker\":{\"colorbar\":{\"outlinewidth\":0,\"ticks\":\"\"}}}],\"carpet\":[{\"aaxis\":{\"endlinecolor\":\"#2a3f5f\",\"gridcolor\":\"white\",\"linecolor\":\"white\",\"minorgridcolor\":\"white\",\"startlinecolor\":\"#2a3f5f\"},\"baxis\":{\"endlinecolor\":\"#2a3f5f\",\"gridcolor\":\"white\",\"linecolor\":\"white\",\"minorgridcolor\":\"white\",\"startlinecolor\":\"#2a3f5f\"},\"type\":\"carpet\"}],\"table\":[{\"cells\":{\"fill\":{\"color\":\"#EBF0F8\"},\"line\":{\"color\":\"white\"}},\"header\":{\"fill\":{\"color\":\"#C8D4E3\"},\"line\":{\"color\":\"white\"}},\"type\":\"table\"}],\"barpolar\":[{\"marker\":{\"line\":{\"color\":\"#E5ECF6\",\"width\":0.5},\"pattern\":{\"fillmode\":\"overlay\",\"size\":10,\"solidity\":0.2}},\"type\":\"barpolar\"}],\"pie\":[{\"automargin\":true,\"type\":\"pie\"}]},\"layout\":{\"autotypenumbers\":\"strict\",\"colorway\":[\"#636efa\",\"#EF553B\",\"#00cc96\",\"#ab63fa\",\"#FFA15A\",\"#19d3f3\",\"#FF6692\",\"#B6E880\",\"#FF97FF\",\"#FECB52\"],\"font\":{\"color\":\"#2a3f5f\"},\"hovermode\":\"closest\",\"hoverlabel\":{\"align\":\"left\"},\"paper_bgcolor\":\"white\",\"plot_bgcolor\":\"#E5ECF6\",\"polar\":{\"bgcolor\":\"#E5ECF6\",\"angularaxis\":{\"gridcolor\":\"white\",\"linecolor\":\"white\",\"ticks\":\"\"},\"radialaxis\":{\"gridcolor\":\"white\",\"linecolor\":\"white\",\"ticks\":\"\"}},\"ternary\":{\"bgcolor\":\"#E5ECF6\",\"aaxis\":{\"gridcolor\":\"white\",\"linecolor\":\"white\",\"ticks\":\"\"},\"baxis\":{\"gridcolor\":\"white\",\"linecolor\":\"white\",\"ticks\":\"\"},\"caxis\":{\"gridcolor\":\"white\",\"linecolor\":\"white\",\"ticks\":\"\"}},\"coloraxis\":{\"colorbar\":{\"outlinewidth\":0,\"ticks\":\"\"}},\"colorscale\":{\"sequential\":[[0.0,\"#0d0887\"],[0.1111111111111111,\"#46039f\"],[0.2222222222222222,\"#7201a8\"],[0.3333333333333333,\"#9c179e\"],[0.4444444444444444,\"#bd3786\"],[0.5555555555555556,\"#d8576b\"],[0.6666666666666666,\"#ed7953\"],[0.7777777777777778,\"#fb9f3a\"],[0.8888888888888888,\"#fdca26\"],[1.0,\"#f0f921\"]],\"sequentialminus\":[[0.0,\"#0d0887\"],[0.1111111111111111,\"#46039f\"],[0.2222222222222222,\"#7201a8\"],[0.3333333333333333,\"#9c179e\"],[0.4444444444444444,\"#bd3786\"],[0.5555555555555556,\"#d8576b\"],[0.6666666666666666,\"#ed7953\"],[0.7777777777777778,\"#fb9f3a\"],[0.8888888888888888,\"#fdca26\"],[1.0,\"#f0f921\"]],\"diverging\":[[0,\"#8e0152\"],[0.1,\"#c51b7d\"],[0.2,\"#de77ae\"],[0.3,\"#f1b6da\"],[0.4,\"#fde0ef\"],[0.5,\"#f7f7f7\"],[0.6,\"#e6f5d0\"],[0.7,\"#b8e186\"],[0.8,\"#7fbc41\"],[0.9,\"#4d9221\"],[1,\"#276419\"]]},\"xaxis\":{\"gridcolor\":\"white\",\"linecolor\":\"white\",\"ticks\":\"\",\"title\":{\"standoff\":15},\"zerolinecolor\":\"white\",\"automargin\":true,\"zerolinewidth\":2},\"yaxis\":{\"gridcolor\":\"white\",\"linecolor\":\"white\",\"ticks\":\"\",\"title\":{\"standoff\":15},\"zerolinecolor\":\"white\",\"automargin\":true,\"zerolinewidth\":2},\"scene\":{\"xaxis\":{\"backgroundcolor\":\"#E5ECF6\",\"gridcolor\":\"white\",\"linecolor\":\"white\",\"showbackground\":true,\"ticks\":\"\",\"zerolinecolor\":\"white\",\"gridwidth\":2},\"yaxis\":{\"backgroundcolor\":\"#E5ECF6\",\"gridcolor\":\"white\",\"linecolor\":\"white\",\"showbackground\":true,\"ticks\":\"\",\"zerolinecolor\":\"white\",\"gridwidth\":2},\"zaxis\":{\"backgroundcolor\":\"#E5ECF6\",\"gridcolor\":\"white\",\"linecolor\":\"white\",\"showbackground\":true,\"ticks\":\"\",\"zerolinecolor\":\"white\",\"gridwidth\":2}},\"shapedefaults\":{\"line\":{\"color\":\"#2a3f5f\"}},\"annotationdefaults\":{\"arrowcolor\":\"#2a3f5f\",\"arrowhead\":0,\"arrowwidth\":1},\"geo\":{\"bgcolor\":\"white\",\"landcolor\":\"#E5ECF6\",\"subunitcolor\":\"white\",\"showland\":true,\"showlakes\":true,\"lakecolor\":\"white\"},\"title\":{\"x\":0.05},\"mapbox\":{\"style\":\"light\"}}},\"xaxis\":{\"anchor\":\"y\",\"domain\":[0.0,0.49],\"title\":{\"text\":\"timestamp\"}},\"yaxis\":{\"anchor\":\"x\",\"domain\":[0.0,0.46499999999999997],\"title\":{\"text\":\"value\"}},\"xaxis2\":{\"anchor\":\"y2\",\"domain\":[0.51,1.0],\"matches\":\"x\",\"title\":{\"text\":\"timestamp\"}},\"yaxis2\":{\"anchor\":\"x2\",\"domain\":[0.0,0.46499999999999997],\"matches\":\"y\",\"showticklabels\":false},\"xaxis3\":{\"anchor\":\"y3\",\"domain\":[0.0,0.49],\"matches\":\"x\",\"showticklabels\":false},\"yaxis3\":{\"anchor\":\"x3\",\"domain\":[0.5349999999999999,0.9999999999999999],\"matches\":\"y\",\"title\":{\"text\":\"value\"}},\"xaxis4\":{\"anchor\":\"y4\",\"domain\":[0.51,1.0],\"matches\":\"x\",\"showticklabels\":false},\"yaxis4\":{\"anchor\":\"x4\",\"domain\":[0.5349999999999999,0.9999999999999999],\"matches\":\"y\",\"showticklabels\":false},\"annotations\":[{\"font\":{},\"showarrow\":false,\"text\":\"group=group-2\",\"x\":0.245,\"xanchor\":\"center\",\"xref\":\"paper\",\"y\":0.46499999999999997,\"yanchor\":\"bottom\",\"yref\":\"paper\"},{\"font\":{},\"showarrow\":false,\"text\":\"group=group-0\",\"x\":0.245,\"xanchor\":\"center\",\"xref\":\"paper\",\"y\":0.9999999999999999,\"yanchor\":\"bottom\",\"yref\":\"paper\"},{\"font\":{},\"showarrow\":false,\"text\":\"group=group-1\",\"x\":0.755,\"xanchor\":\"center\",\"xref\":\"paper\",\"y\":0.9999999999999999,\"yanchor\":\"bottom\",\"yref\":\"paper\"}],\"legend\":{\"title\":{\"text\":\"variable\"},\"tracegroupgap\":0},\"margin\":{\"t\":60,\"r\":200},\"width\":1200,\"height\":800},                        {\"responsive\": true}                    ).then(function(){\n",
       "                            \n",
       "var gd = document.getElementById('fafde940-f061-4c48-9031-9fe9bdf21a7b');\n",
       "var x = new MutationObserver(function (mutations, observer) {{\n",
       "        var display = window.getComputedStyle(gd).display;\n",
       "        if (!display || display === 'none') {{\n",
       "            console.log([gd, 'removed!']);\n",
       "            Plotly.purge(gd);\n",
       "            observer.disconnect();\n",
       "        }}\n",
       "}});\n",
       "\n",
       "// Listen for the removal of the full notebook cells\n",
       "var notebookContainer = gd.closest('#notebook-container');\n",
       "if (notebookContainer) {{\n",
       "    x.observe(notebookContainer, {childList: true});\n",
       "}}\n",
       "\n",
       "// Listen for the clearing of the current output cell\n",
       "var outputEl = gd.closest('.output');\n",
       "if (outputEl) {{\n",
       "    x.observe(outputEl, {childList: true});\n",
       "}}\n",
       "\n",
       "                        })                };                });            </script>        </div>"
      ]
     },
     "metadata": {},
     "output_type": "display_data"
    },
    {
     "data": {
      "application/vnd.plotly.v1+json": {
       "config": {
        "plotlyServerURL": "https://plot.ly"
       },
       "data": [
        {
         "hovertemplate": "group=group-0<br>timestamp=%{x}<br>count=%{y}<extra></extra>",
         "legendgroup": "",
         "line": {
          "color": "#636efa",
          "dash": "solid"
         },
         "marker": {
          "symbol": "circle"
         },
         "mode": "lines",
         "name": "",
         "orientation": "v",
         "showlegend": false,
         "type": "scatter",
         "x": [
          "2022-01-02T00:00:00",
          "2022-01-30T00:00:00",
          "2022-02-27T00:00:00",
          "2022-03-27T00:00:00",
          "2022-04-24T00:00:00",
          "2022-05-22T00:00:00",
          "2022-06-19T00:00:00",
          "2022-07-17T00:00:00",
          "2022-08-14T00:00:00",
          "2022-09-11T00:00:00",
          "2022-10-09T00:00:00",
          "2022-11-06T00:00:00",
          "2022-12-04T00:00:00",
          "2023-01-01T00:00:00"
         ],
         "xaxis": "x3",
         "y": [
          1,
          0.288135593220339,
          0.2033898305084746,
          0.24489795918367346,
          0.21818181818181817,
          0.22033898305084745,
          0.3269230769230769,
          0.2909090909090909,
          0.2692307692307692,
          0.27450980392156865,
          0.23214285714285715,
          0.3148148148148148,
          0.26785714285714285,
          0.25925925925925924
         ],
         "yaxis": "y3"
        },
        {
         "hovertemplate": "group=group-1<br>timestamp=%{x}<br>count=%{y}<extra></extra>",
         "legendgroup": "",
         "line": {
          "color": "#636efa",
          "dash": "solid"
         },
         "marker": {
          "symbol": "circle"
         },
         "mode": "lines",
         "name": "",
         "orientation": "v",
         "showlegend": false,
         "type": "scatter",
         "x": [
          "2022-01-02T00:00:00",
          "2022-01-30T00:00:00",
          "2022-02-27T00:00:00",
          "2022-03-27T00:00:00",
          "2022-04-24T00:00:00",
          "2022-05-22T00:00:00",
          "2022-06-19T00:00:00",
          "2022-07-17T00:00:00",
          "2022-08-14T00:00:00",
          "2022-09-11T00:00:00",
          "2022-10-09T00:00:00",
          "2022-11-06T00:00:00",
          "2022-12-04T00:00:00",
          "2023-01-01T00:00:00"
         ],
         "xaxis": "x4",
         "y": [
          1,
          0.24074074074074073,
          0.2830188679245283,
          0.2857142857142857,
          0.2857142857142857,
          0.23529411764705882,
          0.234375,
          0.2777777777777778,
          0.2962962962962963,
          0.22641509433962265,
          0.2711864406779661,
          0.2222222222222222,
          0.30357142857142855,
          0.24074074074074073
         ],
         "yaxis": "y4"
        },
        {
         "hovertemplate": "group=group-2<br>timestamp=%{x}<br>count=%{y}<extra></extra>",
         "legendgroup": "",
         "line": {
          "color": "#636efa",
          "dash": "solid"
         },
         "marker": {
          "symbol": "circle"
         },
         "mode": "lines",
         "name": "",
         "orientation": "v",
         "showlegend": false,
         "type": "scatter",
         "x": [
          "2022-01-02T00:00:00",
          "2022-01-30T00:00:00",
          "2022-02-27T00:00:00",
          "2022-03-27T00:00:00",
          "2022-04-24T00:00:00",
          "2022-05-22T00:00:00",
          "2022-06-19T00:00:00",
          "2022-07-17T00:00:00",
          "2022-08-14T00:00:00",
          "2022-09-11T00:00:00",
          "2022-10-09T00:00:00",
          "2022-11-06T00:00:00",
          "2022-12-04T00:00:00",
          "2023-01-01T00:00:00"
         ],
         "xaxis": "x",
         "y": [
          1,
          0.21568627450980393,
          0.2807017543859649,
          0.22807017543859648,
          0.2553191489361702,
          0.21568627450980393,
          0.23214285714285715,
          0.23076923076923078,
          0.2711864406779661,
          0.2631578947368421,
          0.22807017543859648,
          0.24561403508771928,
          0.25862068965517243,
          0.23214285714285715
         ],
         "yaxis": "y"
        }
       ],
       "layout": {
        "annotations": [
         {
          "font": {},
          "showarrow": false,
          "text": "group=group-2",
          "x": 0.245,
          "xanchor": "center",
          "xref": "paper",
          "y": 0.46499999999999997,
          "yanchor": "bottom",
          "yref": "paper"
         },
         {
          "font": {},
          "showarrow": false,
          "text": "group=group-0",
          "x": 0.245,
          "xanchor": "center",
          "xref": "paper",
          "y": 0.9999999999999999,
          "yanchor": "bottom",
          "yref": "paper"
         },
         {
          "font": {},
          "showarrow": false,
          "text": "group=group-1",
          "x": 0.755,
          "xanchor": "center",
          "xref": "paper",
          "y": 0.9999999999999999,
          "yanchor": "bottom",
          "yref": "paper"
         }
        ],
        "autosize": true,
        "legend": {
         "tracegroupgap": 0
        },
        "margin": {
         "t": 60
        },
        "template": {
         "data": {
          "bar": [
           {
            "error_x": {
             "color": "#2a3f5f"
            },
            "error_y": {
             "color": "#2a3f5f"
            },
            "marker": {
             "line": {
              "color": "#E5ECF6",
              "width": 0.5
             },
             "pattern": {
              "fillmode": "overlay",
              "size": 10,
              "solidity": 0.2
             }
            },
            "type": "bar"
           }
          ],
          "barpolar": [
           {
            "marker": {
             "line": {
              "color": "#E5ECF6",
              "width": 0.5
             },
             "pattern": {
              "fillmode": "overlay",
              "size": 10,
              "solidity": 0.2
             }
            },
            "type": "barpolar"
           }
          ],
          "carpet": [
           {
            "aaxis": {
             "endlinecolor": "#2a3f5f",
             "gridcolor": "white",
             "linecolor": "white",
             "minorgridcolor": "white",
             "startlinecolor": "#2a3f5f"
            },
            "baxis": {
             "endlinecolor": "#2a3f5f",
             "gridcolor": "white",
             "linecolor": "white",
             "minorgridcolor": "white",
             "startlinecolor": "#2a3f5f"
            },
            "type": "carpet"
           }
          ],
          "choropleth": [
           {
            "colorbar": {
             "outlinewidth": 0,
             "ticks": ""
            },
            "type": "choropleth"
           }
          ],
          "contour": [
           {
            "colorbar": {
             "outlinewidth": 0,
             "ticks": ""
            },
            "colorscale": [
             [
              0,
              "#0d0887"
             ],
             [
              0.1111111111111111,
              "#46039f"
             ],
             [
              0.2222222222222222,
              "#7201a8"
             ],
             [
              0.3333333333333333,
              "#9c179e"
             ],
             [
              0.4444444444444444,
              "#bd3786"
             ],
             [
              0.5555555555555556,
              "#d8576b"
             ],
             [
              0.6666666666666666,
              "#ed7953"
             ],
             [
              0.7777777777777778,
              "#fb9f3a"
             ],
             [
              0.8888888888888888,
              "#fdca26"
             ],
             [
              1,
              "#f0f921"
             ]
            ],
            "type": "contour"
           }
          ],
          "contourcarpet": [
           {
            "colorbar": {
             "outlinewidth": 0,
             "ticks": ""
            },
            "type": "contourcarpet"
           }
          ],
          "heatmap": [
           {
            "colorbar": {
             "outlinewidth": 0,
             "ticks": ""
            },
            "colorscale": [
             [
              0,
              "#0d0887"
             ],
             [
              0.1111111111111111,
              "#46039f"
             ],
             [
              0.2222222222222222,
              "#7201a8"
             ],
             [
              0.3333333333333333,
              "#9c179e"
             ],
             [
              0.4444444444444444,
              "#bd3786"
             ],
             [
              0.5555555555555556,
              "#d8576b"
             ],
             [
              0.6666666666666666,
              "#ed7953"
             ],
             [
              0.7777777777777778,
              "#fb9f3a"
             ],
             [
              0.8888888888888888,
              "#fdca26"
             ],
             [
              1,
              "#f0f921"
             ]
            ],
            "type": "heatmap"
           }
          ],
          "heatmapgl": [
           {
            "colorbar": {
             "outlinewidth": 0,
             "ticks": ""
            },
            "colorscale": [
             [
              0,
              "#0d0887"
             ],
             [
              0.1111111111111111,
              "#46039f"
             ],
             [
              0.2222222222222222,
              "#7201a8"
             ],
             [
              0.3333333333333333,
              "#9c179e"
             ],
             [
              0.4444444444444444,
              "#bd3786"
             ],
             [
              0.5555555555555556,
              "#d8576b"
             ],
             [
              0.6666666666666666,
              "#ed7953"
             ],
             [
              0.7777777777777778,
              "#fb9f3a"
             ],
             [
              0.8888888888888888,
              "#fdca26"
             ],
             [
              1,
              "#f0f921"
             ]
            ],
            "type": "heatmapgl"
           }
          ],
          "histogram": [
           {
            "marker": {
             "pattern": {
              "fillmode": "overlay",
              "size": 10,
              "solidity": 0.2
             }
            },
            "type": "histogram"
           }
          ],
          "histogram2d": [
           {
            "colorbar": {
             "outlinewidth": 0,
             "ticks": ""
            },
            "colorscale": [
             [
              0,
              "#0d0887"
             ],
             [
              0.1111111111111111,
              "#46039f"
             ],
             [
              0.2222222222222222,
              "#7201a8"
             ],
             [
              0.3333333333333333,
              "#9c179e"
             ],
             [
              0.4444444444444444,
              "#bd3786"
             ],
             [
              0.5555555555555556,
              "#d8576b"
             ],
             [
              0.6666666666666666,
              "#ed7953"
             ],
             [
              0.7777777777777778,
              "#fb9f3a"
             ],
             [
              0.8888888888888888,
              "#fdca26"
             ],
             [
              1,
              "#f0f921"
             ]
            ],
            "type": "histogram2d"
           }
          ],
          "histogram2dcontour": [
           {
            "colorbar": {
             "outlinewidth": 0,
             "ticks": ""
            },
            "colorscale": [
             [
              0,
              "#0d0887"
             ],
             [
              0.1111111111111111,
              "#46039f"
             ],
             [
              0.2222222222222222,
              "#7201a8"
             ],
             [
              0.3333333333333333,
              "#9c179e"
             ],
             [
              0.4444444444444444,
              "#bd3786"
             ],
             [
              0.5555555555555556,
              "#d8576b"
             ],
             [
              0.6666666666666666,
              "#ed7953"
             ],
             [
              0.7777777777777778,
              "#fb9f3a"
             ],
             [
              0.8888888888888888,
              "#fdca26"
             ],
             [
              1,
              "#f0f921"
             ]
            ],
            "type": "histogram2dcontour"
           }
          ],
          "mesh3d": [
           {
            "colorbar": {
             "outlinewidth": 0,
             "ticks": ""
            },
            "type": "mesh3d"
           }
          ],
          "parcoords": [
           {
            "line": {
             "colorbar": {
              "outlinewidth": 0,
              "ticks": ""
             }
            },
            "type": "parcoords"
           }
          ],
          "pie": [
           {
            "automargin": true,
            "type": "pie"
           }
          ],
          "scatter": [
           {
            "fillpattern": {
             "fillmode": "overlay",
             "size": 10,
             "solidity": 0.2
            },
            "type": "scatter"
           }
          ],
          "scatter3d": [
           {
            "line": {
             "colorbar": {
              "outlinewidth": 0,
              "ticks": ""
             }
            },
            "marker": {
             "colorbar": {
              "outlinewidth": 0,
              "ticks": ""
             }
            },
            "type": "scatter3d"
           }
          ],
          "scattercarpet": [
           {
            "marker": {
             "colorbar": {
              "outlinewidth": 0,
              "ticks": ""
             }
            },
            "type": "scattercarpet"
           }
          ],
          "scattergeo": [
           {
            "marker": {
             "colorbar": {
              "outlinewidth": 0,
              "ticks": ""
             }
            },
            "type": "scattergeo"
           }
          ],
          "scattergl": [
           {
            "marker": {
             "colorbar": {
              "outlinewidth": 0,
              "ticks": ""
             }
            },
            "type": "scattergl"
           }
          ],
          "scattermapbox": [
           {
            "marker": {
             "colorbar": {
              "outlinewidth": 0,
              "ticks": ""
             }
            },
            "type": "scattermapbox"
           }
          ],
          "scatterpolar": [
           {
            "marker": {
             "colorbar": {
              "outlinewidth": 0,
              "ticks": ""
             }
            },
            "type": "scatterpolar"
           }
          ],
          "scatterpolargl": [
           {
            "marker": {
             "colorbar": {
              "outlinewidth": 0,
              "ticks": ""
             }
            },
            "type": "scatterpolargl"
           }
          ],
          "scatterternary": [
           {
            "marker": {
             "colorbar": {
              "outlinewidth": 0,
              "ticks": ""
             }
            },
            "type": "scatterternary"
           }
          ],
          "surface": [
           {
            "colorbar": {
             "outlinewidth": 0,
             "ticks": ""
            },
            "colorscale": [
             [
              0,
              "#0d0887"
             ],
             [
              0.1111111111111111,
              "#46039f"
             ],
             [
              0.2222222222222222,
              "#7201a8"
             ],
             [
              0.3333333333333333,
              "#9c179e"
             ],
             [
              0.4444444444444444,
              "#bd3786"
             ],
             [
              0.5555555555555556,
              "#d8576b"
             ],
             [
              0.6666666666666666,
              "#ed7953"
             ],
             [
              0.7777777777777778,
              "#fb9f3a"
             ],
             [
              0.8888888888888888,
              "#fdca26"
             ],
             [
              1,
              "#f0f921"
             ]
            ],
            "type": "surface"
           }
          ],
          "table": [
           {
            "cells": {
             "fill": {
              "color": "#EBF0F8"
             },
             "line": {
              "color": "white"
             }
            },
            "header": {
             "fill": {
              "color": "#C8D4E3"
             },
             "line": {
              "color": "white"
             }
            },
            "type": "table"
           }
          ]
         },
         "layout": {
          "annotationdefaults": {
           "arrowcolor": "#2a3f5f",
           "arrowhead": 0,
           "arrowwidth": 1
          },
          "autotypenumbers": "strict",
          "coloraxis": {
           "colorbar": {
            "outlinewidth": 0,
            "ticks": ""
           }
          },
          "colorscale": {
           "diverging": [
            [
             0,
             "#8e0152"
            ],
            [
             0.1,
             "#c51b7d"
            ],
            [
             0.2,
             "#de77ae"
            ],
            [
             0.3,
             "#f1b6da"
            ],
            [
             0.4,
             "#fde0ef"
            ],
            [
             0.5,
             "#f7f7f7"
            ],
            [
             0.6,
             "#e6f5d0"
            ],
            [
             0.7,
             "#b8e186"
            ],
            [
             0.8,
             "#7fbc41"
            ],
            [
             0.9,
             "#4d9221"
            ],
            [
             1,
             "#276419"
            ]
           ],
           "sequential": [
            [
             0,
             "#0d0887"
            ],
            [
             0.1111111111111111,
             "#46039f"
            ],
            [
             0.2222222222222222,
             "#7201a8"
            ],
            [
             0.3333333333333333,
             "#9c179e"
            ],
            [
             0.4444444444444444,
             "#bd3786"
            ],
            [
             0.5555555555555556,
             "#d8576b"
            ],
            [
             0.6666666666666666,
             "#ed7953"
            ],
            [
             0.7777777777777778,
             "#fb9f3a"
            ],
            [
             0.8888888888888888,
             "#fdca26"
            ],
            [
             1,
             "#f0f921"
            ]
           ],
           "sequentialminus": [
            [
             0,
             "#0d0887"
            ],
            [
             0.1111111111111111,
             "#46039f"
            ],
            [
             0.2222222222222222,
             "#7201a8"
            ],
            [
             0.3333333333333333,
             "#9c179e"
            ],
            [
             0.4444444444444444,
             "#bd3786"
            ],
            [
             0.5555555555555556,
             "#d8576b"
            ],
            [
             0.6666666666666666,
             "#ed7953"
            ],
            [
             0.7777777777777778,
             "#fb9f3a"
            ],
            [
             0.8888888888888888,
             "#fdca26"
            ],
            [
             1,
             "#f0f921"
            ]
           ]
          },
          "colorway": [
           "#636efa",
           "#EF553B",
           "#00cc96",
           "#ab63fa",
           "#FFA15A",
           "#19d3f3",
           "#FF6692",
           "#B6E880",
           "#FF97FF",
           "#FECB52"
          ],
          "font": {
           "color": "#2a3f5f"
          },
          "geo": {
           "bgcolor": "white",
           "lakecolor": "white",
           "landcolor": "#E5ECF6",
           "showlakes": true,
           "showland": true,
           "subunitcolor": "white"
          },
          "hoverlabel": {
           "align": "left"
          },
          "hovermode": "closest",
          "mapbox": {
           "style": "light"
          },
          "paper_bgcolor": "white",
          "plot_bgcolor": "#E5ECF6",
          "polar": {
           "angularaxis": {
            "gridcolor": "white",
            "linecolor": "white",
            "ticks": ""
           },
           "bgcolor": "#E5ECF6",
           "radialaxis": {
            "gridcolor": "white",
            "linecolor": "white",
            "ticks": ""
           }
          },
          "scene": {
           "xaxis": {
            "backgroundcolor": "#E5ECF6",
            "gridcolor": "white",
            "gridwidth": 2,
            "linecolor": "white",
            "showbackground": true,
            "ticks": "",
            "zerolinecolor": "white"
           },
           "yaxis": {
            "backgroundcolor": "#E5ECF6",
            "gridcolor": "white",
            "gridwidth": 2,
            "linecolor": "white",
            "showbackground": true,
            "ticks": "",
            "zerolinecolor": "white"
           },
           "zaxis": {
            "backgroundcolor": "#E5ECF6",
            "gridcolor": "white",
            "gridwidth": 2,
            "linecolor": "white",
            "showbackground": true,
            "ticks": "",
            "zerolinecolor": "white"
           }
          },
          "shapedefaults": {
           "line": {
            "color": "#2a3f5f"
           }
          },
          "ternary": {
           "aaxis": {
            "gridcolor": "white",
            "linecolor": "white",
            "ticks": ""
           },
           "baxis": {
            "gridcolor": "white",
            "linecolor": "white",
            "ticks": ""
           },
           "bgcolor": "#E5ECF6",
           "caxis": {
            "gridcolor": "white",
            "linecolor": "white",
            "ticks": ""
           }
          },
          "title": {
           "x": 0.05
          },
          "xaxis": {
           "automargin": true,
           "gridcolor": "white",
           "linecolor": "white",
           "ticks": "",
           "title": {
            "standoff": 15
           },
           "zerolinecolor": "white",
           "zerolinewidth": 2
          },
          "yaxis": {
           "automargin": true,
           "gridcolor": "white",
           "linecolor": "white",
           "ticks": "",
           "title": {
            "standoff": 15
           },
           "zerolinecolor": "white",
           "zerolinewidth": 2
          }
         }
        },
        "xaxis": {
         "anchor": "y",
         "autorange": true,
         "domain": [
          0,
          0.49
         ],
         "range": [
          "2022-01-02",
          "2023-01-01"
         ],
         "title": {
          "text": "timestamp"
         },
         "type": "date"
        },
        "xaxis2": {
         "anchor": "y2",
         "domain": [
          0.51,
          1
         ],
         "matches": "x",
         "title": {
          "text": "timestamp"
         }
        },
        "xaxis3": {
         "anchor": "y3",
         "autorange": true,
         "domain": [
          0,
          0.49
         ],
         "matches": "x",
         "range": [
          "2022-01-02",
          "2023-01-01"
         ],
         "showticklabels": false,
         "type": "date"
        },
        "xaxis4": {
         "anchor": "y4",
         "autorange": true,
         "domain": [
          0.51,
          1
         ],
         "matches": "x",
         "range": [
          "2022-01-02",
          "2023-01-01"
         ],
         "showticklabels": false,
         "type": "date"
        },
        "yaxis": {
         "anchor": "x",
         "autorange": true,
         "domain": [
          0,
          0.46499999999999997
         ],
         "range": [
          0.15913370998116763,
          1.0442561205273069
         ],
         "title": {
          "text": "count"
         },
         "type": "linear"
        },
        "yaxis2": {
         "anchor": "x2",
         "domain": [
          0,
          0.46499999999999997
         ],
         "matches": "y",
         "showticklabels": false
        },
        "yaxis3": {
         "anchor": "x3",
         "autorange": true,
         "domain": [
          0.5349999999999999,
          0.9999999999999999
         ],
         "matches": "y",
         "range": [
          0.15913370998116763,
          1.0442561205273069
         ],
         "title": {
          "text": "count"
         },
         "type": "linear"
        },
        "yaxis4": {
         "anchor": "x4",
         "autorange": true,
         "domain": [
          0.5349999999999999,
          0.9999999999999999
         ],
         "matches": "y",
         "range": [
          0.15913370998116763,
          1.0442561205273069
         ],
         "showticklabels": false,
         "type": "linear"
        }
       }
      },
      "image/png": "[encoded data removed]",
      "text/html": [
       "<div>                            <div id=\"f72ee8f8-fc93-4279-914e-8c1a6ae390fd\" class=\"plotly-graph-div\" style=\"height:525px; width:100%;\"></div>            <script type=\"text/javascript\">                require([\"plotly\"], function(Plotly) {                    window.PLOTLYENV=window.PLOTLYENV || {};                                    if (document.getElementById(\"f72ee8f8-fc93-4279-914e-8c1a6ae390fd\")) {                    Plotly.newPlot(                        \"f72ee8f8-fc93-4279-914e-8c1a6ae390fd\",                        [{\"hovertemplate\":\"group=group-0<br>timestamp=%{x}<br>count=%{y}<extra></extra>\",\"legendgroup\":\"\",\"line\":{\"color\":\"#636efa\",\"dash\":\"solid\"},\"marker\":{\"symbol\":\"circle\"},\"mode\":\"lines\",\"name\":\"\",\"orientation\":\"v\",\"showlegend\":false,\"x\":[\"2022-01-02T00:00:00\",\"2022-01-30T00:00:00\",\"2022-02-27T00:00:00\",\"2022-03-27T00:00:00\",\"2022-04-24T00:00:00\",\"2022-05-22T00:00:00\",\"2022-06-19T00:00:00\",\"2022-07-17T00:00:00\",\"2022-08-14T00:00:00\",\"2022-09-11T00:00:00\",\"2022-10-09T00:00:00\",\"2022-11-06T00:00:00\",\"2022-12-04T00:00:00\",\"2023-01-01T00:00:00\"],\"xaxis\":\"x3\",\"y\":[1.0,0.288135593220339,0.2033898305084746,0.24489795918367346,0.21818181818181817,0.22033898305084745,0.3269230769230769,0.2909090909090909,0.2692307692307692,0.27450980392156865,0.23214285714285715,0.3148148148148148,0.26785714285714285,0.25925925925925924],\"yaxis\":\"y3\",\"type\":\"scatter\"},{\"hovertemplate\":\"group=group-1<br>timestamp=%{x}<br>count=%{y}<extra></extra>\",\"legendgroup\":\"\",\"line\":{\"color\":\"#636efa\",\"dash\":\"solid\"},\"marker\":{\"symbol\":\"circle\"},\"mode\":\"lines\",\"name\":\"\",\"orientation\":\"v\",\"showlegend\":false,\"x\":[\"2022-01-02T00:00:00\",\"2022-01-30T00:00:00\",\"2022-02-27T00:00:00\",\"2022-03-27T00:00:00\",\"2022-04-24T00:00:00\",\"2022-05-22T00:00:00\",\"2022-06-19T00:00:00\",\"2022-07-17T00:00:00\",\"2022-08-14T00:00:00\",\"2022-09-11T00:00:00\",\"2022-10-09T00:00:00\",\"2022-11-06T00:00:00\",\"2022-12-04T00:00:00\",\"2023-01-01T00:00:00\"],\"xaxis\":\"x4\",\"y\":[1.0,0.24074074074074073,0.2830188679245283,0.2857142857142857,0.2857142857142857,0.23529411764705882,0.234375,0.2777777777777778,0.2962962962962963,0.22641509433962265,0.2711864406779661,0.2222222222222222,0.30357142857142855,0.24074074074074073],\"yaxis\":\"y4\",\"type\":\"scatter\"},{\"hovertemplate\":\"group=group-2<br>timestamp=%{x}<br>count=%{y}<extra></extra>\",\"legendgroup\":\"\",\"line\":{\"color\":\"#636efa\",\"dash\":\"solid\"},\"marker\":{\"symbol\":\"circle\"},\"mode\":\"lines\",\"name\":\"\",\"orientation\":\"v\",\"showlegend\":false,\"x\":[\"2022-01-02T00:00:00\",\"2022-01-30T00:00:00\",\"2022-02-27T00:00:00\",\"2022-03-27T00:00:00\",\"2022-04-24T00:00:00\",\"2022-05-22T00:00:00\",\"2022-06-19T00:00:00\",\"2022-07-17T00:00:00\",\"2022-08-14T00:00:00\",\"2022-09-11T00:00:00\",\"2022-10-09T00:00:00\",\"2022-11-06T00:00:00\",\"2022-12-04T00:00:00\",\"2023-01-01T00:00:00\"],\"xaxis\":\"x\",\"y\":[1.0,0.21568627450980393,0.2807017543859649,0.22807017543859648,0.2553191489361702,0.21568627450980393,0.23214285714285715,0.23076923076923078,0.2711864406779661,0.2631578947368421,0.22807017543859648,0.24561403508771928,0.25862068965517243,0.23214285714285715],\"yaxis\":\"y\",\"type\":\"scatter\"}],                        {\"template\":{\"data\":{\"histogram2dcontour\":[{\"type\":\"histogram2dcontour\",\"colorbar\":{\"outlinewidth\":0,\"ticks\":\"\"},\"colorscale\":[[0.0,\"#0d0887\"],[0.1111111111111111,\"#46039f\"],[0.2222222222222222,\"#7201a8\"],[0.3333333333333333,\"#9c179e\"],[0.4444444444444444,\"#bd3786\"],[0.5555555555555556,\"#d8576b\"],[0.6666666666666666,\"#ed7953\"],[0.7777777777777778,\"#fb9f3a\"],[0.8888888888888888,\"#fdca26\"],[1.0,\"#f0f921\"]]}],\"choropleth\":[{\"type\":\"choropleth\",\"colorbar\":{\"outlinewidth\":0,\"ticks\":\"\"}}],\"histogram2d\":[{\"type\":\"histogram2d\",\"colorbar\":{\"outlinewidth\":0,\"ticks\":\"\"},\"colorscale\":[[0.0,\"#0d0887\"],[0.1111111111111111,\"#46039f\"],[0.2222222222222222,\"#7201a8\"],[0.3333333333333333,\"#9c179e\"],[0.4444444444444444,\"#bd3786\"],[0.5555555555555556,\"#d8576b\"],[0.6666666666666666,\"#ed7953\"],[0.7777777777777778,\"#fb9f3a\"],[0.8888888888888888,\"#fdca26\"],[1.0,\"#f0f921\"]]}],\"heatmap\":[{\"type\":\"heatmap\",\"colorbar\":{\"outlinewidth\":0,\"ticks\":\"\"},\"colorscale\":[[0.0,\"#0d0887\"],[0.1111111111111111,\"#46039f\"],[0.2222222222222222,\"#7201a8\"],[0.3333333333333333,\"#9c179e\"],[0.4444444444444444,\"#bd3786\"],[0.5555555555555556,\"#d8576b\"],[0.6666666666666666,\"#ed7953\"],[0.7777777777777778,\"#fb9f3a\"],[0.8888888888888888,\"#fdca26\"],[1.0,\"#f0f921\"]]}],\"heatmapgl\":[{\"type\":\"heatmapgl\",\"colorbar\":{\"outlinewidth\":0,\"ticks\":\"\"},\"colorscale\":[[0.0,\"#0d0887\"],[0.1111111111111111,\"#46039f\"],[0.2222222222222222,\"#7201a8\"],[0.3333333333333333,\"#9c179e\"],[0.4444444444444444,\"#bd3786\"],[0.5555555555555556,\"#d8576b\"],[0.6666666666666666,\"#ed7953\"],[0.7777777777777778,\"#fb9f3a\"],[0.8888888888888888,\"#fdca26\"],[1.0,\"#f0f921\"]]}],\"contourcarpet\":[{\"type\":\"contourcarpet\",\"colorbar\":{\"outlinewidth\":0,\"ticks\":\"\"}}],\"contour\":[{\"type\":\"contour\",\"colorbar\":{\"outlinewidth\":0,\"ticks\":\"\"},\"colorscale\":[[0.0,\"#0d0887\"],[0.1111111111111111,\"#46039f\"],[0.2222222222222222,\"#7201a8\"],[0.3333333333333333,\"#9c179e\"],[0.4444444444444444,\"#bd3786\"],[0.5555555555555556,\"#d8576b\"],[0.6666666666666666,\"#ed7953\"],[0.7777777777777778,\"#fb9f3a\"],[0.8888888888888888,\"#fdca26\"],[1.0,\"#f0f921\"]]}],\"surface\":[{\"type\":\"surface\",\"colorbar\":{\"outlinewidth\":0,\"ticks\":\"\"},\"colorscale\":[[0.0,\"#0d0887\"],[0.1111111111111111,\"#46039f\"],[0.2222222222222222,\"#7201a8\"],[0.3333333333333333,\"#9c179e\"],[0.4444444444444444,\"#bd3786\"],[0.5555555555555556,\"#d8576b\"],[0.6666666666666666,\"#ed7953\"],[0.7777777777777778,\"#fb9f3a\"],[0.8888888888888888,\"#fdca26\"],[1.0,\"#f0f921\"]]}],\"mesh3d\":[{\"type\":\"mesh3d\",\"colorbar\":{\"outlinewidth\":0,\"ticks\":\"\"}}],\"scatter\":[{\"fillpattern\":{\"fillmode\":\"overlay\",\"size\":10,\"solidity\":0.2},\"type\":\"scatter\"}],\"parcoords\":[{\"type\":\"parcoords\",\"line\":{\"colorbar\":{\"outlinewidth\":0,\"ticks\":\"\"}}}],\"scatterpolargl\":[{\"type\":\"scatterpolargl\",\"marker\":{\"colorbar\":{\"outlinewidth\":0,\"ticks\":\"\"}}}],\"bar\":[{\"error_x\":{\"color\":\"#2a3f5f\"},\"error_y\":{\"color\":\"#2a3f5f\"},\"marker\":{\"line\":{\"color\":\"#E5ECF6\",\"width\":0.5},\"pattern\":{\"fillmode\":\"overlay\",\"size\":10,\"solidity\":0.2}},\"type\":\"bar\"}],\"scattergeo\":[{\"type\":\"scattergeo\",\"marker\":{\"colorbar\":{\"outlinewidth\":0,\"ticks\":\"\"}}}],\"scatterpolar\":[{\"type\":\"scatterpolar\",\"marker\":{\"colorbar\":{\"outlinewidth\":0,\"ticks\":\"\"}}}],\"histogram\":[{\"marker\":{\"pattern\":{\"fillmode\":\"overlay\",\"size\":10,\"solidity\":0.2}},\"type\":\"histogram\"}],\"scattergl\":[{\"type\":\"scattergl\",\"marker\":{\"colorbar\":{\"outlinewidth\":0,\"ticks\":\"\"}}}],\"scatter3d\":[{\"type\":\"scatter3d\",\"line\":{\"colorbar\":{\"outlinewidth\":0,\"ticks\":\"\"}},\"marker\":{\"colorbar\":{\"outlinewidth\":0,\"ticks\":\"\"}}}],\"scattermapbox\":[{\"type\":\"scattermapbox\",\"marker\":{\"colorbar\":{\"outlinewidth\":0,\"ticks\":\"\"}}}],\"scatterternary\":[{\"type\":\"scatterternary\",\"marker\":{\"colorbar\":{\"outlinewidth\":0,\"ticks\":\"\"}}}],\"scattercarpet\":[{\"type\":\"scattercarpet\",\"marker\":{\"colorbar\":{\"outlinewidth\":0,\"ticks\":\"\"}}}],\"carpet\":[{\"aaxis\":{\"endlinecolor\":\"#2a3f5f\",\"gridcolor\":\"white\",\"linecolor\":\"white\",\"minorgridcolor\":\"white\",\"startlinecolor\":\"#2a3f5f\"},\"baxis\":{\"endlinecolor\":\"#2a3f5f\",\"gridcolor\":\"white\",\"linecolor\":\"white\",\"minorgridcolor\":\"white\",\"startlinecolor\":\"#2a3f5f\"},\"type\":\"carpet\"}],\"table\":[{\"cells\":{\"fill\":{\"color\":\"#EBF0F8\"},\"line\":{\"color\":\"white\"}},\"header\":{\"fill\":{\"color\":\"#C8D4E3\"},\"line\":{\"color\":\"white\"}},\"type\":\"table\"}],\"barpolar\":[{\"marker\":{\"line\":{\"color\":\"#E5ECF6\",\"width\":0.5},\"pattern\":{\"fillmode\":\"overlay\",\"size\":10,\"solidity\":0.2}},\"type\":\"barpolar\"}],\"pie\":[{\"automargin\":true,\"type\":\"pie\"}]},\"layout\":{\"autotypenumbers\":\"strict\",\"colorway\":[\"#636efa\",\"#EF553B\",\"#00cc96\",\"#ab63fa\",\"#FFA15A\",\"#19d3f3\",\"#FF6692\",\"#B6E880\",\"#FF97FF\",\"#FECB52\"],\"font\":{\"color\":\"#2a3f5f\"},\"hovermode\":\"closest\",\"hoverlabel\":{\"align\":\"left\"},\"paper_bgcolor\":\"white\",\"plot_bgcolor\":\"#E5ECF6\",\"polar\":{\"bgcolor\":\"#E5ECF6\",\"angularaxis\":{\"gridcolor\":\"white\",\"linecolor\":\"white\",\"ticks\":\"\"},\"radialaxis\":{\"gridcolor\":\"white\",\"linecolor\":\"white\",\"ticks\":\"\"}},\"ternary\":{\"bgcolor\":\"#E5ECF6\",\"aaxis\":{\"gridcolor\":\"white\",\"linecolor\":\"white\",\"ticks\":\"\"},\"baxis\":{\"gridcolor\":\"white\",\"linecolor\":\"white\",\"ticks\":\"\"},\"caxis\":{\"gridcolor\":\"white\",\"linecolor\":\"white\",\"ticks\":\"\"}},\"coloraxis\":{\"colorbar\":{\"outlinewidth\":0,\"ticks\":\"\"}},\"colorscale\":{\"sequential\":[[0.0,\"#0d0887\"],[0.1111111111111111,\"#46039f\"],[0.2222222222222222,\"#7201a8\"],[0.3333333333333333,\"#9c179e\"],[0.4444444444444444,\"#bd3786\"],[0.5555555555555556,\"#d8576b\"],[0.6666666666666666,\"#ed7953\"],[0.7777777777777778,\"#fb9f3a\"],[0.8888888888888888,\"#fdca26\"],[1.0,\"#f0f921\"]],\"sequentialminus\":[[0.0,\"#0d0887\"],[0.1111111111111111,\"#46039f\"],[0.2222222222222222,\"#7201a8\"],[0.3333333333333333,\"#9c179e\"],[0.4444444444444444,\"#bd3786\"],[0.5555555555555556,\"#d8576b\"],[0.6666666666666666,\"#ed7953\"],[0.7777777777777778,\"#fb9f3a\"],[0.8888888888888888,\"#fdca26\"],[1.0,\"#f0f921\"]],\"diverging\":[[0,\"#8e0152\"],[0.1,\"#c51b7d\"],[0.2,\"#de77ae\"],[0.3,\"#f1b6da\"],[0.4,\"#fde0ef\"],[0.5,\"#f7f7f7\"],[0.6,\"#e6f5d0\"],[0.7,\"#b8e186\"],[0.8,\"#7fbc41\"],[0.9,\"#4d9221\"],[1,\"#276419\"]]},\"xaxis\":{\"gridcolor\":\"white\",\"linecolor\":\"white\",\"ticks\":\"\",\"title\":{\"standoff\":15},\"zerolinecolor\":\"white\",\"automargin\":true,\"zerolinewidth\":2},\"yaxis\":{\"gridcolor\":\"white\",\"linecolor\":\"white\",\"ticks\":\"\",\"title\":{\"standoff\":15},\"zerolinecolor\":\"white\",\"automargin\":true,\"zerolinewidth\":2},\"scene\":{\"xaxis\":{\"backgroundcolor\":\"#E5ECF6\",\"gridcolor\":\"white\",\"linecolor\":\"white\",\"showbackground\":true,\"ticks\":\"\",\"zerolinecolor\":\"white\",\"gridwidth\":2},\"yaxis\":{\"backgroundcolor\":\"#E5ECF6\",\"gridcolor\":\"white\",\"linecolor\":\"white\",\"showbackground\":true,\"ticks\":\"\",\"zerolinecolor\":\"white\",\"gridwidth\":2},\"zaxis\":{\"backgroundcolor\":\"#E5ECF6\",\"gridcolor\":\"white\",\"linecolor\":\"white\",\"showbackground\":true,\"ticks\":\"\",\"zerolinecolor\":\"white\",\"gridwidth\":2}},\"shapedefaults\":{\"line\":{\"color\":\"#2a3f5f\"}},\"annotationdefaults\":{\"arrowcolor\":\"#2a3f5f\",\"arrowhead\":0,\"arrowwidth\":1},\"geo\":{\"bgcolor\":\"white\",\"landcolor\":\"#E5ECF6\",\"subunitcolor\":\"white\",\"showland\":true,\"showlakes\":true,\"lakecolor\":\"white\"},\"title\":{\"x\":0.05},\"mapbox\":{\"style\":\"light\"}}},\"xaxis\":{\"anchor\":\"y\",\"domain\":[0.0,0.49],\"title\":{\"text\":\"timestamp\"}},\"yaxis\":{\"anchor\":\"x\",\"domain\":[0.0,0.46499999999999997],\"title\":{\"text\":\"count\"}},\"xaxis2\":{\"anchor\":\"y2\",\"domain\":[0.51,1.0],\"matches\":\"x\",\"title\":{\"text\":\"timestamp\"}},\"yaxis2\":{\"anchor\":\"x2\",\"domain\":[0.0,0.46499999999999997],\"matches\":\"y\",\"showticklabels\":false},\"xaxis3\":{\"anchor\":\"y3\",\"domain\":[0.0,0.49],\"matches\":\"x\",\"showticklabels\":false},\"yaxis3\":{\"anchor\":\"x3\",\"domain\":[0.5349999999999999,0.9999999999999999],\"matches\":\"y\",\"title\":{\"text\":\"count\"}},\"xaxis4\":{\"anchor\":\"y4\",\"domain\":[0.51,1.0],\"matches\":\"x\",\"showticklabels\":false},\"yaxis4\":{\"anchor\":\"x4\",\"domain\":[0.5349999999999999,0.9999999999999999],\"matches\":\"y\",\"showticklabels\":false},\"annotations\":[{\"font\":{},\"showarrow\":false,\"text\":\"group=group-2\",\"x\":0.245,\"xanchor\":\"center\",\"xref\":\"paper\",\"y\":0.46499999999999997,\"yanchor\":\"bottom\",\"yref\":\"paper\"},{\"font\":{},\"showarrow\":false,\"text\":\"group=group-0\",\"x\":0.245,\"xanchor\":\"center\",\"xref\":\"paper\",\"y\":0.9999999999999999,\"yanchor\":\"bottom\",\"yref\":\"paper\"},{\"font\":{},\"showarrow\":false,\"text\":\"group=group-1\",\"x\":0.755,\"xanchor\":\"center\",\"xref\":\"paper\",\"y\":0.9999999999999999,\"yanchor\":\"bottom\",\"yref\":\"paper\"}],\"legend\":{\"tracegroupgap\":0},\"margin\":{\"t\":60}},                        {\"responsive\": true}                    ).then(function(){\n",
       "                            \n",
       "var gd = document.getElementById('f72ee8f8-fc93-4279-914e-8c1a6ae390fd');\n",
       "var x = new MutationObserver(function (mutations, observer) {{\n",
       "        var display = window.getComputedStyle(gd).display;\n",
       "        if (!display || display === 'none') {{\n",
       "            console.log([gd, 'removed!']);\n",
       "            Plotly.purge(gd);\n",
       "            observer.disconnect();\n",
       "        }}\n",
       "}});\n",
       "\n",
       "// Listen for the removal of the full notebook cells\n",
       "var notebookContainer = gd.closest('#notebook-container');\n",
       "if (notebookContainer) {{\n",
       "    x.observe(notebookContainer, {childList: true});\n",
       "}}\n",
       "\n",
       "// Listen for the clearing of the current output cell\n",
       "var outputEl = gd.closest('.output');\n",
       "if (outputEl) {{\n",
       "    x.observe(outputEl, {childList: true});\n",
       "}}\n",
       "\n",
       "                        })                };                });            </script>        </div>"
      ]
     },
     "metadata": {},
     "output_type": "display_data"
    }
   ],
   "source": [
    "new = (\n",
    "    create_matrix_username_columns(df, COL_GROUP)\n",
    "    .assign(\n",
    "        dau=create_matrix_username_columns(df, COL_GROUP).sum(axis=1),\n",
    "        new_user=get_new_user(df, COL_GROUP),\n",
    "        retained_user=get_retained_user(df, COL_GROUP),\n",
    "        churned_user=get_churned_user(df, COL_GROUP),\n",
    "        continuous_churned_user=get_continuous_churned_user(df, COL_GROUP),\n",
    "        resurrected_user=get_resurrected_user(df, COL_GROUP),\n",
    "    )\n",
    "    .fillna(0)\n",
    ")\n",
    "\n",
    "new[\"total\"] = (\n",
    "    new.new_user\n",
    "    + new.retained_user\n",
    "    + new.resurrected_user\n",
    "    + new.churned_user\n",
    "    + new.continuous_churned_user\n",
    ")\n",
    "new[\"check\"] = new.dau == new.new_user + new.retained_user + new.resurrected_user\n",
    "\n",
    "## Plot\n",
    "new[\"quick_ratio\"] = (new.new_user + new.resurrected_user) / new.churned_user\n",
    "new[\"churned_user\"] = -new[\"churned_user\"]\n",
    "new[\"continuous_churned_user\"] = -new[\"continuous_churned_user\"]\n",
    "# display(new[new.total != num_users])\n",
    "\n",
    "# WebGL mode\n",
    "fig_dau = go.Scattergl(\n",
    "    x=new.index,\n",
    "    y=new[\"dau\"],\n",
    "    name=\"dau\",\n",
    "    mode=\"lines+markers\",\n",
    ")\n",
    "\n",
    "fig_quick_ratio = go.Scattergl(\n",
    "    x=new.index,\n",
    "    y=new[\"quick_ratio\"],\n",
    "    name=\"quick_ratio\",\n",
    "    mode=\"lines+markers\",\n",
    ")\n",
    "\n",
    "facet_col_args = {\"facet_col\": \"group\", \"facet_col_wrap\": 2}\n",
    "commomn_layout = {\n",
    "    \"width\": 1200,\n",
    "    \"height\": 800,\n",
    "    \"margin\": {\"r\": 200},\n",
    "}\n",
    "fig = (\n",
    "    px.bar(\n",
    "        new.reset_index(),\n",
    "        x=\"timestamp\",\n",
    "        y=[\"new_user\", \"retained_user\", \"resurrected_user\", \"churned_user\"],\n",
    "        **facet_col_args\n",
    "    )\n",
    ").update_layout(**commomn_layout)\n",
    "fig_dau = px.line(\n",
    "    new.reset_index(),\n",
    "    x=\"timestamp\",\n",
    "    y=[\"dau\"],\n",
    "    markers=True,\n",
    "    render_mode=\"webgl\",\n",
    "    **facet_col_args\n",
    ").update_traces(line_color=\"green\")\n",
    "fig.add_traces(fig_dau.data)\n",
    "fig.show()\n",
    "\n",
    "fig_quick_ratio = (\n",
    "    px.line(\n",
    "        new.reset_index(),\n",
    "        x=\"timestamp\",\n",
    "        y=[\"quick_ratio\"],\n",
    "        markers=True,\n",
    "        render_mode=\"webgl\",\n",
    "        **facet_col_args\n",
    "    ).update_traces(line_color=\"orange\")\n",
    ").update_layout(**commomn_layout)\n",
    "fig_quick_ratio.show()\n",
    "\n",
    "fig_auau = px.line(\n",
    "    get_au1_au2(df, COL_GROUP, \"W\", \"4W\").reset_index(),\n",
    "    x=\"timestamp\",\n",
    "    y=\"count\",\n",
    "    **facet_col_args\n",
    ")\n",
    "fig_auau.show()"
   ]
  },
  {
   "cell_type": "markdown",
   "id": "1dda00b5-a34c-4500-b76e-d92fef009095",
   "metadata": {},
   "source": [
    "# Other metrics TBD\n",
    "* MAU / installation count\n",
    "* new user / MAU\n",
    "* DAU / MAU\n",
    "* Dn / Mn / Wn metrics\n",
    "* TBD\n",
    "  * Lness\n",
    "  * Cohort"
   ]
  },
  {
   "cell_type": "code",
   "execution_count": 978,
   "id": "d92e615e-f60d-4009-a182-37716a261680",
   "metadata": {},
   "outputs": [
    {
     "ename": "TypeError",
     "evalue": "get_new_user() missing 1 required positional argument: 'add_column'",
     "output_type": "error",
     "traceback": [
      "\u001b[0;31m---------------------------------------------------------------------------\u001b[0m",
      "\u001b[0;31mTypeError\u001b[0m                                 Traceback (most recent call last)",
      "\u001b[0;32m<ipython-input-978-900737161e99>\u001b[0m in \u001b[0;36m<module>\u001b[0;34m\u001b[0m\n\u001b[1;32m      6\u001b[0m     )\n\u001b[1;32m      7\u001b[0m \u001b[0;34m\u001b[0m\u001b[0m\n\u001b[0;32m----> 8\u001b[0;31m \u001b[0mget_new_user_mau\u001b[0m\u001b[0;34m(\u001b[0m\u001b[0mdf\u001b[0m\u001b[0;34m)\u001b[0m\u001b[0;34m.\u001b[0m\u001b[0mplot\u001b[0m\u001b[0;34m.\u001b[0m\u001b[0mbar\u001b[0m\u001b[0;34m(\u001b[0m\u001b[0;34m)\u001b[0m\u001b[0;34m\u001b[0m\u001b[0;34m\u001b[0m\u001b[0m\n\u001b[0m\u001b[1;32m      9\u001b[0m \u001b[0;34m\u001b[0m\u001b[0m\n\u001b[1;32m     10\u001b[0m \u001b[0;32mdef\u001b[0m \u001b[0mget_mau_installation\u001b[0m\u001b[0;34m(\u001b[0m\u001b[0mdf\u001b[0m\u001b[0;34m,\u001b[0m \u001b[0mfreq\u001b[0m\u001b[0;34m=\u001b[0m\u001b[0;34m'W-SUN'\u001b[0m\u001b[0;34m)\u001b[0m\u001b[0;34m:\u001b[0m\u001b[0;34m\u001b[0m\u001b[0;34m\u001b[0m\u001b[0m\n",
      "\u001b[0;32m<ipython-input-978-900737161e99>\u001b[0m in \u001b[0;36mget_new_user_mau\u001b[0;34m(df, freq)\u001b[0m\n\u001b[1;32m      1\u001b[0m \u001b[0;32mdef\u001b[0m \u001b[0mget_new_user_mau\u001b[0m\u001b[0;34m(\u001b[0m\u001b[0mdf\u001b[0m\u001b[0;34m,\u001b[0m \u001b[0mfreq\u001b[0m\u001b[0;34m=\u001b[0m\u001b[0;34m'W-SUN'\u001b[0m\u001b[0;34m)\u001b[0m\u001b[0;34m:\u001b[0m\u001b[0;34m\u001b[0m\u001b[0;34m\u001b[0m\u001b[0m\n\u001b[1;32m      2\u001b[0m     return (\n\u001b[0;32m----> 3\u001b[0;31m         \u001b[0mpd\u001b[0m\u001b[0;34m.\u001b[0m\u001b[0mDataFrame\u001b[0m\u001b[0;34m(\u001b[0m\u001b[0mget_new_user\u001b[0m\u001b[0;34m(\u001b[0m\u001b[0mdf\u001b[0m\u001b[0;34m)\u001b[0m\u001b[0;34m)\u001b[0m\u001b[0;34m.\u001b[0m\u001b[0mreset_index\u001b[0m\u001b[0;34m(\u001b[0m\u001b[0;34m)\u001b[0m\u001b[0;34m.\u001b[0m\u001b[0mgroupby\u001b[0m\u001b[0;34m(\u001b[0m\u001b[0mpd\u001b[0m\u001b[0;34m.\u001b[0m\u001b[0mGrouper\u001b[0m\u001b[0;34m(\u001b[0m\u001b[0mkey\u001b[0m\u001b[0;34m=\u001b[0m\u001b[0;34m'index'\u001b[0m\u001b[0;34m,\u001b[0m \u001b[0mfreq\u001b[0m\u001b[0;34m=\u001b[0m\u001b[0mfreq\u001b[0m\u001b[0;34m)\u001b[0m\u001b[0;34m)\u001b[0m\u001b[0;34m.\u001b[0m\u001b[0msum\u001b[0m\u001b[0;34m(\u001b[0m\u001b[0;34m)\u001b[0m\u001b[0;34m\u001b[0m\u001b[0;34m\u001b[0m\u001b[0m\n\u001b[0m\u001b[1;32m      4\u001b[0m         \u001b[0;34m/\u001b[0m\u001b[0;34m\u001b[0m\u001b[0;34m\u001b[0m\u001b[0m\n\u001b[1;32m      5\u001b[0m         \u001b[0mpd\u001b[0m\u001b[0;34m.\u001b[0m\u001b[0mDataFrame\u001b[0m\u001b[0;34m(\u001b[0m\u001b[0mget_dau\u001b[0m\u001b[0;34m(\u001b[0m\u001b[0mdf\u001b[0m\u001b[0;34m)\u001b[0m\u001b[0;34m)\u001b[0m\u001b[0;34m.\u001b[0m\u001b[0mreset_index\u001b[0m\u001b[0;34m(\u001b[0m\u001b[0;34m)\u001b[0m\u001b[0;34m.\u001b[0m\u001b[0mgroupby\u001b[0m\u001b[0;34m(\u001b[0m\u001b[0mpd\u001b[0m\u001b[0;34m.\u001b[0m\u001b[0mGrouper\u001b[0m\u001b[0;34m(\u001b[0m\u001b[0mkey\u001b[0m\u001b[0;34m=\u001b[0m\u001b[0;34m'index'\u001b[0m\u001b[0;34m,\u001b[0m \u001b[0mfreq\u001b[0m\u001b[0;34m=\u001b[0m\u001b[0mfreq\u001b[0m\u001b[0;34m)\u001b[0m\u001b[0;34m)\u001b[0m\u001b[0;34m.\u001b[0m\u001b[0msum\u001b[0m\u001b[0;34m(\u001b[0m\u001b[0;34m)\u001b[0m\u001b[0;34m\u001b[0m\u001b[0;34m\u001b[0m\u001b[0m\n",
      "\u001b[0;31mTypeError\u001b[0m: get_new_user() missing 1 required positional argument: 'add_column'"
     ]
    }
   ],
   "source": [
    "def get_new_user_mau(df, freq=\"W-SUN\"):\n",
    "    return (\n",
    "        pd.DataFrame(get_new_user(df))\n",
    "        .reset_index()\n",
    "        .groupby(pd.Grouper(key=\"index\", freq=freq))\n",
    "        .sum()\n",
    "        / pd.DataFrame(get_dau(df))\n",
    "        .reset_index()\n",
    "        .groupby(pd.Grouper(key=\"index\", freq=freq))\n",
    "        .sum()\n",
    "    )\n",
    "\n",
    "\n",
    "get_new_user_mau(df).plot.bar()\n",
    "\n",
    "\n",
    "def get_mau_installation(df, freq=\"W-SUN\"):\n",
    "    return pd.DataFrame(get_dau(df)).reset_index().groupby(\n",
    "        pd.Grouper(key=\"index\", freq=freq)\n",
    "    ).sum().fillna(0) / pd.DataFrame(get_new_user(df)).reset_index().groupby(\n",
    "        pd.Grouper(key=\"index\", freq=freq)\n",
    "    ).sum().cumsum().fillna(\n",
    "        0\n",
    "    )\n",
    "\n",
    "\n",
    "get_mau_installation(df).plot()\n",
    "\n",
    "\n",
    "def get_dn_wn_mn_metrics(\n",
    "    df, range_=[(1, 0), (7, 1), (28, 7), (84, 28), (84, 28), (364, 84)]\n",
    "):\n",
    "    def app(x):\n",
    "        first = x.idxmax()\n",
    "        return x.loc[first:].reset_index(drop=True)\n",
    "\n",
    "    dn = df.T.apply(app, axis=1)\n",
    "    pairs = {\n",
    "        f\"d{pair[0]}_d{pair[1]}\": (\n",
    "            (dn.loc[:, pair[0]] == 1).sum() / (dn.loc[:, pair[1]] == 1).sum()\n",
    "        )\n",
    "        for pair in range_\n",
    "        if dn.shape[1] > pair[0]\n",
    "    }\n",
    "\n",
    "    return pairs\n",
    "\n",
    "\n",
    "get_dn_wn_mn_metrics(df, [(elem + 1, elem) for elem in range(8)])"
   ]
  }
 ],
 "metadata": {
  "kernelspec": {
   "display_name": "Python 3",
   "language": "python",
   "name": "python3"
  },
  "language_info": {
   "codemirror_mode": {
    "name": "ipython",
    "version": 3
   },
   "file_extension": ".py",
   "mimetype": "text/x-python",
   "name": "python",
   "nbconvert_exporter": "python",
   "pygments_lexer": "ipython3",
   "version": "3.9.5"
  }
 },
 "nbformat": 4,
 "nbformat_minor": 5
}
